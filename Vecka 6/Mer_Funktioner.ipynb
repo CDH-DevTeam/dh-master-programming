{
 "cells": [
  {
   "cell_type": "markdown",
   "metadata": {},
   "source": [
    "# Mer om Funktioner\n",
    "Vi har tidigare täckt funktioner. Dessa är centrala objekt i många programmeringsspråk, speciellt i Python. Vi börjar med litet repitition."
   ]
  },
  {
   "cell_type": "code",
   "execution_count": 1,
   "metadata": {},
   "outputs": [],
   "source": [
    "def read_file(file_path):\n",
    "\n",
    "    with open(file_path, \"r\") as f:\n",
    "        text = f.readlines()\n",
    "\n",
    "    return text"
   ]
  },
  {
   "cell_type": "markdown",
   "metadata": {},
   "source": [
    "En funktionsdefinition består av flera komponenter.\n",
    "- *funktionshandtaget*-/*namnet*: `read_file`\n",
    "- *argumenten*/*inputen*/*parametrarna*: `file_path`\n",
    "- *returvärdet*: `text`\n",
    "\n",
    "Vi skall titta litet närmare på dessa. Betrakta funktionen ovanför, och försök skriva ut variablerna `file_path`, `f`, eller `text`. Se till att du kört cellen ovanför."
   ]
  },
  {
   "cell_type": "code",
   "execution_count": 2,
   "metadata": {},
   "outputs": [
    {
     "ename": "NameError",
     "evalue": "name 'file_path' is not defined",
     "output_type": "error",
     "traceback": [
      "\u001b[0;31m---------------------------------------------------------------------------\u001b[0m",
      "\u001b[0;31mNameError\u001b[0m                                 Traceback (most recent call last)",
      "\u001b[1;32m/home/vws/Projects/undervisning/dh/dh-master-programming/Vecka 6/Mer_Funktioner.ipynb Cell 4\u001b[0m in \u001b[0;36m<cell line: 1>\u001b[0;34m()\u001b[0m\n\u001b[0;32m----> <a href='vscode-notebook-cell:/home/vws/Projects/undervisning/dh/dh-master-programming/Vecka%206/Mer_Funktioner.ipynb#W3sZmlsZQ%3D%3D?line=0'>1</a>\u001b[0m \u001b[39mprint\u001b[39m(file_path)\n",
      "\u001b[0;31mNameError\u001b[0m: name 'file_path' is not defined"
     ]
    }
   ],
   "source": [
    "print(file_path)"
   ]
  },
  {
   "cell_type": "markdown",
   "metadata": {},
   "source": [
    "Ni kommer få felmeddelanden att dessa variabler inte är definierade. Detta beror på att `file_path`, `f` och `text` är så kallade **lokala variabler**, som endast är tillgängliga inuti funktionen."
   ]
  },
  {
   "cell_type": "markdown",
   "metadata": {},
   "source": [
    "## Lokala variabler och *scope*\n",
    "\n",
    "Variabler kan definieras på en rad olika sätt. Det vanligaste sättet är med ett tilldelningstecken"
   ]
  },
  {
   "cell_type": "code",
   "execution_count": 3,
   "metadata": {},
   "outputs": [
    {
     "name": "stdout",
     "output_type": "stream",
     "text": [
      "Stockholm\n"
     ]
    }
   ],
   "source": [
    "x = \"Stockholm\"\n",
    "print(x)"
   ]
  },
  {
   "cell_type": "markdown",
   "metadata": {},
   "source": [
    "där `x` tar värdet `\"Stockholm\"`.\n",
    "\n",
    "De kan också definieras med hjälp av en loop:"
   ]
  },
  {
   "cell_type": "code",
   "execution_count": 12,
   "metadata": {},
   "outputs": [
    {
     "name": "stdout",
     "output_type": "stream",
     "text": [
      "Stockholm\n",
      "Gothenburg\n",
      "Malmö\n",
      "Last value:  Malmö\n"
     ]
    }
   ],
   "source": [
    "for x in [\"Stockholm\", \"Gothenburg\", \"Malmö\"]:\n",
    "    print(x)\n",
    "\n",
    "print(\"Last value: \", x)"
   ]
  },
  {
   "cell_type": "markdown",
   "metadata": {},
   "source": [
    "här definieras `x` i loopens sats, och tar värdena `\"Stockholm\"`, `\"Gothenburg\"`, respektive `\"Malmö\"` i varje iteration. Variabeln behåller också värdet i sista iterationen.\n",
    "\n",
    "Ett tredje sätt är med en `with`-sats som i funktionen ovan:"
   ]
  },
  {
   "cell_type": "code",
   "execution_count": 13,
   "metadata": {},
   "outputs": [
    {
     "name": "stdout",
     "output_type": "stream",
     "text": [
      "<_io.TextIOWrapper name='test.txt' mode='w' encoding='UTF-8'>\n"
     ]
    }
   ],
   "source": [
    "with open(\"test.txt\", \"w\") as file:\n",
    "    print(file)"
   ]
  },
  {
   "cell_type": "markdown",
   "metadata": {},
   "source": [
    "Observera att variabelnamnet kan vara vad som helst. Det finns dock konventioner på vad de brukar vara. Filer brukar kallas för `file`, `f` eller likande, filvägar för `file_path`, `filename` o.s.v. I alla dessa fall så kan vi komma åt variabeldefinitionerna efter att de fått sina värden. \n",
    "\n",
    "Variablerna i definierat i så kallat *globalt* omfång, eller *scope*.\n",
    "\n",
    "Om vi dock definierar en funktion..."
   ]
  },
  {
   "cell_type": "code",
   "execution_count": 9,
   "metadata": {},
   "outputs": [
    {
     "ename": "NameError",
     "evalue": "name 'local_var' is not defined",
     "output_type": "error",
     "traceback": [
      "\u001b[0;31m---------------------------------------------------------------------------\u001b[0m",
      "\u001b[0;31mNameError\u001b[0m                                 Traceback (most recent call last)",
      "\u001b[1;32m/home/vws/Projects/undervisning/dh/dh-master-programming/Vecka 6/Mer_Funktioner.ipynb Cell 13\u001b[0m in \u001b[0;36m<cell line: 5>\u001b[0;34m()\u001b[0m\n\u001b[1;32m      <a href='vscode-notebook-cell:/home/vws/Projects/undervisning/dh/dh-master-programming/Vecka%206/Mer_Funktioner.ipynb#X16sZmlsZQ%3D%3D?line=0'>1</a>\u001b[0m \u001b[39mdef\u001b[39;00m \u001b[39mexample_function\u001b[39m():\n\u001b[1;32m      <a href='vscode-notebook-cell:/home/vws/Projects/undervisning/dh/dh-master-programming/Vecka%206/Mer_Funktioner.ipynb#X16sZmlsZQ%3D%3D?line=2'>3</a>\u001b[0m     local_var \u001b[39m=\u001b[39m \u001b[39m\"\u001b[39m\u001b[39mEstocolmo\u001b[39m\u001b[39m\"\u001b[39m\n\u001b[0;32m----> <a href='vscode-notebook-cell:/home/vws/Projects/undervisning/dh/dh-master-programming/Vecka%206/Mer_Funktioner.ipynb#X16sZmlsZQ%3D%3D?line=4'>5</a>\u001b[0m \u001b[39mprint\u001b[39m(local_var)\n",
      "\u001b[0;31mNameError\u001b[0m: name 'local_var' is not defined"
     ]
    }
   ],
   "source": [
    "def example_function():\n",
    "\n",
    "    local_var = \"Estocolmo\"\n",
    "\n",
    "print(local_var)"
   ]
  },
  {
   "cell_type": "markdown",
   "metadata": {},
   "source": [
    "så kommer vi inte åt värdet utanför funktionen.\n",
    "\n",
    "Denna variabel är definierad i *lokalt scope*. Observera att som namnet antyder, så kan vi dock komma åt globala variabler i ett lokalt scope. När vi exekverar funktionen kommer den att komma åt både sin lokala variabel `local var`, samt den globala variabeln `x`."
   ]
  },
  {
   "cell_type": "code",
   "execution_count": 14,
   "metadata": {},
   "outputs": [
    {
     "name": "stdout",
     "output_type": "stream",
     "text": [
      "Malmö\n"
     ]
    }
   ],
   "source": [
    "def example_function():\n",
    "\n",
    "    local_var = \"Estocolmo\"\n",
    "    print(x)\n",
    "    print(local_var)\n",
    "\n",
    "example_function()"
   ]
  },
  {
   "cell_type": "markdown",
   "metadata": {},
   "source": [
    "Det sista sättet att definiera en variabel sker på global nivå. Detta görs genom funktionsargumenten:"
   ]
  },
  {
   "cell_type": "code",
   "execution_count": 15,
   "metadata": {},
   "outputs": [],
   "source": [
    "def area_of_circle(radius):\n",
    "\n",
    "    pi   = 3.14\n",
    "    area = pi * radius * radius\n",
    "\n",
    "    return area"
   ]
  },
  {
   "cell_type": "markdown",
   "metadata": {},
   "source": [
    "I denna situation har vi 3 lokala variabler, `pi`, `area`, samt `radius`. De två första definieras med ett värde som vanligt, medan `radius` saknar ett värde. Den är endast *deklarerad*. \n",
    "\n",
    "Vid funktionsdefinitionen har den inget värde. Värdet skickas in när man använder funktionen. \n",
    "\n",
    "Namnet på variabeln som skickas till funktionen spelar ingen roll inuti funktionen - där får den oavsett namnet `radius` i vårt fall. `radius` är en lokal variabel vi ger ett värde när vi skickar input till funktionen."
   ]
  },
  {
   "cell_type": "code",
   "execution_count": null,
   "metadata": {},
   "outputs": [],
   "source": [
    "a = area_of_circle(2) # Send raw value\n",
    "\n",
    "radius = 2\n",
    "a = area_of_circle(radius) # Send variable with value, observe that the name does not matter. \n",
    "\n",
    "r = 123\n",
    "a = area_of_circle(r) # other variable with other value"
   ]
  },
  {
   "cell_type": "markdown",
   "metadata": {},
   "source": [
    "Lokala variabler kan ha vilket namn som helst, förutom samma namn som funktionshandtaget. Detta leder till förvirring för språket."
   ]
  },
  {
   "cell_type": "code",
   "execution_count": 16,
   "metadata": {},
   "outputs": [],
   "source": [
    "def velocity(distance, time):\n",
    "\n",
    "    # NOT velocity\n",
    "    v = distance / time\n",
    "\n",
    "    return v"
   ]
  },
  {
   "cell_type": "markdown",
   "metadata": {},
   "source": [
    "It is considered very poor practice to access global variables in a local function scope. Here is an example what **not** to do:"
   ]
  },
  {
   "cell_type": "code",
   "execution_count": 18,
   "metadata": {},
   "outputs": [],
   "source": [
    "radius = 3\n",
    "\n",
    "def area_of_circle_wrong():\n",
    "\n",
    "    pi   = 3.14\n",
    "    area = pi * radius * radius\n",
    "\n",
    "    return area"
   ]
  },
  {
   "cell_type": "code",
   "execution_count": 19,
   "metadata": {},
   "outputs": [
    {
     "data": {
      "text/plain": [
       "28.259999999999998"
      ]
     },
     "execution_count": 19,
     "metadata": {},
     "output_type": "execute_result"
    }
   ],
   "source": [
    "area_of_circle_wrong() # No value supplied"
   ]
  },
  {
   "cell_type": "code",
   "execution_count": 20,
   "metadata": {},
   "outputs": [
    {
     "data": {
      "text/plain": [
       "3.14"
      ]
     },
     "execution_count": 20,
     "metadata": {},
     "output_type": "execute_result"
    }
   ],
   "source": [
    "radius = 1\n",
    "area_of_circle_wrong() # We have to explicitly set a variable called radius"
   ]
  },
  {
   "cell_type": "code",
   "execution_count": 21,
   "metadata": {},
   "outputs": [
    {
     "data": {
      "text/plain": [
       "3.14"
      ]
     },
     "execution_count": 21,
     "metadata": {},
     "output_type": "execute_result"
    }
   ],
   "source": [
    "r = 1\n",
    "area_of_circle_wrong() # The variable radius still refers to the global variable"
   ]
  },
  {
   "cell_type": "markdown",
   "metadata": {},
   "source": [
    "## Nyckelords-variabler\n",
    "När man har flera argument till funktioner, så avgörs vilket värde som går till vilken lokal variabel av *ordningen*. Argumenten kallas ibland för *positionsargument*. Här är ett exempel:"
   ]
  },
  {
   "cell_type": "code",
   "execution_count": 24,
   "metadata": {},
   "outputs": [
    {
     "name": "stdout",
     "output_type": "stream",
     "text": [
      "-1 1\n"
     ]
    }
   ],
   "source": [
    "def subtract(a, b):\n",
    "\n",
    "    return a-b\n",
    "\n",
    "r1 = subtract(2, 3) # a gets the value 2, b gets the value 3\n",
    "r2 = subtract(3, 2) # a gets the value 3, b gets the value 2\n",
    "\n",
    "print(r1, r2)"
   ]
  },
  {
   "cell_type": "markdown",
   "metadata": {},
   "source": [
    "Python tillåter dock att man explicit anger vilket argument man vill sätta till vilket värde. Man kan då ändra ordningen på argumenten till funktionen. Syntaxen är väldigt snarlik andra situationer:"
   ]
  },
  {
   "cell_type": "code",
   "execution_count": 25,
   "metadata": {},
   "outputs": [
    {
     "name": "stdout",
     "output_type": "stream",
     "text": [
      "True\n"
     ]
    }
   ],
   "source": [
    "r3 = subtract(a=3, b=2)\n",
    "r4 = subtract(b=2, a=3)\n",
    "\n",
    "print(r3 == r4)"
   ]
  },
  {
   "cell_type": "markdown",
   "metadata": {},
   "source": [
    "Nyckelordsvariabler används ofta frekvent för att definiera *default-värden* på argument. Detta gör att det inte blir obligatoriskt att ange alla inputargument."
   ]
  },
  {
   "cell_type": "code",
   "execution_count": 27,
   "metadata": {},
   "outputs": [],
   "source": [
    "def greet_user(first_name, last_name, greeting=\"Hello\"):\n",
    "\n",
    "    return greeting + \", \" + first_name + \" \" + last_name"
   ]
  },
  {
   "cell_type": "code",
   "execution_count": 28,
   "metadata": {},
   "outputs": [
    {
     "data": {
      "text/plain": [
       "'Hello, Victor Wåhlstrand Skärström'"
      ]
     },
     "execution_count": 28,
     "metadata": {},
     "output_type": "execute_result"
    }
   ],
   "source": [
    "greet_user(\"Victor\", \"Wåhlstrand Skärström\")"
   ]
  },
  {
   "cell_type": "code",
   "execution_count": 31,
   "metadata": {},
   "outputs": [
    {
     "data": {
      "text/plain": [
       "'Välkommen, Victor Wåhlstrand Skärström'"
      ]
     },
     "execution_count": 31,
     "metadata": {},
     "output_type": "execute_result"
    }
   ],
   "source": [
    "greet_user(\"Victor\", \"Wåhlstrand Skärström\", \"Välkommen\")"
   ]
  },
  {
   "cell_type": "code",
   "execution_count": 30,
   "metadata": {},
   "outputs": [
    {
     "data": {
      "text/plain": [
       "'Hallihalloj, Victor Wåhlstrand Skärström'"
      ]
     },
     "execution_count": 30,
     "metadata": {},
     "output_type": "execute_result"
    }
   ],
   "source": [
    "greet_user(\"Victor\", \"Wåhlstrand Skärström\", greeting=\"Hallihalloj\")"
   ]
  },
  {
   "cell_type": "code",
   "execution_count": 32,
   "metadata": {},
   "outputs": [
    {
     "data": {
      "text/plain": [
       "'Hallihalloj, Victor Wåhlstrand Skärström'"
      ]
     },
     "execution_count": 32,
     "metadata": {},
     "output_type": "execute_result"
    }
   ],
   "source": [
    "greet_user(first_name=\"Victor\", last_name=\"Wåhlstrand Skärström\", greeting=\"Hallihalloj\")"
   ]
  },
  {
   "cell_type": "markdown",
   "metadata": {},
   "source": [
    "Det är vanligt att man blandar nyckelordsargument och vanliga argument, och detta står programmeraren fritt. Däremot finns det en syntaxmässig begränsning - man kan aldrig kalla på nyckelordsargument *innan* positionsargument. Detta förstör ordningen, och Python kan inte gissa vilken som är först."
   ]
  },
  {
   "cell_type": "code",
   "execution_count": 33,
   "metadata": {},
   "outputs": [
    {
     "ename": "SyntaxError",
     "evalue": "positional argument follows keyword argument (3510542101.py, line 1)",
     "output_type": "error",
     "traceback": [
      "\u001b[0;36m  Input \u001b[0;32mIn [33]\u001b[0;36m\u001b[0m\n\u001b[0;31m    greet_user(greeting=\"Hallihalloj\", \"Victor\", \"Wåhlstrand Skärström\")\u001b[0m\n\u001b[0m                                                                       ^\u001b[0m\n\u001b[0;31mSyntaxError\u001b[0m\u001b[0;31m:\u001b[0m positional argument follows keyword argument\n"
     ]
    }
   ],
   "source": [
    "greet_user(greeting=\"Hallihalloj\", \"Victor\", \"Wåhlstrand Skärström\")"
   ]
  },
  {
   "cell_type": "markdown",
   "metadata": {},
   "source": []
  }
 ],
 "metadata": {
  "kernelspec": {
   "display_name": "Python 3.10.4 ('teaching')",
   "language": "python",
   "name": "python3"
  },
  "language_info": {
   "codemirror_mode": {
    "name": "ipython",
    "version": 3
   },
   "file_extension": ".py",
   "mimetype": "text/x-python",
   "name": "python",
   "nbconvert_exporter": "python",
   "pygments_lexer": "ipython3",
   "version": "3.10.4"
  },
  "orig_nbformat": 4,
  "vscode": {
   "interpreter": {
    "hash": "0e79bad72861022d3c6602e5c1fc0d128a7160c16fa8dc23e33c27176f214652"
   }
  }
 },
 "nbformat": 4,
 "nbformat_minor": 2
}
