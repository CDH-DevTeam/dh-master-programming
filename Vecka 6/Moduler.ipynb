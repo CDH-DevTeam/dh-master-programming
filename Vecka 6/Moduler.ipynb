{
 "cells": [
  {
   "cell_type": "markdown",
   "metadata": {},
   "source": [
    "# Moduler, importer och Python-filer\n",
    "Vi skall nu titta på att göra kod så återanvändbar som möjligt. Vanligtvis skrivs in Python-kod i Jupyter Notebooks, utan i så kallade `.py`-filer. Dessa kan man importera och återanvända koden ifrån.\n",
    "\n",
    "Därutöver har många andra personer och organisationer producerat kod som är organiserad i så kallade *moduler*, vilka i grunden endast är python-filer. Dessa återanvänds på precis samma sätt."
   ]
  },
  {
   "cell_type": "markdown",
   "metadata": {},
   "source": [
    "## Egna moduler\n",
    "Definiera ett antal funktioner och variabler i en fil med ändelsen `.py`.\n",
    "\n",
    "I vårt exempel skriver vi ett antal funktioner om input-output och kallar filen för `input_output.py`. Vi kan komma åt de funktioner vi definierade genom att använda en så kallad import-sats:"
   ]
  },
  {
   "cell_type": "code",
   "execution_count": 4,
   "metadata": {},
   "outputs": [],
   "source": [
    "import input_output"
   ]
  },
  {
   "cell_type": "markdown",
   "metadata": {},
   "source": [
    "De definierade funktionerna och variablerna kommer vi åt genom att använda punkt-notation:"
   ]
  },
  {
   "cell_type": "code",
   "execution_count": 5,
   "metadata": {},
   "outputs": [
    {
     "data": {
      "text/plain": [
       "'\\n            Sorlar sorlar, susar\\n            sommarregnets sorl,\\n            alla trädens våta\\n            blad ock knoppar gråta\\n            dropp - dropp - dropp\\n            och därnedan rusar\\n            bäck i sorl och porl\\n            bäck i sorl.\\n            '"
      ]
     },
     "execution_count": 5,
     "metadata": {},
     "output_type": "execute_result"
    }
   ],
   "source": [
    "input_output.sample_text"
   ]
  },
  {
   "cell_type": "markdown",
   "metadata": {},
   "source": [
    "Man kan också importera en specifik medlem i filen, genom `from ... import ...`, då behövs ingen punkt-notation. Observera att den importerade funktionen då också skriver över funktioner med samma namn."
   ]
  },
  {
   "cell_type": "code",
   "execution_count": 6,
   "metadata": {},
   "outputs": [],
   "source": [
    "from input_output import write_text_file"
   ]
  },
  {
   "cell_type": "markdown",
   "metadata": {},
   "source": [
    "Ibland är det så att man har paket med liknande namn som krockar, eller att man helt enkelt inte vill skriva ut hela filnamnet (som kan vara långt). Då finns en smidig `import ... as ...`-sats:"
   ]
  },
  {
   "cell_type": "code",
   "execution_count": 7,
   "metadata": {},
   "outputs": [
    {
     "data": {
      "text/plain": [
       "'\\n            Sorlar sorlar, susar\\n            sommarregnets sorl,\\n            alla trädens våta\\n            blad ock knoppar gråta\\n            dropp - dropp - dropp\\n            och därnedan rusar\\n            bäck i sorl och porl\\n            bäck i sorl.\\n            '"
      ]
     },
     "execution_count": 7,
     "metadata": {},
     "output_type": "execute_result"
    }
   ],
   "source": [
    "import input_output as io\n",
    "\n",
    "io.sample_text"
   ]
  },
  {
   "cell_type": "markdown",
   "metadata": {},
   "source": [
    "## Andras moduler\n",
    "Andras moduler kan importeras på samma sätt. Vill man installera ett nytt paket, finns det en så kallad \"pakethanterare\", som heter `pip`, och detta ska vi titta närmare på under nästa föreläsning.\n",
    "\n",
    "Vi begränsar denna gången till moduler som är installerade på vår JupyterHub. Här är några exempel vi använt i kursen hittills:"
   ]
  },
  {
   "cell_type": "code",
   "execution_count": 12,
   "metadata": {},
   "outputs": [
    {
     "data": {
      "image/png": "[encoded data removed]",
      "text/plain": [
       "<Figure size 432x288 with 1 Axes>"
      ]
     },
     "metadata": {
      "needs_background": "light"
     },
     "output_type": "display_data"
    }
   ],
   "source": [
    "import numpy\n",
    "from pandas import date_range\n",
    "import matplotlib.pyplot as plt\n",
    "\n",
    "dates = date_range(\"2020-01-01\", \"2022-01-01\") # Creates a list of dates in an interval\n",
    "data_array = numpy.ones(len(dates)) # Creates an array of ones\n",
    "\n",
    "plt.plot(dates, data_array) # Plots data\n",
    "plt.xticks(rotation=45)\n",
    "plt.show()\n"
   ]
  },
  {
   "cell_type": "markdown",
   "metadata": {},
   "source": [
    "I dessa fall importerar vi hela biblioteket `numpy` utan att döpa om det. I fallet `date_range` importerar vi endast en funktion från `pandas`, övriga funktioner i paketet/modulen är otillgängliga.\n",
    "\n",
    "För `matplotlib` hämtar vi undermodulen `pyplot` och döper om denna till `plt`.\n",
    "\n",
    "Det finns en uppsjö bibliotek tillgängliga online på olika repositorier, samt möjligheten att publicera sina egna."
   ]
  },
  {
   "cell_type": "markdown",
   "metadata": {},
   "source": []
  }
 ],
 "metadata": {
  "kernelspec": {
   "display_name": "Python 3.10.4 ('teaching')",
   "language": "python",
   "name": "python3"
  },
  "language_info": {
   "codemirror_mode": {
    "name": "ipython",
    "version": 3
   },
   "file_extension": ".py",
   "mimetype": "text/x-python",
   "name": "python",
   "nbconvert_exporter": "python",
   "pygments_lexer": "ipython3",
   "version": "3.10.4"
  },
  "orig_nbformat": 4,
  "vscode": {
   "interpreter": {
    "hash": "0e79bad72861022d3c6602e5c1fc0d128a7160c16fa8dc23e33c27176f214652"
   }
  }
 },
 "nbformat": 4,
 "nbformat_minor": 2
}
