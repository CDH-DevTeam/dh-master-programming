{
 "cells": [
  {
   "cell_type": "markdown",
   "metadata": {},
   "source": [
    "# Uppgift 1 - Ordfrekvenser efter specifikation\n",
    "Modularisera koden för att beräkna ordfrekvenser som skrevs i `NLP_101_Word_frequencies.ipynb`. \n",
    "\n",
    "1. Skapa en funktion `normalize_and_split_text` som tar ett argument `text`, en textsträng, samt ett returvärde, en lista med er text i små bokstäver och splittad på ordnivå, d.v.s. på formen `[\"general\", \"kenobi\", \"hello\", \"there\"]`.\n",
    "2. Skapa en funktion vid namn `count_words_in_list` som tar som inargument en lista med formatet `[\"general\", \"kenobi\", \"hello\", \"there\"]` och returnerar ett dictionary `counts` med formatet `{\"ord\": 53, \"annat_ord\": 89, \"choklad\": 453, ...}`\n",
    "\n",
    "\n",
    "När dessa funktioner är definierade finns en fördefinierad funktion `word_freqs_from_text` som tar ett argument `text`, en textsträng, samt ett returvärde, ett dictionary `counts` med formatet `{\"ord\": 53, \"annat_ord\": 89, \"choklad\": 453, ...}`. När ni definierat era egna två funktioner och kört deras celler, skall denna funktion gå att köra som den är. De nedersta två cellerna testar era funktioner och jämför med en inbyggd variant.\n",
    "\n",
    "\n",
    "Ni får själva definiera en någorlunda lång text att testa er funktion på, men jag har använt den tidigare texten av Boye."
   ]
  },
  {
   "cell_type": "code",
   "execution_count": null,
   "metadata": {},
   "outputs": [],
   "source": [
    "# Definiera normalize_and_split_text här"
   ]
  },
  {
   "cell_type": "code",
   "execution_count": null,
   "metadata": {},
   "outputs": [],
   "source": [
    "# Definiera count_words_in_list här"
   ]
  },
  {
   "cell_type": "code",
   "execution_count": null,
   "metadata": {},
   "outputs": [],
   "source": [
    "def word_freqs_from_text(text):\n",
    "    \"\"\"A function which calculates the word frequencies of a given text string.\n",
    "\n",
    "    Args:\n",
    "        text (str): A text as a string\n",
    "\n",
    "    Returns:\n",
    "        Dict: A dictionary with word-count key-value pairs.\n",
    "    \"\"\"\n",
    "\n",
    "    normalized_split_text = normalized_split_text(text) #TODO: Define this function above\n",
    "\n",
    "    counts = count_words_in_list(normalized_split_text) #TODO: Define this function above\n",
    "\n",
    "    return counts\n"
   ]
  },
  {
   "cell_type": "code",
   "execution_count": null,
   "metadata": {},
   "outputs": [],
   "source": [
    "\n",
    "boye = \"Vi är din skara, som du svek, Herre. Förtrösta! bjöd du och det blev värre. Ur ondskans dimmor steg ingen ljusning, ur tordönet ingen sakta susning. Vi skalv i öknen övergivna med hårda bud i sten skrivna. De blev oss bröd, de blev oss vatten. Men kring vår fromhet teg natten. Vi drog längs vägarna, gudsslagna budbärare i eld tvagna. Dom och soning, så bjöd rösten. Och domen sannades, men aldrig trösten. Vi sjöng i markerna i jubel vända mot nya stjärnor till tecken tända. O dröm, o hopp, vad du flöt rikligt. O löftens löfte, så stort och svikligt. En bön, en enda återstår oss: slå ännu hårdare, du som slår oss! Vik samman rummet och släck tiden, förgör allt och skapa friden! Hur länge än, hur länge än, hur länge än? Förinta oss! Förinta oss!\"\n",
    "\n",
    "# Calculate the word frequencies\n",
    "word_freqs = word_freqs_from_text(boye)\n",
    "\n",
    "# Print to inspect\n",
    "print(word_freqs)"
   ]
  },
  {
   "cell_type": "markdown",
   "metadata": {},
   "source": [
    "I det inbyggda paketet `collections` finns en hjälpklass `Counter` som ni kan använda som referens.\n",
    "\n",
    "```python\n",
    "    # normalized_split_text är er normaliserade och splittade text, d.v.s. en lista på formen [\"general\", \"kenobi\", \"hello\", \"there\"]\n",
    "    c = Counter(normalized_split_text)\n",
    "    print(c)\n",
    "\n",
    "```\n",
    "Kör cellen och jämför med er egen funktion."
   ]
  },
  {
   "cell_type": "code",
   "execution_count": null,
   "metadata": {},
   "outputs": [],
   "source": [
    "from collections import Counter\n",
    "\n",
    "# Use the custom function\n",
    "normalized_split_text = normalized_split_text(boye)\n",
    "\n",
    "# Calculate the word frequencies\n",
    "c = Counter(normalized_split_text)\n",
    "\n",
    "# Print to inspect\n",
    "print(c)"
   ]
  },
  {
   "cell_type": "markdown",
   "metadata": {},
   "source": [
    "# Uppgift 2:\n",
    "Betrakta funktionen nedan, den tar in ett argument `arg` som är en lista.\n",
    "\n",
    "1. Lägg funktionen i en fil `mystery_module.py`\n",
    "2. Spara er Jupyter Notebook\n",
    "3. Tryck på \"Restart Kernel\"\n",
    "4. Importera er funktion från er fil.\n",
    "5. Använd [denna länk](https://www.w3schools.com/python/python_ref_list.asp) för att förklara vad funktionen gör.\n",
    "\n",
    "```python\n",
    "\n",
    "    def mystery_function(arg):\n",
    "\n",
    "        popped = arg.pop()\n",
    "\n",
    "        for i in range(0, 4):\n",
    "            arg.append(popped)\n",
    "        \n",
    "        arg.reverse()\n",
    "        arg.sort()\n",
    "\n",
    "        return arg\n",
    "```\n"
   ]
  },
  {
   "cell_type": "code",
   "execution_count": 7,
   "metadata": {},
   "outputs": [],
   "source": [
    "# Importera er funktion här\n",
    "mystery_function([1, 235, 1.67, 95, 10, 2])\n"
   ]
  },
  {
   "cell_type": "code",
   "execution_count": null,
   "metadata": {},
   "outputs": [],
   "source": []
  }
 ],
 "metadata": {
  "kernelspec": {
   "display_name": "Python 3.10.4 ('teaching')",
   "language": "python",
   "name": "python3"
  },
  "language_info": {
   "codemirror_mode": {
    "name": "ipython",
    "version": 3
   },
   "file_extension": ".py",
   "mimetype": "text/x-python",
   "name": "python",
   "nbconvert_exporter": "python",
   "pygments_lexer": "ipython3",
   "version": "3.10.4"
  },
  "orig_nbformat": 4,
  "vscode": {
   "interpreter": {
    "hash": "0e79bad72861022d3c6602e5c1fc0d128a7160c16fa8dc23e33c27176f214652"
   }
  }
 },
 "nbformat": 4,
 "nbformat_minor": 2
}
