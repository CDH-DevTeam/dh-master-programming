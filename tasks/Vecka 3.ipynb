{
 "cells": [
  {
   "cell_type": "markdown",
   "metadata": {},
   "source": [
    "# Uppgift 1\n",
    "Betrakta nedan loop genom Sveriges nuvarande riksdagspartier. \n",
    "\n",
    "1. Förklara varför koden ger i från sig ett fel, samt hur du kan åtgärda felet.\n",
    "2. Se till att alla partinamn skrivs ut.\n",
    "3. Förklara vad som var fel med koden från början."
   ]
  },
  {
   "cell_type": "code",
   "execution_count": 3,
   "metadata": {},
   "outputs": [
    {
     "name": "stdout",
     "output_type": "stream",
     "text": [
      "Sverigedemokraterna\n",
      "Arbetarepartiet Socialdemokraterna\n",
      "Moderaterna\n",
      "Liberalerna (tidigare Folkartiet)\n",
      "Miljöpartiet de Gröna\n",
      "Centerpartiet\n"
     ]
    },
    {
     "ename": "IndexError",
     "evalue": "list index out of range",
     "output_type": "error",
     "traceback": [
      "\u001b[0;31m---------------------------------------------------------------------------\u001b[0m",
      "\u001b[0;31mIndexError\u001b[0m                                Traceback (most recent call last)",
      "\u001b[1;32m/home/vws/Projects/undervisning/dh/dh-master-programming/tasks/Vecka 3_draft.ipynb Cell 2\u001b[0m in \u001b[0;36m<cell line: 3>\u001b[0;34m()\u001b[0m\n\u001b[1;32m      <a href='vscode-notebook-cell:/home/vws/Projects/undervisning/dh/dh-master-programming/tasks/Vecka%203_draft.ipynb#X15sZmlsZQ%3D%3D?line=0'>1</a>\u001b[0m l \u001b[39m=\u001b[39m [\u001b[39m\"\u001b[39m\u001b[39mVänsterpartiet\u001b[39m\u001b[39m\"\u001b[39m, \u001b[39m\"\u001b[39m\u001b[39mSverigedemokraterna\u001b[39m\u001b[39m\"\u001b[39m, \u001b[39m\"\u001b[39m\u001b[39mArbetarepartiet Socialdemokraterna\u001b[39m\u001b[39m\"\u001b[39m, \u001b[39m\"\u001b[39m\u001b[39mModeraterna\u001b[39m\u001b[39m\"\u001b[39m, \u001b[39m\"\u001b[39m\u001b[39mLiberalerna (tidigare Folkartiet)\u001b[39m\u001b[39m\"\u001b[39m, \u001b[39m\"\u001b[39m\u001b[39mMiljöpartiet de Gröna\u001b[39m\u001b[39m\"\u001b[39m, \u001b[39m\"\u001b[39m\u001b[39mCenterpartiet\u001b[39m\u001b[39m\"\u001b[39m]\n\u001b[1;32m      <a href='vscode-notebook-cell:/home/vws/Projects/undervisning/dh/dh-master-programming/tasks/Vecka%203_draft.ipynb#X15sZmlsZQ%3D%3D?line=2'>3</a>\u001b[0m \u001b[39mfor\u001b[39;00m idx \u001b[39min\u001b[39;00m \u001b[39mrange\u001b[39m(\u001b[39m1\u001b[39m, \u001b[39m8\u001b[39m):\n\u001b[0;32m----> <a href='vscode-notebook-cell:/home/vws/Projects/undervisning/dh/dh-master-programming/tasks/Vecka%203_draft.ipynb#X15sZmlsZQ%3D%3D?line=3'>4</a>\u001b[0m     \u001b[39mprint\u001b[39m(l[idx])\n",
      "\u001b[0;31mIndexError\u001b[0m: list index out of range"
     ]
    }
   ],
   "source": [
    "l = [\"Vänsterpartiet\", \"Sverigedemokraterna\", \"Arbetarepartiet Socialdemokraterna\", \"Moderaterna\", \"Liberalerna (tidigare Folkartiet)\", \"Miljöpartiet de Gröna\", \"Centerpartiet\"]\n",
    "\n",
    "for idx in range(1, 8):\n",
    "    print(l[idx])"
   ]
  },
  {
   "cell_type": "markdown",
   "metadata": {},
   "source": [
    "# Uppgift 2\n",
    "Betrakta den egendefinierade funktionen. Förklara varför resultatet på variabeln `x` är som det är, och vad du anser bör åtgärdas."
   ]
  },
  {
   "cell_type": "code",
   "execution_count": 4,
   "metadata": {},
   "outputs": [
    {
     "name": "stdout",
     "output_type": "stream",
     "text": [
      "None\n"
     ]
    }
   ],
   "source": [
    "def velocity(distance, time):\n",
    "\n",
    "    v = distance/time\n",
    "\n",
    "\n",
    "distance = 100 # km\n",
    "time = 3 # hours\n",
    "\n",
    "# Calculate the velocity\n",
    "x = velocity(distance, time)\n",
    "\n",
    "print(x)"
   ]
  },
  {
   "cell_type": "markdown",
   "metadata": {},
   "source": [
    "# Uppgift 3\n",
    "\n",
    "Titta på kodstycket nedan:\n",
    "\n",
    "```python\n",
    "sql_create_party = \"\"\" CREATE TABLE party (\n",
    "                                        id integer PRIMARY KEY,\n",
    "                                        name text,\n",
    "                                        seats integer\n",
    "                                    ); \"\"\"\n",
    "cur.execute(sql_create_party)\n",
    "​\n",
    "sql_create_member = \"\"\"CREATE TABLE member (\n",
    "                                    id integer PRIMARY KEY,\n",
    "                                    first_name text,\n",
    "                                    last_name text,\n",
    "                                    party_id integer,\n",
    "                                    year_birth integer,\n",
    "                                    start_date integer,\n",
    "                                    FOREIGN KEY (party_id) REFERENCES party (id)\n",
    "                                );\"\"\"\n",
    "cur.execute(sql_create_member)\n",
    "​\n",
    "party_data = [\n",
    "    (1, \"Socialdemokraterna\", 100),\n",
    "    (2, \"Moderaterna\", 70),\n",
    "    (3, \"Sverigedemokraterna\", 61),\n",
    "    (4, \"Centerpartiet\", 31),\n",
    "    (5, \"Vänsterpartiet\", 27),\n",
    "    (6, \"Kristdemokraterna\", 22),\n",
    "    (7, \"Liberalerna\", 20),\n",
    "    (8, \"Miljöpartiet\",16),\n",
    "]\n",
    "​\n",
    "cur.executemany(\"INSERT INTO party VALUES(?, ?, ?)\", party_data)\n",
    "con.commit()\n",
    "```\n",
    "\n",
    "Försök förklara i steg vad koden gör, använd begrepp som argument, input, returvärde, funktion, medlemsfunktion."
   ]
  },
  {
   "cell_type": "markdown",
   "metadata": {},
   "source": [
    "# Uppgift 4a)\n",
    "Betrakta en variabel `summa`, samt en lista med värden att summera, `summander`. Beräkna med hjälp av en for-loop summan av värdena i listan `summander`, samt skriv ut resultatet.\n",
    "\n",
    "Använd funktionen `sum` för att bekräfta ditt resultat."
   ]
  },
  {
   "cell_type": "code",
   "execution_count": null,
   "metadata": {},
   "outputs": [],
   "source": [
    "summa = 0\n",
    "summander = [12, 45, 7, 3.56, 0.142, 235, 1.0001]\n"
   ]
  },
  {
   "cell_type": "markdown",
   "metadata": {},
   "source": [
    "# Uppgift 4b)\n",
    "Konvertera din kod i uppgift 4a) till en funktion vid namn `custom_sum`, som tar en lista `l` som argument/input, och returnerar dess summa, beräknad med hjälp av en for-loop."
   ]
  },
  {
   "cell_type": "code",
   "execution_count": null,
   "metadata": {},
   "outputs": [],
   "source": []
  },
  {
   "cell_type": "markdown",
   "metadata": {},
   "source": [
    "# Uppgift 4c)\n",
    "Baserat på din kod i uppgift 4b), skriv nu en funktion `custom_mean` som beräknar *medelvärdet* av en input-lista `l`."
   ]
  },
  {
   "cell_type": "code",
   "execution_count": null,
   "metadata": {},
   "outputs": [],
   "source": []
  }
 ],
 "metadata": {
  "kernelspec": {
   "display_name": "Python 3.10.4 ('teaching')",
   "language": "python",
   "name": "python3"
  },
  "language_info": {
   "codemirror_mode": {
    "name": "ipython",
    "version": 3
   },
   "file_extension": ".py",
   "mimetype": "text/x-python",
   "name": "python",
   "nbconvert_exporter": "python",
   "pygments_lexer": "ipython3",
   "version": "3.10.4"
  },
  "orig_nbformat": 4,
  "vscode": {
   "interpreter": {
    "hash": "0e79bad72861022d3c6602e5c1fc0d128a7160c16fa8dc23e33c27176f214652"
   }
  }
 },
 "nbformat": 4,
 "nbformat_minor": 2
}
