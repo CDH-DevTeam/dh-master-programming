{
 "cells": [
  {
   "cell_type": "markdown",
   "metadata": {},
   "source": [
    "# Uppgift 1: Tokenisering\n",
    "Ett vanligt problem inom språkteknologi är att omvandla text till *tokens*, som oftast är ord, men det kan också i mer avancerade fall vara grundformen av ord, eller bokstäver.\n",
    "\n",
    "Betrakta dikten av Boye nedan. Splitta texten till en lista med ord istället för en lång sträng. Spara resultatet i en variabel `boye_as_list` och skriv ut för att kontrollera."
   ]
  },
  {
   "cell_type": "code",
   "execution_count": 1,
   "metadata": {},
   "outputs": [],
   "source": [
    "boye = \"Vi är din skara, som du svek, Herre. Förtrösta! bjöd du och det blev värre. Ur ondskans dimmor steg ingen ljusning, ur tordönet ingen sakta susning. Vi skalv i öknen övergivna med hårda bud i sten skrivna. De blev oss bröd, de blev oss vatten. Men kring vår fromhet teg natten. Vi drog längs vägarna, gudsslagna budbärare i eld tvagna. Dom och soning, så bjöd rösten. Och domen sannades, men aldrig trösten. Vi sjöng i markerna i jubel vända mot nya stjärnor till tecken tända. O dröm, o hopp, vad du flöt rikligt. O löftens löfte, så stort och svikligt. En bön, en enda återstår oss: slå ännu hårdare, du som slår oss! Vik samman rummet och släck tiden, förgör allt och skapa friden! Hur länge än, hur länge än, hur länge än? Förinta oss! Förinta oss!\""
   ]
  },
  {
   "cell_type": "markdown",
   "metadata": {},
   "source": [
    "# Uppgift 2: Ta bort punkter\n",
    "Skriv en funktion vid namn `word_contains_point` som givet ett ord skall returnera `True` om ett ord innehåller punkt, och annars `False`. Tips: Använd den booleanska operatorn `in`.\n",
    "\n",
    "\n",
    "Funktionen skall ta följande input:\n",
    "- `word`, en sträng som motsvarar ett ord\n",
    "\n",
    "och returnera ett värde\n",
    "- `contains_point` som är antingen `True` eller `False`"
   ]
  },
  {
   "cell_type": "code",
   "execution_count": null,
   "metadata": {},
   "outputs": [],
   "source": []
  },
  {
   "cell_type": "markdown",
   "metadata": {},
   "source": [
    "# Uppgift 3a): Tillämpa din funktion\n",
    "Tillämpa din funktion på listan `boye`. \n",
    "\n",
    "Iterera över orden i `boye_as_list` i en for-loop och tillämpa funktionen `word_contains_point` på orden i loopen. Skriv ut returvärdet för funktionen i varje iteration."
   ]
  },
  {
   "cell_type": "code",
   "execution_count": null,
   "metadata": {},
   "outputs": [],
   "source": []
  },
  {
   "cell_type": "markdown",
   "metadata": {},
   "source": [
    "# Uppgift 3b): Ta bort punkterna\n",
    "Vi skall nu loopa över alla ord i den tokeniserade listan `boye_as_list`. Vi skall kontrollera om orden innehåller punkt, och i så fall ta bort punkten. Orden skall läggas i en ny lista över \"städade\" ord.\n",
    "\n",
    "Modifiera din kod ovan genom att skapa en tom lista `processed`. \n",
    "\n",
    "När du itererar över dina ord (kanske kallade `boye_word`), kontrollera om ordet innehåller punkt med hjälp av din funktion.\n",
    "\n",
    "- Om värdet är `False`, lägg till ordet i listan `processed`\n",
    "- Om värdet är `True`, ta bort punkten från ordet så här:\n",
    "    ```python\n",
    "    processed_word = boye_word.replace(\".\", \",\")\n",
    "    ```\n",
    "    och lägg till det nya ordet `processed_word` i `processed` istället.\n"
   ]
  },
  {
   "cell_type": "code",
   "execution_count": null,
   "metadata": {},
   "outputs": [],
   "source": []
  },
  {
   "cell_type": "markdown",
   "metadata": {},
   "source": [
    "# Uppgift 4\n",
    "Förklara följande begrepp med egna ord:\n",
    "- Global variabel\n",
    "- Lokal variabel\n",
    "- Scope\n",
    "- Nyckelordsargument"
   ]
  },
  {
   "cell_type": "markdown",
   "metadata": {},
   "source": []
  },
  {
   "cell_type": "markdown",
   "metadata": {},
   "source": [
    "# Uppgift 5\n",
    "Ge två exempel på ett användningsområde för en `if-elif-else`-sats."
   ]
  },
  {
   "cell_type": "markdown",
   "metadata": {},
   "source": []
  }
 ],
 "metadata": {
  "kernelspec": {
   "display_name": "Python 3.10.4 ('teaching')",
   "language": "python",
   "name": "python3"
  },
  "language_info": {
   "codemirror_mode": {
    "name": "ipython",
    "version": 3
   },
   "file_extension": ".py",
   "mimetype": "text/x-python",
   "name": "python",
   "nbconvert_exporter": "python",
   "pygments_lexer": "ipython3",
   "version": "3.10.4"
  },
  "orig_nbformat": 4,
  "vscode": {
   "interpreter": {
    "hash": "0e79bad72861022d3c6602e5c1fc0d128a7160c16fa8dc23e33c27176f214652"
   }
  }
 },
 "nbformat": 4,
 "nbformat_minor": 2
}
