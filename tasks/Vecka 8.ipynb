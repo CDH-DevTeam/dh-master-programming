{
 "cells": [
  {
   "cell_type": "markdown",
   "metadata": {},
   "source": [
    "# Uppgift 1a) Pokémon!\n",
    "Vi skall nu göra ett rudimentärt Pokémon-spel, med individuella pokemon-karaktärer. \n",
    "\n",
    "Skapa en klass vid namn `Pokemon` som definierar följande **individuella** egenskaper i sin initialiseringsmetod:\n",
    "\n",
    "- name, namn på din pokemon.\n",
    "- hp (*health points*), hur mycket \"liv\" en Pokemon har\n",
    "- power, hur kraftfull en Pokemon är\n",
    "- type, vilken typ din Pokemon har, antingen `fire`, `water`, eller `grass`.\n",
    "\n",
    "Skapa därefter 4 olika pokemon efter eget tycke."
   ]
  },
  {
   "cell_type": "code",
   "execution_count": null,
   "metadata": {},
   "outputs": [],
   "source": []
  },
  {
   "cell_type": "markdown",
   "metadata": {},
   "source": [
    "# Uppgift 1b) Fight!\n",
    "Lägg till en funktion i din klass som heter `fight` som tar två argument (omdefiniera hela klassen nedan):\n",
    "- `self`\n",
    "- `other_pokemon`, som symboliserar en annan Pokemon.\n",
    "\n",
    "Funktionen skall fungera som följer:\n",
    "\n",
    "- Kontrollera att `hp` är större än 0 hos det egna objektet `self`\n",
    "    - Om det är mindre än 0, skriva ut ett meddelande att `self.name` inte klarar att slåss\n",
    "    - Annars\n",
    "      - Minska `hp` hos det egna objektet med motsvarande `power` hos den andra pokemon-karaktären\n",
    "      - Vice versa, minska `hp` hos den andra karaktären med `power` hos det egna objektet\n",
    "\n",
    "\n",
    "Skapa två nya pokemon och låt den ena karaktären kalla på funktionen `fight` för att slåss mot den andra."
   ]
  },
  {
   "cell_type": "code",
   "execution_count": null,
   "metadata": {},
   "outputs": [],
   "source": []
  },
  {
   "cell_type": "markdown",
   "metadata": {},
   "source": [
    "# Uppgift 1c) Type advantages!\n",
    "Modifiera funktionen `fight` (omdefiniera hela klassen nedan):\n",
    "\n",
    "Minska `hp` hos er pokemon i proportion med era pokemons `type`:\n",
    "\n",
    "`fire` slår `grass` och `water` slår `fire`. Varken `grass` eller `water` slår varandra.\n",
    "\n",
    "- Om en `fire`-pokemon slåss mot en `grass`-pokemon så skall `hp` minskas med `2*power` på `grass`-typen.\n",
    "- Om en `water`-pokemon slåss mot en `fire`-pokemon så skall `hp` minskas med `2*power` på `fire`-typen.\n"
   ]
  },
  {
   "cell_type": "code",
   "execution_count": null,
   "metadata": {},
   "outputs": [],
   "source": []
  },
  {
   "cell_type": "markdown",
   "metadata": {},
   "source": [
    "# Uppgift 2)\n",
    "Förklara med egna ord\n",
    "1) Typ\n",
    "2) Instans\n",
    "3) Klass\n",
    "4) Objekt\n",
    "\n",
    "Avsluta med en reflektion - vilka likheter/olikheter ser du mellan begreppen?"
   ]
  },
  {
   "cell_type": "code",
   "execution_count": null,
   "metadata": {},
   "outputs": [],
   "source": []
  },
  {
   "cell_type": "markdown",
   "metadata": {},
   "source": [
    "# Uppgift 3\n",
    "Förklara med egna ord koden nedan till nedan klass genom att lägga till kommentarer. Förklara vad du tror är syftet med klassen, skapa ett eget dokument, och använd medlemsfunktionen `count_word`."
   ]
  },
  {
   "cell_type": "code",
   "execution_count": 1,
   "metadata": {},
   "outputs": [],
   "source": [
    "from collections import Counter\n",
    "\n",
    "class Document:\n",
    "\n",
    "    def __init__(self, text, name, date):\n",
    "        self.text = text\n",
    "        self.name = name\n",
    "        self.date = date\n",
    "        self.tokens = []\n",
    "\n",
    "    def process(self):\n",
    "        \n",
    "        clean = self.text\n",
    "        for p in \".,:;?!-_\":\n",
    "            clean = self.text.replace(p, \"\")\n",
    "\n",
    "        clean = clean.lower()\n",
    "\n",
    "        self.tokens = clean.split(\" \")\n",
    "\n",
    "        return self.tokens\n",
    "\n",
    "    def count_word(self, word):\n",
    "\n",
    "        if self.tokens == []:\n",
    "            self.process()\n",
    "\n",
    "        counts = Counter(self.tokens)\n",
    "        \n",
    "        return counts[word] "
   ]
  },
  {
   "cell_type": "code",
   "execution_count": null,
   "metadata": {},
   "outputs": [],
   "source": [
    "# Create your own document here...\n",
    "\n",
    "# Use the count_word function in the document"
   ]
  }
 ],
 "metadata": {
  "kernelspec": {
   "display_name": "Python 3.10.4 ('teaching')",
   "language": "python",
   "name": "python3"
  },
  "language_info": {
   "name": "python",
   "version": "3.10.4"
  },
  "orig_nbformat": 4,
  "vscode": {
   "interpreter": {
    "hash": "0e79bad72861022d3c6602e5c1fc0d128a7160c16fa8dc23e33c27176f214652"
   }
  }
 },
 "nbformat": 4,
 "nbformat_minor": 2
}
