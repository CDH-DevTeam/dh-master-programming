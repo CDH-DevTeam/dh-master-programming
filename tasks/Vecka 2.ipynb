{
 "cells": [
  {
   "cell_type": "markdown",
   "metadata": {},
   "source": [
    "# Uppgift 1: Receptlista\n",
    "\n",
    "\n",
    "- Definiera en lista med variabelnamnet `ingredients` som innehåller 5 ingredienser som kan behövas för att laga en maträtt. \n",
    "- Skapa en andra lista med variabelnamnet `quantities` som anger hur många eller mycket du behöver av varje vara (med samma ordning som första listan).\n",
    "- Skapa en tredje lista vid namn `measurements` som anger måttet på kvantiteterna du behöver, t.ex. `\"dl\", \"styck\"` (med samma ordning som föregående listor).\n",
    "\n",
    "Skapa slutligen en sista lista vid namn `recipe`, i vilken du lägger alla föregående variabler."
   ]
  },
  {
   "cell_type": "code",
   "execution_count": null,
   "metadata": {},
   "outputs": [],
   "source": []
  },
  {
   "cell_type": "markdown",
   "metadata": {},
   "source": [
    "# Uppgift 2: Indexering\n",
    "Vi skall nu titta närmare på indexering. Använd variablerna du definierade i uppgift 1; \n",
    "- Skriv ut värdet av den första ingrediensen på skärmen.\n",
    "- Skriv ut värdet av den andra ingrediensen på skärmen.\n",
    "- Skriv ut värdet av den sista ingrediensen på skärmen.\n",
    "- Skriv ut värdet av den näst sista ingrediensen på skärmen.\n",
    "\n",
    "Funktionen `print` tillåter att man ger flera s.k. *argument* att skriva ut på skärmen. Man kan separera dessa med ett kommatecken, exempelvis som \n",
    "```python\n",
    "print(\"Hello world\", \"Hello planet\")\n",
    "```\n",
    "varpå resultatet skrivs ut på en rad med ett mellanslag.\n",
    "\n",
    "Använd detta och skriv ut tredje värdet av ingredienserna, kvantiteterna och måtten på en rad."
   ]
  },
  {
   "cell_type": "code",
   "execution_count": null,
   "metadata": {},
   "outputs": [],
   "source": []
  },
  {
   "cell_type": "markdown",
   "metadata": {},
   "source": [
    "# Uppgift 3: Namnbok\n",
    "Definiera ett dictionary med dina klasskamraters förnamn som returnerar deras efternamn, det vill säga på så vis att\n",
    "\n",
    "```python\n",
    "print(d[\"Karl\"])\n",
    "```\n",
    "visar `\"Andersson\"` på skärmen."
   ]
  },
  {
   "cell_type": "code",
   "execution_count": null,
   "metadata": {},
   "outputs": [],
   "source": []
  },
  {
   "cell_type": "markdown",
   "metadata": {},
   "source": [
    "# Uppgift 4: Bibliografi\n",
    "Ni skall nu definiera ett dictionary som har nycklar och värden enligt [APA](https://kib.ki.se/skriva-referera/skriva-referenser-apa-vancouver/referensguider/referensguide-apa-7), d.v.s. nyckeln `\"(Ejlertsson, 2019)\"` skall returnera `\"Ejlertsson, G. (2019). Statistik för hälsovetenskaperna (3 uppl.). Studentlitteratur.\"`. Använd exemplen på den länkade sidan.\n"
   ]
  },
  {
   "cell_type": "code",
   "execution_count": null,
   "metadata": {},
   "outputs": [],
   "source": []
  },
  {
   "cell_type": "markdown",
   "metadata": {},
   "source": [
    "# Uppgift 5: Metadata\n",
    "Betrakta följande litterära verk:\n",
    "- *Hafvets stjärna*\n",
    "- *Kallocain*\n",
    "- *Bibel 2000*\n",
    "- *Kejsarn av Portugallien*\n",
    "\n",
    "Ni skall nu skapa ett dictionary med metadata för respektive verk, där verkets titel är nyckeln och värdet är ytterligare ett dictionary innehåller metadata om verket. Metadatan skall innehålla ha nycklarna `\"year\"`, `\"publisher\"`, `\"author\"` motsvarande publikationsår, förlag och författare. \n",
    "\n",
    "Använd gärna [Litteraturbanken](https://litteraturbanken.se/) för att ta reda på informationen. Om ni inte kan hitta informationen anger ni värdet `None`.\n"
   ]
  },
  {
   "cell_type": "code",
   "execution_count": null,
   "metadata": {},
   "outputs": [],
   "source": []
  }
 ],
 "metadata": {
  "kernelspec": {
   "display_name": "Python 3.10.4 ('teaching')",
   "language": "python",
   "name": "python3"
  },
  "language_info": {
   "name": "python",
   "version": "3.10.4"
  },
  "orig_nbformat": 4,
  "vscode": {
   "interpreter": {
    "hash": "0e79bad72861022d3c6602e5c1fc0d128a7160c16fa8dc23e33c27176f214652"
   }
  }
 },
 "nbformat": 4,
 "nbformat_minor": 2
}
