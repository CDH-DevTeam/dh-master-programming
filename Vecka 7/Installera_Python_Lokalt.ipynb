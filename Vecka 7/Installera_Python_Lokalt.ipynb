{
 "cells": [
  {
   "cell_type": "markdown",
   "metadata": {},
   "source": [
    "# Installera Python lokalt\n",
    "Ett programmeringsspråk är, något förvirrande, även det ett program. Det betyder att för att kunna börja tolka kod, måste det sättas igång, antingen av en människa, eller ett annat program. \n",
    "\n",
    "Många programmeringsspråk kommer förinstallerade på datorer, liksom andra program. Många program kräver vissa språk för att själva kunna köra. Exempelvis kommer språken C# och Visual Basic förinstallerade på Windows-datorer, samt C och Python på diverse Linux-operativsystem. \n",
    "\n",
    "Numer kommer Python faktiskt förinstallerat på ganska många operativsystem, men det är ingen garanti. Under denna föreläsning skall vi vara huvudsakligen praktiska, och installera Python lokalt, tillsammans med en så kallad *editor*, eller *textredigerare*."
   ]
  },
  {
   "cell_type": "markdown",
   "metadata": {},
   "source": [
    "## Python-version\n",
    "Vi skall installera Python 3, vilket är en av två tillgängliga huvudversioner. Python 2 är förlegad och bör inte installeras, utan finns endast kvar av kompatibilitetsskäl med gammal mjukvara.\n",
    "\n",
    "I skrivande stund så är den senaste versionen 3.10.7, vilket är den vi skall installera.\n",
    "\n",
    "## Installation\n",
    "1. Följ denna länk för nedladdningssida: https://www.python.org/downloads/\n",
    "2. Klicka på \"Download Python 3.10.7\", detta borde leda er direkt till en nedladdning till ert operativsystem.\n",
    "3. Följ installationsinstruktionerna. **Notera filvägen för Python-installationen.**\n",
    "\n",
    "## Pröva tolkterminalen\n",
    "**Windows**:\n",
    "- Sök upp applikationen \"Python 3.10\" på datorn, och kör den som administratör.\n",
    "- Ni möts av en kommandotolk, i vilken ni kan skriva instruktioner i Python. \n",
    "- Testa att skriva `print(\"Hello world!\")` för att skriva ut till skärmen.\n",
    "\n",
    "**Mac**:\n",
    "- Öppna er terminal (sök upp `Applications -> Utilities -> Terminal`) och skriv kommandot `python3` för att starta kommandotolken direkt i Mac-terminalen.\n",
    "- Testa att skriva `print(\"Hello world!\")` för att skriva ut till skärmen.\n"
   ]
  },
  {
   "cell_type": "markdown",
   "metadata": {},
   "source": [
    "# Installera en textredigerare\n",
    "Att skriva kod i terminalen är ofta inte hållbart för längre program, särskilt inte program man vill spara i en `.py`-fil. Inte heller Jupyter Notebooks är hållbart i längden. Istället brukar man skriva och redigera kod i ett gränssnitt som liknar Word, kallade textredigerare eller *editorer*.\n",
    "\n",
    "Det finns oräkneliga *editorer* att ladda ner på nätet. Några exempel utgör *vim* (eller företrädaren *vi*), *Emacs*, *Eclipse*, *Notepad++* samt *Visual Studio Code*. Dessa varierar i funktionalitet och komplexitet. De förstnämnda är onekligen inte avsedda för nybörjare. Som lärare har jag ynnesten att säga åt er vilken editor ni skall ladda ner först.\n",
    "\n",
    "## Visual Studio Code\n",
    "### Installation\n",
    "- Gå till länken https://code.visualstudio.com/ och välj operativsystem att ladda ned till. \n",
    "- Följ installationsinstruktionerna.\n",
    "- Till vänster hittar ni era filer, samt exempelvis tillägg. Tillägg ger stöd för exempelvis autocomplete, körning av kod direkt inuti editorn.\n",
    "- Sök på \"Python\" bland tilläggen och välj den utgiven av Microsoft. Detta installerar stöd för er tidigare Python-installation i redigeraren.\n",
    "- Skapa en ny fil, antingen under \"Fil/File\" eller i Utforskaren/Explorer, med ändelsen `.py`. Ändelsen säger till editorn hur den skall formatera texten."
   ]
  },
  {
   "cell_type": "markdown",
   "metadata": {},
   "source": []
  }
 ],
 "metadata": {
  "kernelspec": {
   "display_name": "Python 3.10.6 64-bit",
   "language": "python",
   "name": "python3"
  },
  "language_info": {
   "name": "python",
   "version": "3.10.6"
  },
  "orig_nbformat": 4,
  "vscode": {
   "interpreter": {
    "hash": "916dbcbb3f70747c44a77c7bcd40155683ae19c65e1c03b4aa3499c5328201f1"
   }
  }
 },
 "nbformat": 4,
 "nbformat_minor": 2
}
