{
 "cells": [
  {
   "cell_type": "markdown",
   "metadata": {},
   "source": [
    "# Natural language processing\n",
    "Inom humaniora är en stor del av den programmering som görs textbaserad, inom fältet *natural language processing*, som gör manipulation och utvinner information av text. I detta avsnitt ska vi undersöka fundamenten för stora delar av fältet, nämligen ordfrekvenser. \n",
    "\n",
    "## Ordfrekvenser\n",
    "Termen *ordfrekvens* är egentligen lite halvt missvisande, då det oftast inte rör sig om frekvenser, utan antal. Dessa används för att räkna förekomsten av ett visst ord i ett visst korpus, och är ofta en viktig komponent i mer avancerade maskinlärningstillämpningar på text.\n",
    "\n",
    "Ordfrekvenser definieras som \n",
    "\n",
    "$$ n(t, D) = \\# \\mathrm{ord}\\, t\\, \\mathrm{i\\,ett\\,dokument} D$$\n",
    "\n",
    "det vill säga antalet förekomster av ett ord $t$ (där $t$ är en variabel) i ett dokument/korpus $D$. Detta kallas också för *raw frequencies*, det vill säga rena antal. Man talar också om relativa ordfrekvenser. Dessa definieras som\n",
    "\n",
    "$$ n_{\\mathrm{rel} }(t, D) = \\frac{n(t, D)}{N} $$\n",
    "\n",
    "där $ N $ är antalet ord i dokumentet. Det vill säga, man dividerar ordfrekvensen med totala antalet ord. På så vis så får inte större dokument också större ordfrekvens."
   ]
  },
  {
   "cell_type": "markdown",
   "metadata": {},
   "source": [
    "# Beräkna ordfrekvenser\n",
    "Givet en text, ett dokument eller en korpus, så är vi intresserade av hur många gånger ett visst ord förekommer. För att implementera detta i Python behöver vi använda oss av följande metoder:\n",
    "\n",
    "1. Ett dictionary att spara alla ordfrekvenser, på formen `{\"ord\": 53, \"annat_ord\": 89, \"choklad\": 453}`.\n",
    "2. Normalisera texten till små bokstäver.\n",
    "3. Tokenisera genom att separera text på ordnivå.\n",
    "4. Hitta alla unika ord.\n",
    "5. Loopa över alla unika ord och räkna deras förekomst i vår text.\n",
    "6. Spara förekomsten och antalet i vårt dictionary."
   ]
  },
  {
   "cell_type": "markdown",
   "metadata": {},
   "source": [
    "### Verktyg\n",
    "För denna uppgift behöver vi följande verktyg, som kan vara bra att påminna sig om:\n",
    "- Dictionaries\n",
    "- Inbyggda funktioner i strängar, `lower`, `split`.\n",
    "- Sets - en version av listor, som transformerar en lista till en samling med endast unika förekomster:\n",
    "  - Exempel: `set([\"katt\", \"ost\", True, \"6\", 6, \"katt\", True])` kommer returnera `{\"katt\", \"ost\", True, \"6\", 6}`. Ett tomt *set* kan skapas genom att skriva antingen `set([])` eller `{}`, alltså som en lista med med måsvingar, eller ett dictionary utan nyckel-värde-par.\n",
    "- Loopar\n",
    "- Inbyggda funktioner i listor\n",
    "  - En funktion vi inte nämnt tidigare är `count`, som räknar förekomsten av ett värde i en lista. E.g. `[\"katt\", \"ost\", True, \"6\", 6, \"katt\", True].count(\"katt\")` som returnerar antalet förekomster `2`.\n",
    "- Uppdatering av dictionaries, e.g. `d[\"ny nyckel\"] = 245`"
   ]
  },
  {
   "cell_type": "markdown",
   "metadata": {},
   "source": []
  }
 ],
 "metadata": {
  "kernelspec": {
   "display_name": "Python 3.10.6 64-bit",
   "language": "python",
   "name": "python3"
  },
  "language_info": {
   "name": "python",
   "version": "3.10.6"
  },
  "orig_nbformat": 4,
  "vscode": {
   "interpreter": {
    "hash": "916dbcbb3f70747c44a77c7bcd40155683ae19c65e1c03b4aa3499c5328201f1"
   }
  }
 },
 "nbformat": 4,
 "nbformat_minor": 2
}
