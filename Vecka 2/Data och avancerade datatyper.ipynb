{
 "cells": [
  {
   "cell_type": "markdown",
   "metadata": {},
   "source": [
    "# Sammansatta datatyper\n",
    "I förra texten gick vi igenom \"enkla\" datatyper. Ofta så är det dock relevant att samla sina värden eller data i en större struktur. Pythons standardbibliotek har stöd för flera sådan, däribland *listor* och så kallade *dictionaries*. Dessa tillåter en att samla flera värden i samma variabel, med lite olika finesser.\n",
    "\n",
    "För att relatera detta till ett praktiskt exempel, så betraktar vi en tabell, en relativt komplicerad datastruktur."
   ]
  },
  {
   "cell_type": "markdown",
   "metadata": {},
   "source": [
    "# Exempel: En tabell\n",
    "Ni har vid flera tillfällen fått se ett kalkylark, eller en tabell som ett exempel på datastruktur. Vi ska nu analysera vad en tabell faktiskt består av.\n",
    "\n",
    "<style type=\"text/css\">\n",
    ".tg  {border-collapse:collapse;border-spacing:0;}\n",
    ".tg td{border-color:black;border-style:solid;border-width:1px;font-family:Arial, sans-serif;font-size:14px;\n",
    "  overflow:hidden;padding:10px 5px;word-break:normal;}\n",
    ".tg th{border-color:black;border-style:solid;border-width:1px;font-family:Arial, sans-serif;font-size:14px;\n",
    "  font-weight:normal;overflow:hidden;padding:10px 5px;word-break:normal;}\n",
    ".tg .tg-amwm{font-weight:bold;text-align:center;vertical-align:top}\n",
    ".tg .tg-0lax{text-align:left;vertical-align:top}\n",
    ".tg .tg-7zrl{text-align:left;vertical-align:bottom}\n",
    "</style>\n",
    "<table class=\"tg\">\n",
    "<thead>\n",
    "  <tr>\n",
    "    <th class=\"tg-amwm\">ord</th>\n",
    "    <th class=\"tg-amwm\">antal förekomster</th>\n",
    "    <th class=\"tg-amwm\">tfidf</th>\n",
    "    <th class=\"tg-0lax\"><span style=\"font-weight:bold\">rättstavad</span><br></th>\n",
    "  </tr>\n",
    "</thead>\n",
    "<tbody>\n",
    "  <tr>\n",
    "    <td class=\"tg-7zrl\">string</td>\n",
    "    <td class=\"tg-7zrl\">integer</td>\n",
    "    <td class=\"tg-7zrl\">float</td>\n",
    "    <td class=\"tg-0lax\">boolean</td>\n",
    "  </tr>\n",
    "  <tr>\n",
    "    <td class=\"tg-7zrl\">rälsmarknad</td>\n",
    "    <td class=\"tg-7zrl\">4</td>\n",
    "    <td class=\"tg-7zrl\">14.18311444</td>\n",
    "    <td class=\"tg-0lax\">True</td>\n",
    "  </tr>\n",
    "  <tr>\n",
    "    <td class=\"tg-7zrl\">verldsmarknad</td>\n",
    "    <td class=\"tg-7zrl\">11</td>\n",
    "    <td class=\"tg-7zrl\">10.78912178</td>\n",
    "    <td class=\"tg-0lax\">False</td>\n",
    "  </tr>\n",
    "  <tr>\n",
    "    <td class=\"tg-7zrl\">bokmarknad</td>\n",
    "    <td class=\"tg-7zrl\">8</td>\n",
    "    <td class=\"tg-7zrl\">4.81071705</td>\n",
    "    <td class=\"tg-0lax\">True</td>\n",
    "  </tr>\n",
    "  <tr>\n",
    "    <td class=\"tg-7zrl\">parisermarknad</td>\n",
    "    <td class=\"tg-7zrl\">1</td>\n",
    "    <td class=\"tg-7zrl\">3.951243719</td>\n",
    "    <td class=\"tg-0lax\">True</td>\n",
    "  </tr>\n",
    "  <tr>\n",
    "    <td class=\"tg-7zrl\">penningemarknad</td>\n",
    "    <td class=\"tg-7zrl\">7</td>\n",
    "    <td class=\"tg-7zrl\">3.620795599</td>\n",
    "    <td class=\"tg-0lax\">True</td>\n",
    "  </tr>\n",
    "  <tr>\n",
    "    <td class=\"tg-7zrl\">bokhandelsmarknad</td>\n",
    "    <td class=\"tg-7zrl\">1</td>\n",
    "    <td class=\"tg-7zrl\">3.034952987</td>\n",
    "    <td class=\"tg-0lax\">True</td>\n",
    "  </tr>\n",
    "  <tr>\n",
    "    <td class=\"tg-7zrl\">egendomsmarknad</td>\n",
    "    <td class=\"tg-7zrl\">1</td>\n",
    "    <td class=\"tg-7zrl\">2.69848075</td>\n",
    "    <td class=\"tg-0lax\">True</td>\n",
    "  </tr>\n",
    "</tbody>\n",
    "</table>"
   ]
  },
  {
   "cell_type": "markdown",
   "metadata": {},
   "source": [
    "En tabell består av metadata, kolumnnamnen och deras associerade typ. I vårt fall är det förekomster av sammansättningar av ordet `marknad` i Sveriges tvåkammarriksdags handlingar. Metadatan hos vår tabell är alltså\n",
    "- ord (sammansättningen)\n",
    "- antal förekomster (hur många gånger ordet förekommer i korpuset)\n",
    "- tfidf (ett mått på dess relevans i texten)\n",
    "- rättstavad (huruvida ordet är rättstavat)\n",
    "\n",
    "Varje kolumn har också en datatyp associerad med sig. I så kallade **strukturerade data** är det oftast viktigt att dessa stämmer med kolumnens innehåll, så att inte antal förekomster ibland skrivs ut i klartext, exempelvis.\n",
    "\n",
    "Tabellen består av rader och kolumner. Varje kolumn är en egenskap eller feature hos datamängden som vi vill spara.\n",
    "\n",
    "En rad innehåller en observation av dessa metadata:\n",
    "<table class=\"tg\">\n",
    "  <tr>\n",
    "    <td class=\"tg-7zrl\">rälsmarknad</td>\n",
    "    <td class=\"tg-7zrl\">4</td>\n",
    "    <td class=\"tg-7zrl\">14.18311444</td>\n",
    "    <td class=\"tg-0lax\">True</td>\n",
    "  </tr>\n",
    "</table>\n",
    "\n",
    "Tabellen kan därför betraktas som en lista av rader, observationer. Varje observation är därför också en lista med namngivna egenskaper som vi sparat. \n",
    "\n",
    "Det är vår ambition att vi i slutet av denna föreläsning skall kunna programmera motsvarande en tabell för våra data, som är läsbar för en dator."
   ]
  },
  {
   "cell_type": "markdown",
   "metadata": {},
   "source": [
    "# Listor\n",
    "En lista innehåller flera andra värden eller variabler. De har ingen längdbegränsning (så när som på hur mycket data som kan rymmas i datorns minne).\n",
    "\n",
    "I Python så skrivs en lista med omringande hakparenteser/klamrar `[]` och varje värde i listan separeras med ett komma `,`. Detta är en del av språkets syntax, och en av anledningarna att man alltid använder decimal**punkt** för flyttal i Python, och inte decimal**komma**."
   ]
  },
  {
   "cell_type": "code",
   "execution_count": 3,
   "metadata": {},
   "outputs": [
    {
     "name": "stdout",
     "output_type": "stream",
     "text": [
      "[1, 'ost', 2, 47.18, 65]\n"
     ]
    }
   ],
   "source": [
    "x = 65\n",
    "l = [1, \"ost\", 2, 47.18, x]\n",
    "\n",
    "print(l)"
   ]
  },
  {
   "cell_type": "markdown",
   "metadata": {},
   "source": [
    "Om vi vill avgöra längden hos en lista, kan vi använda den inbyggda funktionen `len` (kort för *length*, som uppenbarligen var för långt...), som listan som parameter och returnerar värdet på dess längd:"
   ]
  },
  {
   "cell_type": "code",
   "execution_count": 4,
   "metadata": {},
   "outputs": [
    {
     "name": "stdout",
     "output_type": "stream",
     "text": [
      "5\n"
     ]
    }
   ],
   "source": [
    "length_of_list = len(l)\n",
    "\n",
    "print(length_of_list) # eller bara print(len(l))"
   ]
  },
  {
   "cell_type": "markdown",
   "metadata": {},
   "source": [
    "Listor i python kan innehålla vilka typer av variabler som helst, exempelvis en annan lista."
   ]
  },
  {
   "cell_type": "code",
   "execution_count": 5,
   "metadata": {},
   "outputs": [
    {
     "name": "stdout",
     "output_type": "stream",
     "text": [
      "[65, 12, 'Hello there', ['a smaller list with only one element'], [1, 'ost', 2, 47.18, 65]]\n",
      "5\n"
     ]
    }
   ],
   "source": [
    "nested = [x, 12, \"Hello there\", [\"a smaller list with only one element\"], l]\n",
    "print(nested)\n",
    "print(len(nested))"
   ]
  },
  {
   "cell_type": "markdown",
   "metadata": {},
   "source": [
    "Observera att listor som element i andra listor fortfarande bara räknas som ett enkelt element. Den yttersta listan i vårt fall har alltså endast 5 element, även om de inre listorna har 1 respektive 5 element själva."
   ]
  },
  {
   "cell_type": "markdown",
   "metadata": {},
   "source": [
    "Vissa funktioner ställer krav på att listor endast innehåller värden av en viss typ. <code>sum</code> och <code>min</code> vill exempelvis helst ha listor med endast siffror, av naturliga skäl"
   ]
  },
  {
   "cell_type": "code",
   "execution_count": 8,
   "metadata": {},
   "outputs": [
    {
     "name": "stdout",
     "output_type": "stream",
     "text": [
      "Summa:  756.813\n",
      "Minimum:  0.5\n"
     ]
    }
   ],
   "source": [
    "numeric = [0.5, 1, 2.213, 3, 4, 5, 6,708.1,8,9,10]\n",
    "\n",
    "sum_of_numeric = sum(numeric)\n",
    "\n",
    "smallest_in_numeric = min(numeric)\n",
    "\n",
    "print(\"Summa: \", sum_of_numeric)\n",
    "print(\"Minimum: \", smallest_in_numeric)"
   ]
  },
  {
   "cell_type": "markdown",
   "metadata": {},
   "source": [
    "### Indexering\n",
    "För att få tag på ett värde ur en lista så används så kallad indexering. Listor är *ordnade*, det vill säga att två listor med olika ordning är inte likvärdiga."
   ]
  },
  {
   "cell_type": "code",
   "execution_count": 6,
   "metadata": {},
   "outputs": [
    {
     "data": {
      "text/plain": [
       "True"
      ]
     },
     "execution_count": 6,
     "metadata": {},
     "output_type": "execute_result"
    }
   ],
   "source": [
    "[1, 2] == [1, 2]"
   ]
  },
  {
   "cell_type": "code",
   "execution_count": 7,
   "metadata": {},
   "outputs": [
    {
     "data": {
      "text/plain": [
       "False"
      ]
     },
     "execution_count": 7,
     "metadata": {},
     "output_type": "execute_result"
    }
   ],
   "source": [
    "[1, 2] == [2, 1]"
   ]
  },
  {
   "cell_type": "markdown",
   "metadata": {},
   "source": [
    "Det finns alltså en naturlig intuition för ordningen hos värdena i en lista. För att få tag på det första värdet i en lista kallad `x`, så skriver vi `x[0]`. Detta är något förvirrande, men kallas *nollindexering*. Det andra värdet hämtas alltså genom `x[1]`. Pröva gärna själv nedan."
   ]
  },
  {
   "cell_type": "code",
   "execution_count": 9,
   "metadata": {},
   "outputs": [
    {
     "name": "stdout",
     "output_type": "stream",
     "text": [
      "1\n",
      "ost\n"
     ]
    }
   ],
   "source": [
    "x = [1, \"ost\", 2, 47.18, [\"värde i inre listan\", 780]]\n",
    "\n",
    "print(x[0]) # första värdet, returnerar 1\n",
    "print(x[1]) # andra värdet, returnerar \"ost\""
   ]
  },
  {
   "cell_type": "markdown",
   "metadata": {},
   "source": [
    "Observera att indexering sker med en offset. Första elementet är inte <code>x[1]</code> utan <code>x[0]</code>. \n",
    "\n",
    "Detta är konvention, och något man får vänja sig vid. Index för sista elementet är alltså <code>sista_index = len(list)-1</code>. Om du väljer ett index utanför <code>[0, 1, 2, 3, 4, 5]</code> i vårt fall, får du ett \"IndexError\".\n",
    "\n",
    "<img src=\"../bilder/lista1.png\" width=\"500\" align=\"center\"/>"
   ]
  },
  {
   "cell_type": "code",
   "execution_count": 10,
   "metadata": {},
   "outputs": [
    {
     "ename": "IndexError",
     "evalue": "list index out of range",
     "output_type": "error",
     "traceback": [
      "\u001b[0;31m---------------------------------------------------------------------------\u001b[0m",
      "\u001b[0;31mIndexError\u001b[0m                                Traceback (most recent call last)",
      "\u001b[1;32m/home/vws/Projects/undervisning/dh/programmering/Data och avancerade datatyper.ipynb Cell 19\u001b[0m in \u001b[0;36m<cell line: 1>\u001b[0;34m()\u001b[0m\n\u001b[0;32m----> <a href='vscode-notebook-cell:/home/vws/Projects/undervisning/dh/programmering/Data%20och%20avancerade%20datatyper.ipynb#ch0000024?line=0'>1</a>\u001b[0m x[\u001b[39m80\u001b[39;49m]\n",
      "\u001b[0;31mIndexError\u001b[0m: list index out of range"
     ]
    }
   ],
   "source": [
    "x[80]"
   ]
  },
  {
   "cell_type": "markdown",
   "metadata": {},
   "source": [
    "En smidig notation hos python är att sista elementet också kan erhålla sista elementet med negativa index:"
   ]
  },
  {
   "cell_type": "code",
   "execution_count": 11,
   "metadata": {},
   "outputs": [
    {
     "data": {
      "text/plain": [
       "'ost'"
      ]
     },
     "execution_count": 11,
     "metadata": {},
     "output_type": "execute_result"
    }
   ],
   "source": [
    "x[+1]"
   ]
  },
  {
   "cell_type": "code",
   "execution_count": 12,
   "metadata": {},
   "outputs": [
    {
     "data": {
      "text/plain": [
       "['värde i inre listan', 780]"
      ]
     },
     "execution_count": 12,
     "metadata": {},
     "output_type": "execute_result"
    }
   ],
   "source": [
    "x[-1]"
   ]
  },
  {
   "cell_type": "markdown",
   "metadata": {},
   "source": [
    "Som ni nu märkt kan man använda både positiva och negativa tal för att indexera i listor. Att indexera med ``-1`` returnerar det sista elementet i en lista. \n",
    "\n",
    "Python har intuitivt utökat denna funktionalitet ytterligare: Indexering utgår från första (nollte, ``0``) elementet och andra elementet åt **höger** ges av index ``1``. Det andra elementet åt **vänster** ges av index ``-1``, vilket vi vet också motsvaras av sista elementet i listan. På så vis ges det tredje elementet åt vänster av index ``-2``, och det tredje elementet åt höger av index ``3``. Det är dock sällsynt att man använder bakåtindexering för att komma åt mer än sista ``-1`` och näst sista ``-2`` elementen.\n",
    "\n",
    "<img src=\"../bilder/lista2.png\" width=\"500\" align=\"center\"/>\n",
    "<img src=\"../bilder/lista3.png\" width=\"500\" align=\"center\"/>"
   ]
  },
  {
   "cell_type": "markdown",
   "metadata": {},
   "source": [
    "Här kommer ett intressant fall där datatypen är oerhört viktig - index hos listor är uteslutande **heltal**. Detta då heltal modellerar uppräkning. Man har inte haft 13.3 kunder på en dag, exempelvis. Om man därför försöker indexera ovan lista med ett **flyttal** istället så fås"
   ]
  },
  {
   "cell_type": "code",
   "execution_count": 21,
   "metadata": {},
   "outputs": [
    {
     "ename": "TypeError",
     "evalue": "list indices must be integers or slices, not float",
     "output_type": "error",
     "traceback": [
      "\u001b[0;31m---------------------------------------------------------------------------\u001b[0m",
      "\u001b[0;31mTypeError\u001b[0m                                 Traceback (most recent call last)",
      "\u001b[1;32m/home/vws/Projects/undervisning/dh/programmering/Data och avancerade datatyper.ipynb Cell 25\u001b[0m in \u001b[0;36m<cell line: 1>\u001b[0;34m()\u001b[0m\n\u001b[0;32m----> <a href='vscode-notebook-cell:/home/vws/Projects/undervisning/dh/programmering/Data%20och%20avancerade%20datatyper.ipynb#ch0000050?line=0'>1</a>\u001b[0m \u001b[39mprint\u001b[39m(x[\u001b[39m1.5\u001b[39;49m])\n",
      "\u001b[0;31mTypeError\u001b[0m: list indices must be integers or slices, not float"
     ]
    }
   ],
   "source": [
    "print(x[1.5])"
   ]
  },
  {
   "cell_type": "code",
   "execution_count": 22,
   "metadata": {},
   "outputs": [
    {
     "ename": "TypeError",
     "evalue": "list indices must be integers or slices, not float",
     "output_type": "error",
     "traceback": [
      "\u001b[0;31m---------------------------------------------------------------------------\u001b[0m",
      "\u001b[0;31mTypeError\u001b[0m                                 Traceback (most recent call last)",
      "\u001b[1;32m/home/vws/Projects/undervisning/dh/programmering/Data och avancerade datatyper.ipynb Cell 26\u001b[0m in \u001b[0;36m<cell line: 1>\u001b[0;34m()\u001b[0m\n\u001b[0;32m----> <a href='vscode-notebook-cell:/home/vws/Projects/undervisning/dh/programmering/Data%20och%20avancerade%20datatyper.ipynb#ch0000051?line=0'>1</a>\u001b[0m \u001b[39mprint\u001b[39m(x[\u001b[39m1.0\u001b[39;49m])\n",
      "\u001b[0;31mTypeError\u001b[0m: list indices must be integers or slices, not float"
     ]
    }
   ],
   "source": [
    "print(x[1.0])"
   ]
  },
  {
   "cell_type": "markdown",
   "metadata": {},
   "source": [
    "# Dictionaries"
   ]
  },
  {
   "cell_type": "markdown",
   "metadata": {},
   "source": [
    "\n",
    "Ordböcker, eller hädanefter *dictionaries* är en generalisering av listor. I förra avsnittet diskuterade vi listor med index likt en katalog, eller ett arkiv. Varje element i listan hämtas med index. I verkligheten är index mindre rigida, och inte bara en siffra. \n",
    "\n",
    "I exempelvis ett bibliografiskt index hittar ni publikationer efter journal, år och författare. Journal, författare och år utgör då er *nyckel*, och den erhållna publikationen ert *värde*. \n",
    "\n",
    "Ordböcker tillåter er att hämta element i listor med vilken typ av index ni önskar - heltal, strängar eller till och med egenbyggda funktioner. De är dock inte riktigt lika smidiga att arbeta med."
   ]
  },
  {
   "cell_type": "markdown",
   "metadata": {},
   "source": [
    "## Dictionaries: Nycklar och värden\n",
    "\n",
    "En lista definieras med hjälp av hakparenteser: ``[123, \"namn\", 3.14]``. \n",
    "\n",
    "Ett dictionary definieras med måsvingar: ``{\"heltalet\": 123, \"strängen\": \"namn\", \"flyttalet\": 3.14}`` samt av *par* av nycklar-värden. Nyckeln skrivs innan ett kolon, och värdet efter kolon, ``nyckel : värde``. Dictionaries kan på detta vis indexeras med hjälp av nyckeln, medan man i listor måste känna till dess absoluta position."
   ]
  },
  {
   "cell_type": "code",
   "execution_count": 1,
   "metadata": {},
   "outputs": [],
   "source": [
    "l = [123, \"namn\", 3.14]\n",
    "\n",
    "d = {\"heltalet\": 123, \"strängen\": \"namn\", \"flyttalet\": 3.14}\n",
    "\n",
    "# Kan också skrivas med tydligare indentering\n",
    "# d = {\n",
    "#      \"heltalet\": 123, \n",
    "#      \"strängen\": \"namn\", \n",
    "#      \"flyttalet\": 3.14\n",
    "#     }"
   ]
  },
  {
   "cell_type": "markdown",
   "metadata": {},
   "source": [
    "För att hämta värdet i ett dictionary så använder vi inte ett index, utan nyckeln till värdet."
   ]
  },
  {
   "cell_type": "code",
   "execution_count": 2,
   "metadata": {},
   "outputs": [
    {
     "name": "stdout",
     "output_type": "stream",
     "text": [
      "123\n",
      "namn\n",
      "3.14\n"
     ]
    }
   ],
   "source": [
    "print(d[\"heltalet\"])\n",
    "\n",
    "print(d[\"strängen\"])\n",
    "\n",
    "print(d[\"flyttalet\"])"
   ]
  },
  {
   "cell_type": "markdown",
   "metadata": {},
   "source": [
    "Nästan vilken struktur i Python som helst kan vara en nyckel. Man kan alltså också använda säg, booleaner, flyttal eller heltal (som i listor):"
   ]
  },
  {
   "cell_type": "code",
   "execution_count": 8,
   "metadata": {},
   "outputs": [
    {
     "name": "stdout",
     "output_type": "stream",
     "text": [
      "första värdet\n",
      "inte falskt\n",
      "1\n"
     ]
    }
   ],
   "source": [
    "dictionary = {\n",
    "    2: \"första värdet\",\n",
    "    3.14: \"approximation till pi\",\n",
    "    True: \"inte falskt\",\n",
    "    3: 1\n",
    "}\n",
    "\n",
    "print(dictionary[2])\n",
    "print(dictionary[True])\n",
    "print(dictionary[3])"
   ]
  },
  {
   "cell_type": "markdown",
   "metadata": {},
   "source": [
    "Vad som skiljer ett dictionary från en lista är att *ordningen inte är definierad*. De är så kallat *oordnade*. Längden på ett dictionary är definierat som antalet nyckel-värdes-par, i ovan fall alltså 4."
   ]
  },
  {
   "cell_type": "code",
   "execution_count": 10,
   "metadata": {},
   "outputs": [
    {
     "name": "stdout",
     "output_type": "stream",
     "text": [
      "4\n"
     ]
    }
   ],
   "source": [
    "print(len(dictionary))"
   ]
  },
  {
   "cell_type": "markdown",
   "metadata": {},
   "source": [
    "## Exempel: Åter till tabellen\n",
    "Vi återgår till vår tabell-modell. Vi har nu flera verktyg för att kodifiera motsvarande en tabell i Python. Vi exemplifierar här ett par sätt som alla har sina fördelar och nackdelar."
   ]
  },
  {
   "cell_type": "markdown",
   "metadata": {},
   "source": [
    "### Alternativ 1: Listor av Listor (row major)\n",
    "Ett alternativ är att modellera tabellen som listor av rader, där varje rad är en egen lista med observerade egenskaper. I det perspektiv att en tabell är en lista med rader kallas den för *\"row major\"*, rader i första hand.\n",
    "\n",
    "Det vill säga att en rad blir"
   ]
  },
  {
   "cell_type": "code",
   "execution_count": 11,
   "metadata": {},
   "outputs": [],
   "source": [
    "row = [\"rälsmarknad\", 4, 14.18311444, True]"
   ]
  },
  {
   "cell_type": "markdown",
   "metadata": {},
   "source": [
    "och tabellen totalt är en lista med dessa rader på detta vis."
   ]
  },
  {
   "cell_type": "code",
   "execution_count": null,
   "metadata": {},
   "outputs": [],
   "source": [
    "table = [\n",
    "    [\"rälsmarknad\", 4, 14.18311444, True],\n",
    "    [\"verldsmarknad\", 11, 10.78912178, True],\n",
    "    [\"bokmarknad\", 8, 4.81071705, True],\n",
    "    [\"parisermarknad\", 1, 3.951243719, True],\n",
    "    [\"penningemarknad\", 7, 3.620795599, True],\n",
    "    [\"bokhandelsmarknad\", 1, 3.034952987, True],\n",
    "    [\"egendomsmarknad\", 1, 2.69848075, True],\n",
    "]"
   ]
  },
  {
   "cell_type": "markdown",
   "metadata": {},
   "source": [
    "Nackdelen med listor är att de inte har stöd för metadata. Om vi inte har sparat informationen av vad varje kolumn i listorna faktiskt hänvisar till, kan det vara svårt att förstå tabellen *a priori*. Vidare är det ju ingenting som säger att \"ord\" måste komma före \"rättstavat\", informationen finns ju där oavsett."
   ]
  },
  {
   "cell_type": "markdown",
   "metadata": {},
   "source": [
    "### Alternativ 2: Listor av dictionaries\n",
    "Ett andra alternativ är att istället låta varje varje rad innehålla metadata om sitt innehåll. Vi låter istället varje rad vara ett dictionary:"
   ]
  },
  {
   "cell_type": "code",
   "execution_count": 1,
   "metadata": {},
   "outputs": [],
   "source": [
    "row = {\"ord\": \"rälsmarknad\", \"antal förekomster\": 4, \"tfidf\": 14.18311444, \"rättstavad\": True}"
   ]
  },
  {
   "cell_type": "markdown",
   "metadata": {},
   "source": [
    "Vi observerar att även en enda rad utanför kontexten av sin tabell ändå har all metadata som krävs för att förstå datan. Hela tabellen som en lista av sådana rader blir"
   ]
  },
  {
   "cell_type": "code",
   "execution_count": 1,
   "metadata": {},
   "outputs": [],
   "source": [
    "table = [\n",
    "    {\"ord\": \"rälsmarknad\", \"antal förekomster\": 4, \"tfidf\": 14.18311444, \"rättstavad\": True},\n",
    "    {\"ord\": \"verldsmarknad\", \"antal förekomster\": 11, \"tfidf\": 10.78912178, \"rättstavad\": True},\n",
    "    {\"ord\": \"bokmarknad\", \"antal förekomster\": 8, \"tfidf\": 4.81071705, \"rättstavad\": True},\n",
    "    {\"ord\": \"parisermarknad\", \"antal förekomster\": 1, \"tfidf\": 3.951243719, \"rättstavad\": True},\n",
    "    {\"ord\": \"penningemarknad\", \"antal förekomster\": 7, \"tfidf\": 3.620795599, \"rättstavad\": True},\n",
    "    {\"ord\": \"bokhandelsmarknad\", \"antal förekomster\": 1, \"tfidf\": 3.034952987, \"rättstavad\": True},\n",
    "    {\"ord\": \"egendomsmarknad\", \"antal förekomster\": 1, \"tfidf\": 2.69848075, \"rättstavad\": True},\n",
    "]"
   ]
  },
  {
   "cell_type": "markdown",
   "metadata": {},
   "source": [
    "Nackdelen med denna approach är att den är väsentligt mer verbos. Vanligtvis brukar man dock varken läsa eller skriva dessa kodifieringar av tabeller manuellt. \n",
    "\n",
    "Det finns även andra fördelar, detta är ett format som är väldigt välanvänt av biblioteket `pandas`, som används för dataprocessering i Python, vilket vi kommer erfara i kommande föreläsningar:"
   ]
  },
  {
   "cell_type": "code",
   "execution_count": 2,
   "metadata": {},
   "outputs": [],
   "source": [
    "import pandas as pd"
   ]
  },
  {
   "cell_type": "code",
   "execution_count": 8,
   "metadata": {},
   "outputs": [
    {
     "data": {
      "text/html": [
       "<div>\n",
       "<style scoped>\n",
       "    .dataframe tbody tr th:only-of-type {\n",
       "        vertical-align: middle;\n",
       "    }\n",
       "\n",
       "    .dataframe tbody tr th {\n",
       "        vertical-align: top;\n",
       "    }\n",
       "\n",
       "    .dataframe thead th {\n",
       "        text-align: right;\n",
       "    }\n",
       "</style>\n",
       "<table border=\"1\" class=\"dataframe\">\n",
       "  <thead>\n",
       "    <tr style=\"text-align: right;\">\n",
       "      <th></th>\n",
       "      <th>ord</th>\n",
       "      <th>antal förekomster</th>\n",
       "      <th>tfidf</th>\n",
       "      <th>rättstavad</th>\n",
       "    </tr>\n",
       "  </thead>\n",
       "  <tbody>\n",
       "    <tr>\n",
       "      <th>0</th>\n",
       "      <td>rälsmarknad</td>\n",
       "      <td>4</td>\n",
       "      <td>14.183114</td>\n",
       "      <td>True</td>\n",
       "    </tr>\n",
       "    <tr>\n",
       "      <th>1</th>\n",
       "      <td>verldsmarknad</td>\n",
       "      <td>11</td>\n",
       "      <td>10.789122</td>\n",
       "      <td>True</td>\n",
       "    </tr>\n",
       "    <tr>\n",
       "      <th>2</th>\n",
       "      <td>bokmarknad</td>\n",
       "      <td>8</td>\n",
       "      <td>4.810717</td>\n",
       "      <td>True</td>\n",
       "    </tr>\n",
       "    <tr>\n",
       "      <th>3</th>\n",
       "      <td>parisermarknad</td>\n",
       "      <td>1</td>\n",
       "      <td>3.951244</td>\n",
       "      <td>True</td>\n",
       "    </tr>\n",
       "    <tr>\n",
       "      <th>4</th>\n",
       "      <td>penningemarknad</td>\n",
       "      <td>7</td>\n",
       "      <td>3.620796</td>\n",
       "      <td>True</td>\n",
       "    </tr>\n",
       "    <tr>\n",
       "      <th>5</th>\n",
       "      <td>bokhandelsmarknad</td>\n",
       "      <td>1</td>\n",
       "      <td>3.034953</td>\n",
       "      <td>True</td>\n",
       "    </tr>\n",
       "    <tr>\n",
       "      <th>6</th>\n",
       "      <td>egendomsmarknad</td>\n",
       "      <td>1</td>\n",
       "      <td>2.698481</td>\n",
       "      <td>True</td>\n",
       "    </tr>\n",
       "  </tbody>\n",
       "</table>\n",
       "</div>"
      ],
      "text/plain": [
       "                 ord  antal förekomster      tfidf  rättstavad\n",
       "0        rälsmarknad                  4  14.183114        True\n",
       "1      verldsmarknad                 11  10.789122        True\n",
       "2         bokmarknad                  8   4.810717        True\n",
       "3     parisermarknad                  1   3.951244        True\n",
       "4    penningemarknad                  7   3.620796        True\n",
       "5  bokhandelsmarknad                  1   3.034953        True\n",
       "6    egendomsmarknad                  1   2.698481        True"
      ]
     },
     "execution_count": 8,
     "metadata": {},
     "output_type": "execute_result"
    }
   ],
   "source": [
    "pd.DataFrame.from_records(table)"
   ]
  }
 ],
 "metadata": {
  "kernelspec": {
   "display_name": "Python 3.10.4 ('teaching')",
   "language": "python",
   "name": "python3"
  },
  "language_info": {
   "codemirror_mode": {
    "name": "ipython",
    "version": 3
   },
   "file_extension": ".py",
   "mimetype": "text/x-python",
   "name": "python",
   "nbconvert_exporter": "python",
   "pygments_lexer": "ipython3",
   "version": "3.10.4"
  },
  "orig_nbformat": 4,
  "vscode": {
   "interpreter": {
    "hash": "0e79bad72861022d3c6602e5c1fc0d128a7160c16fa8dc23e33c27176f214652"
   }
  }
 },
 "nbformat": 4,
 "nbformat_minor": 2
}
