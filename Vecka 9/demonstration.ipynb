{
 "cells": [
  {
   "cell_type": "code",
   "execution_count": null,
   "metadata": {},
   "outputs": [],
   "source": [
    "import requests\n",
    "\n",
    "# First define the API URL, the origin of the data\n",
    "base_url = \"data.riksdagen.se\"\n",
    "endpoint_url = \"dokumentlista\"\n",
    "url = \"http://\" + base_url + \"/\" + endpoint_url  + \"/\""
   ]
  },
  {
   "cell_type": "code",
   "execution_count": null,
   "metadata": {},
   "outputs": [],
   "source": [
    "# Define search parameters\n",
    "params = {\n",
    "    'sok': 'skatt',\n",
    "    'doktyp': 'mot',\n",
    "    'utformat': 'json'\n",
    "}\n",
    "\n",
    "# Fetch the data\n",
    "response = requests.get(url, params=params)\n",
    "\n",
    "# Retrieve the data\n",
    " # The method used depends on the data formats\n",
    "data = response.json()"
   ]
  },
  {
   "cell_type": "code",
   "execution_count": null,
   "metadata": {},
   "outputs": [],
   "source": [
    "# Get the actual documents\n",
    "documents = data['dokumentlista']['dokument']\n",
    "\n",
    "# Inspect a document\n",
    "print(documents[0])"
   ]
  },
  {
   "cell_type": "code",
   "execution_count": null,
   "metadata": {},
   "outputs": [],
   "source": [
    "import pandas as pd\n",
    "\n",
    "def extract_authors(document):\n",
    "\n",
    "    return document['dokintressent']['intressent']\n",
    "\n",
    "\n",
    "authors = extract_authors(documents[0])\n",
    "\n",
    "df = pd.DataFrame(authors)\n"
   ]
  },
  {
   "cell_type": "code",
   "execution_count": null,
   "metadata": {},
   "outputs": [],
   "source": [
    "def get_document_html(document):\n",
    "    \"\"\"A function used to fetch the \n",
    "    html of a document from the Swedish Parliamentary\n",
    "    Database.\n",
    "\n",
    "    Args:\n",
    "        document (dict): A dictionary describing a document from the data.riksdagen.se/dokumentlista.\n",
    "        Requires a key 'dokument_url_text' with a URL to the document text.\n",
    "\n",
    "    Returns:\n",
    "        str: An HTML document as a string\n",
    "    \"\"\"\n",
    "\n",
    "    # Compose the URL\n",
    "    url = \"https:\" + document['dokument_url_html']\n",
    "\n",
    "    # Fetch the data\n",
    "    response = requests.get(url)\n",
    "\n",
    "    # Retrieve the data (format is text)\n",
    "    text = response.text\n",
    "\n",
    "    return text"
   ]
  },
  {
   "cell_type": "code",
   "execution_count": null,
   "metadata": {},
   "outputs": [],
   "source": [
    "from bs4 import BeautifulSoup as bs\n",
    "\n",
    "def parse_html_document(html):\n",
    "    \"\"\"A function used to parse and extract the text from\n",
    "    an HTML document.\n",
    "\n",
    "    Args:\n",
    "        html (str): An HTML document as a string\n",
    "\n",
    "    Returns:\n",
    "        str: The text content of the input HTML document\n",
    "    \"\"\"\n",
    "\n",
    "    root = bs(html, \"html\")\n",
    "\n",
    "    text = root.getText()\n",
    "\n",
    "    return text"
   ]
  },
  {
   "cell_type": "code",
   "execution_count": null,
   "metadata": {},
   "outputs": [],
   "source": [
    "for document in documents:\n",
    "\n",
    "    html = get_document_html(document)\n",
    "    text = parse_html_document(html)\n",
    "\n",
    "    print(text)\n",
    "\n",
    "    break"
   ]
  }
 ],
 "metadata": {
  "kernelspec": {
   "display_name": "Python 3.10.4 ('teaching')",
   "language": "python",
   "name": "python3"
  },
  "language_info": {
   "codemirror_mode": {
    "name": "ipython",
    "version": 3
   },
   "file_extension": ".py",
   "mimetype": "text/x-python",
   "name": "python",
   "nbconvert_exporter": "python",
   "pygments_lexer": "ipython3",
   "version": "3.10.4"
  },
  "orig_nbformat": 4,
  "vscode": {
   "interpreter": {
    "hash": "0e79bad72861022d3c6602e5c1fc0d128a7160c16fa8dc23e33c27176f214652"
   }
  }
 },
 "nbformat": 4,
 "nbformat_minor": 2
}
