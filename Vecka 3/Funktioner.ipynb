{
 "cells": [
  {
   "cell_type": "markdown",
   "metadata": {},
   "source": [
    "# Funktioner"
   ]
  },
  {
   "cell_type": "markdown",
   "metadata": {},
   "source": [
    "Funktioner är en metod för att förpacka kod för att utföra en samling instruktioner till en enda instruktion. Vanligtvis skrivs dessa för att undvika repitition, att förbättra läsbarheten, eller för att de utgör en logisk enhet, en princip inom programmering som vanligtvis kallas *DRY*, eller \"Don't repeat yourself\". I vårt fall har vi valt att skriva ut \"Hello World!\" ett sånt hiskeligt antal gånger, att vi kan effektivisera detta genom att definiera vår egen funktion:"
   ]
  },
  {
   "cell_type": "code",
   "execution_count": 9,
   "metadata": {},
   "outputs": [],
   "source": [
    "def helloWorld():\n",
    "    print(\"Hello World!\")"
   ]
  },
  {
   "cell_type": "markdown",
   "metadata": {},
   "source": [
    "Vi kallar på vår egendefinierade funktion på liknande vi sett tidigare funktioner, nu redo att återanvändas i många fler fall."
   ]
  },
  {
   "cell_type": "code",
   "execution_count": 10,
   "metadata": {},
   "outputs": [
    {
     "name": "stdout",
     "output_type": "stream",
     "text": [
      "Hello World!\n"
     ]
    }
   ],
   "source": [
    "helloWorld()"
   ]
  },
  {
   "cell_type": "markdown",
   "metadata": {},
   "source": [
    "## Argument, input och output"
   ]
  },
  {
   "cell_type": "markdown",
   "metadata": {},
   "source": [
    "En funktion består av tre huvudsakliga komponenter; ett *funktionshandtag* (eng. *handle*), *argument* och ett *returvärde*.\n",
    "\n",
    "- *Funktionshandtag* är vad man också kan kalla funktionens namn, exempelvis `print`, `len` o.s.v.\n",
    "- Ett valfritt antal *argument*, eller *inputs*. Detta är invärden till funktionen, som styr dess beteenden. Det kan motsvara att värdet ska transformeras, utvärderas eller helt enkelt bara skrivas ut. Exempel: I `print(\"Hello world!\")` så är strängen `\"Hello world!\"` ett argument till `print`. Vissa funktioner kräver inga argument, såsom `list()`.\n",
    "- Ett valfritt antal `returvärden`, eller `outputs`. En funktion kan returnera ett värde, om önskvärt, men inte nödvändigtvis alla. Funktionen `len([1, 234, 0.2])` tar en lista som *argument* och returnerar värdet `3`, som kan bindas till en variabel:\n",
    "\n",
    "Nedan funktion tar ett argument, en input, och ger ett returvärde, en output. Kan ni lista ut vad funktionen gör?\n",
    "\n",
    "<img src=\"../bilder/function.png\" width=\"700\" align=\"left\"/>\n"
   ]
  },
  {
   "cell_type": "code",
   "execution_count": 3,
   "metadata": {},
   "outputs": [
    {
     "name": "stdout",
     "output_type": "stream",
     "text": [
      "3\n"
     ]
    }
   ],
   "source": [
    "length_of_list = len([1, 234, 0.2])\n",
    "print(length_of_list)"
   ]
  },
  {
   "cell_type": "code",
   "execution_count": 4,
   "metadata": {},
   "outputs": [
    {
     "data": {
      "text/plain": [
       "235.2"
      ]
     },
     "execution_count": 4,
     "metadata": {},
     "output_type": "execute_result"
    }
   ],
   "source": [
    "sum([1, 234, 0.2])"
   ]
  },
  {
   "cell_type": "markdown",
   "metadata": {},
   "source": [
    "Observera dock att alla funktioner ger inte returvärden. Ett vanligt exempel på detta är `print`, som utför instruktionen att skriva ut något till skärmen, men returnerar inget värde när så gjorts. "
   ]
  },
  {
   "cell_type": "code",
   "execution_count": 5,
   "metadata": {},
   "outputs": [
    {
     "name": "stdout",
     "output_type": "stream",
     "text": [
      "Hello world!\n"
     ]
    }
   ],
   "source": [
    "x = print(\"Hello world!\")"
   ]
  },
  {
   "cell_type": "code",
   "execution_count": 6,
   "metadata": {},
   "outputs": [
    {
     "name": "stdout",
     "output_type": "stream",
     "text": [
      "None\n"
     ]
    }
   ],
   "source": [
    "print(x)"
   ]
  },
  {
   "cell_type": "markdown",
   "metadata": {},
   "source": [
    "Vi introducerar här värdet `None`, som betyder att inget värde har tilldelats. Det avses alltså att värdet på variabeln är odefinierat.\n",
    "\n",
    "`None` är unikt i att det är det enda värdet som är av typen `NoneType`. "
   ]
  },
  {
   "cell_type": "code",
   "execution_count": 7,
   "metadata": {},
   "outputs": [
    {
     "data": {
      "text/plain": [
       "NoneType"
      ]
     },
     "execution_count": 7,
     "metadata": {},
     "output_type": "execute_result"
    }
   ],
   "source": [
    "type(None)"
   ]
  },
  {
   "cell_type": "markdown",
   "metadata": {},
   "source": [
    "# Inbyggda funktioner"
   ]
  },
  {
   "cell_type": "markdown",
   "metadata": {},
   "source": [
    "I Python finns ett antal *inbyggda* funktioner. Dessa är en del av vad som kallas *Python standardbibliotek*, och utgörs av funktioner som alltid är tillgänglig, som exempelvis `print`, `sum`, `help` och `len`, som vi har sett tidigare.\n",
    "\n",
    "Detta inkluderar också konverteringsfunktioner, vilka kan vara väldigt användbara för att konvertera mellan olika datatyper:"
   ]
  },
  {
   "cell_type": "code",
   "execution_count": 2,
   "metadata": {},
   "outputs": [
    {
     "name": "stdout",
     "output_type": "stream",
     "text": [
      "<class 'str'>\n"
     ]
    }
   ],
   "source": [
    "x = 1.0 # float \n",
    "x = int(x) # converted to integer\n",
    "x = str(x) # converted to string\n",
    "\n",
    "print(type(x)) # observe the built in function \"type\" which returns the type of a variable"
   ]
  },
  {
   "cell_type": "code",
   "execution_count": 2,
   "metadata": {},
   "outputs": [
    {
     "name": "stdout",
     "output_type": "stream",
     "text": [
      "4\n"
     ]
    }
   ],
   "source": [
    "list_of_values = [\"top\", \"down\", \"charm\", \"strange\"]\n",
    "print(len(list_of_values))"
   ]
  },
  {
   "cell_type": "markdown",
   "metadata": {},
   "source": [
    "Om man är fundersam på hur en funktion fungerar, så är det möjligt att hämta dess dokumentation, argument och output genom funktionen `help`:"
   ]
  },
  {
   "cell_type": "code",
   "execution_count": 4,
   "metadata": {},
   "outputs": [
    {
     "name": "stdout",
     "output_type": "stream",
     "text": [
      "Help on built-in function print in module builtins:\n",
      "\n",
      "print(...)\n",
      "    print(value, ..., sep=' ', end='\\n', file=sys.stdout, flush=False)\n",
      "    \n",
      "    Prints the values to a stream, or to sys.stdout by default.\n",
      "    Optional keyword arguments:\n",
      "    file:  a file-like object (stream); defaults to the current sys.stdout.\n",
      "    sep:   string inserted between values, default a space.\n",
      "    end:   string appended after the last value, default a newline.\n",
      "    flush: whether to forcibly flush the stream.\n",
      "\n"
     ]
    }
   ],
   "source": [
    "help(print) # Without the brackets"
   ]
  },
  {
   "cell_type": "markdown",
   "metadata": {},
   "source": [
    "## Egendefinierade funktioner\n",
    "\n",
    "Vi definierade ovan vår egen första funktion. Vi skall nu försöka *generalisera* den något. \n",
    "\n",
    "En funktion definieras med en syntax - \n",
    "\n",
    "```python\n",
    "def helloWorld():\n",
    "    print(\"Hello World!\")\n",
    "```\n",
    "\n",
    "`def` är ett nyckelord som avser att en funktionsdefinition följer. `helloWorld` är *funktionshandtaget*, motsvarande ett variabelnamn för funktioner. Inom parenteserna `()` saknas det något input-argument. Kroppen hos en funktion följer efter kolon `:`, ny rad, samt *indrag*, motsvarande 4 mellanslag eller en tab.\n",
    "\n",
    "I denna funktionskropp kallar vi på en annan funktion, nämligen `print`. Vi skall nu generalisera så att funktionen inte hälsar endast på världen, utan på vad som helst som användaren önskar."
   ]
  },
  {
   "cell_type": "code",
   "execution_count": 13,
   "metadata": {},
   "outputs": [],
   "source": [
    "def hello(greeted):\n",
    "    greeting = \"Hello \" + greeted + \"!\"\n",
    "    print(greeting)"
   ]
  },
  {
   "cell_type": "markdown",
   "metadata": {},
   "source": [
    "I denna definition så tar funktionen `hello` ett argument `greeted`, en variabel som håller en sträng för vad som skall hälsas på. Dra er till minnes att `+` används för att konkatenera, sammanfoga strängar. Funktionen skapar alltså en sträng bestående av hälsningen och det som ska hälsas på, samt skriver ut resultatet. Pröva gärna själv nedan! (Observera att funktionen måste vara definierad och cellen körd för att den ska kunna användas.)"
   ]
  },
  {
   "cell_type": "code",
   "execution_count": 14,
   "metadata": {},
   "outputs": [
    {
     "name": "stdout",
     "output_type": "stream",
     "text": [
      "Hello class!\n"
     ]
    }
   ],
   "source": [
    "hello(\"class\")"
   ]
  },
  {
   "cell_type": "markdown",
   "metadata": {},
   "source": [
    "En annan användbar funktion är `input`, som tillåter användaren att ange värden interaktivt, exempelvis via Jupyter Notebook. Resultatet sparas då i en variabel som kan återanvändas."
   ]
  },
  {
   "cell_type": "code",
   "execution_count": 15,
   "metadata": {},
   "outputs": [],
   "source": [
    "name = input(\"Ange ditt namn! \")"
   ]
  },
  {
   "cell_type": "code",
   "execution_count": 16,
   "metadata": {},
   "outputs": [
    {
     "name": "stdout",
     "output_type": "stream",
     "text": [
      "Victor\n"
     ]
    }
   ],
   "source": [
    "print(name)"
   ]
  },
  {
   "cell_type": "markdown",
   "metadata": {},
   "source": [
    "En funktion som `len`, `sum` eller liknande har också ett returvärde, ett resultat. En funktion som skall återge ett resultat kräver nyckelordet `return`. Vi skapar två funktioner, en som beräknar den ökända optimala dejtingåldern, samt en som beräknar Leonardo DiCaprios maximala dejtingålder."
   ]
  },
  {
   "cell_type": "code",
   "execution_count": 3,
   "metadata": {},
   "outputs": [],
   "source": [
    "def optimal_dating_age(age):\n",
    "\n",
    "    partner_age = age / 2 - 7\n",
    "\n",
    "    return partner_age # or just return age / 2 -7\n",
    "\n",
    "def leo_maximal_dating_age(age):\n",
    "\n",
    "    optimal_partner_age = optimal_dating_age(age)\n",
    "    maximal_dating_age  = 25\n",
    "\n",
    "    return maximal_dating_age"
   ]
  },
  {
   "cell_type": "code",
   "execution_count": 4,
   "metadata": {},
   "outputs": [
    {
     "name": "stdout",
     "output_type": "stream",
     "text": [
      "14.0 25\n"
     ]
    }
   ],
   "source": [
    "print(optimal_dating_age(42), leo_maximal_dating_age(42))"
   ]
  },
  {
   "cell_type": "markdown",
   "metadata": {},
   "source": [
    "## Medlemsfunktioner\n",
    "En medlemsfunktion är en funktion som är inbyggd i en så kallad klass. Vi kommer gå igenom klasser i mer detalj senare. Exempel på klasser är listor och dictionaries, och dessa har ett antal funktioner man kommer åt genom en så kallad *medlemspunkt* (i brist på bättre ord), exempelvis `list.append`. Dessa funktioner har ofta egenskaper som på något sätt modifierar listan eller värdena i listan."
   ]
  },
  {
   "cell_type": "code",
   "execution_count": 5,
   "metadata": {},
   "outputs": [
    {
     "name": "stdout",
     "output_type": "stream",
     "text": [
      "['Oscar II', 'Gustaf V', 'Gustaf VI Adolf', 'Carl XVI Gustaf', 'Victoria']\n"
     ]
    }
   ],
   "source": [
    "l = [\"Oscar II\", \"Gustaf V\", \"Gustaf VI Adolf\", \"Carl XVI Gustaf\"]\n",
    "\n",
    "l.append(\"Victoria\")\n",
    "\n",
    "print(l)"
   ]
  },
  {
   "cell_type": "markdown",
   "metadata": {},
   "source": [
    "`.append` lägger alltså till argumentet i slutet på listan. Observera att den inte ger något returvärde, utan endast modifierar listan `l`. En annan bra funktion att känna till är `.pop`"
   ]
  },
  {
   "cell_type": "code",
   "execution_count": 6,
   "metadata": {},
   "outputs": [
    {
     "data": {
      "text/plain": [
       "'Victoria'"
      ]
     },
     "execution_count": 6,
     "metadata": {},
     "output_type": "execute_result"
    }
   ],
   "source": [
    "l.pop()"
   ]
  },
  {
   "cell_type": "markdown",
   "metadata": {},
   "source": [
    "Denna funktion tar bort sista värdet i listan och returnerar värdet. Listan har nu alltså samma element som från början."
   ]
  },
  {
   "cell_type": "markdown",
   "metadata": {},
   "source": [
    "Ett vanligt sätt att populera listor är att börja med en tom lista `[]` och successivt fylla den med hjälp av `.append`. \n"
   ]
  },
  {
   "cell_type": "code",
   "execution_count": 8,
   "metadata": {},
   "outputs": [
    {
     "name": "stdout",
     "output_type": "stream",
     "text": [
      "[900, 860, 871, 945, 1004, 731]\n"
     ]
    }
   ],
   "source": [
    "kilowatthour_consumption = []\n",
    "\n",
    "kilowatthour_consumption.append(900)\n",
    "kilowatthour_consumption.append(860)\n",
    "kilowatthour_consumption.append(871)\n",
    "kilowatthour_consumption.append(945)\n",
    "kilowatthour_consumption.append(1004)\n",
    "kilowatthour_consumption.append(731)\n",
    "\n",
    "print(kilowatthour_consumption)"
   ]
  },
  {
   "cell_type": "markdown",
   "metadata": {},
   "source": [
    "## Exempel 1: Optimal dejting?\n",
    "Vi skapar nu ett mer avancerat exempel. \n",
    "\n",
    "Tänk er en funktion som tar in två argument, för- och efternamn. Den sätter ihop detta till ett nytt namn med formatet `\"efternamn, förnamn\"`. \n",
    "\n",
    "Denna funktion skall användas i ytterligare en funktion, som kallar på användarens input två gånger, för att ange för- och efternamnen. Resultaten sparas i variabler och skickas till den första funktionen.\n",
    "\n",
    "Slutligen skrivs det resulterande namnformatet ut."
   ]
  },
  {
   "cell_type": "code",
   "execution_count": 1,
   "metadata": {},
   "outputs": [],
   "source": [
    "def assemble_name(first_name, last_name):\n",
    "\n",
    "    result = last_name + \", \" + first_name\n",
    "\n",
    "def request_username_and_present():\n",
    "\n",
    "    first_name = input(\"Ange ditt förnamn:\")\n",
    "    last_name  = input(\"Ange ditt efternamn\")\n",
    "\n",
    "    formatted_name = assemble_name(first_name, last_name)\n",
    "\n",
    "    print(formatted_name)"
   ]
  },
  {
   "cell_type": "code",
   "execution_count": 2,
   "metadata": {},
   "outputs": [
    {
     "name": "stdout",
     "output_type": "stream",
     "text": [
      "None\n"
     ]
    }
   ],
   "source": [
    "request_username_and_present()"
   ]
  },
  {
   "cell_type": "markdown",
   "metadata": {},
   "source": [
    "## Exempel 2: List-manipulation\n",
    "\n",
    "Ett vanligt exempel på varför vi vill ha funktioner är för att de underlättar repititiva uppgifter. Om vi bara ska göra något en gång behövs oftast ingen funktion, men om avsikten är att koden skall användas igen, av flera personer, eller tillämpas på flera olika fall, kanske man vill använda en funktion. Ett exempel på detta är funktioner som exempelvis ska användas på en lista. Vi skall nu ta vår kilowattimme-beräkning och beräkna våra uppskattade elkostnader varje månad."
   ]
  },
  {
   "cell_type": "code",
   "execution_count": 10,
   "metadata": {},
   "outputs": [
    {
     "name": "stdout",
     "output_type": "stream",
     "text": [
      "[3693.42, 3529.268, 3574.4098, 3878.091, 4120.215200000001, 2999.8777999999998]\n"
     ]
    }
   ],
   "source": [
    "def cost_from_kwh(kwh):\n",
    "\n",
    "    cost_per_kwh  = 410.38 # öre, 2022-09-07\n",
    "    ore_per_krona = 100\n",
    "    total_cost = cost_per_kwh * kwh / ore_per_krona\n",
    "\n",
    "    return total_cost\n",
    "\n",
    "\n",
    "costs = []\n",
    "\n",
    "for kwh in kilowatthour_consumption:\n",
    "\n",
    "    cost = cost_from_kwh(kwh)\n",
    "    costs.append(cost)\n",
    "\n",
    "print(costs)"
   ]
  }
 ],
 "metadata": {
  "kernelspec": {
   "display_name": "Python 3.10.4 ('teaching')",
   "language": "python",
   "name": "python3"
  },
  "language_info": {
   "codemirror_mode": {
    "name": "ipython",
    "version": 3
   },
   "file_extension": ".py",
   "mimetype": "text/x-python",
   "name": "python",
   "nbconvert_exporter": "python",
   "pygments_lexer": "ipython3",
   "version": "3.10.4"
  },
  "orig_nbformat": 4,
  "vscode": {
   "interpreter": {
    "hash": "0e79bad72861022d3c6602e5c1fc0d128a7160c16fa8dc23e33c27176f214652"
   }
  }
 },
 "nbformat": 4,
 "nbformat_minor": 2
}
