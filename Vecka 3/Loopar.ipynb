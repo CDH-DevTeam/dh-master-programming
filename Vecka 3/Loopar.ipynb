{
 "cells": [
  {
   "cell_type": "markdown",
   "metadata": {},
   "source": [
    "# Loopar: Att upprepa och traversera\n",
    "I förra texten gick vi igenom "
   ]
  },
  {
   "cell_type": "markdown",
   "metadata": {},
   "source": [
    "# Exempel: En tabell\n",
    "Ni har vid flera tillfällen fått se ett kalkylark, eller en tabell som ett exempel på datastruktur. Vi ska nu analysera vad en tabell faktiskt består av.\n",
    "\n",
    "<style type=\"text/css\">\n",
    ".tg  {border-collapse:collapse;border-spacing:0;}\n",
    ".tg td{border-color:black;border-style:solid;border-width:1px;font-family:Arial, sans-serif;font-size:14px;\n",
    "  overflow:hidden;padding:10px 5px;word-break:normal;}\n",
    ".tg th{border-color:black;border-style:solid;border-width:1px;font-family:Arial, sans-serif;font-size:14px;\n",
    "  font-weight:normal;overflow:hidden;padding:10px 5px;word-break:normal;}\n",
    ".tg .tg-amwm{font-weight:bold;text-align:center;vertical-align:top}\n",
    ".tg .tg-0lax{text-align:left;vertical-align:top}\n",
    ".tg .tg-7zrl{text-align:left;vertical-align:bottom}\n",
    "</style>\n",
    "<table class=\"tg\">\n",
    "<thead>\n",
    "  <tr>\n",
    "    <th class=\"tg-amwm\">ord</th>\n",
    "    <th class=\"tg-amwm\">antal förekomster</th>\n",
    "    <th class=\"tg-amwm\">tfidf</th>\n",
    "    <th class=\"tg-0lax\"><span style=\"font-weight:bold\">rättstavad</span><br></th>\n",
    "  </tr>\n",
    "</thead>\n",
    "<tbody>\n",
    "  <tr>\n",
    "    <td class=\"tg-7zrl\">string</td>\n",
    "    <td class=\"tg-7zrl\">integer</td>\n",
    "    <td class=\"tg-7zrl\">float</td>\n",
    "    <td class=\"tg-0lax\">boolean</td>\n",
    "  </tr>\n",
    "  <tr>\n",
    "    <td class=\"tg-7zrl\">rälsmarknad</td>\n",
    "    <td class=\"tg-7zrl\">4</td>\n",
    "    <td class=\"tg-7zrl\">14.18311444</td>\n",
    "    <td class=\"tg-0lax\">True</td>\n",
    "  </tr>\n",
    "  <tr>\n",
    "    <td class=\"tg-7zrl\">verldsmarknad</td>\n",
    "    <td class=\"tg-7zrl\">11</td>\n",
    "    <td class=\"tg-7zrl\">10.78912178</td>\n",
    "    <td class=\"tg-0lax\">False</td>\n",
    "  </tr>\n",
    "  <tr>\n",
    "    <td class=\"tg-7zrl\">bokmarknad</td>\n",
    "    <td class=\"tg-7zrl\">8</td>\n",
    "    <td class=\"tg-7zrl\">4.81071705</td>\n",
    "    <td class=\"tg-0lax\">True</td>\n",
    "  </tr>\n",
    "  <tr>\n",
    "    <td class=\"tg-7zrl\">parisermarknad</td>\n",
    "    <td class=\"tg-7zrl\">1</td>\n",
    "    <td class=\"tg-7zrl\">3.951243719</td>\n",
    "    <td class=\"tg-0lax\">True</td>\n",
    "  </tr>\n",
    "  <tr>\n",
    "    <td class=\"tg-7zrl\">penningemarknad</td>\n",
    "    <td class=\"tg-7zrl\">7</td>\n",
    "    <td class=\"tg-7zrl\">3.620795599</td>\n",
    "    <td class=\"tg-0lax\">True</td>\n",
    "  </tr>\n",
    "  <tr>\n",
    "    <td class=\"tg-7zrl\">bokhandelsmarknad</td>\n",
    "    <td class=\"tg-7zrl\">1</td>\n",
    "    <td class=\"tg-7zrl\">3.034952987</td>\n",
    "    <td class=\"tg-0lax\">True</td>\n",
    "  </tr>\n",
    "  <tr>\n",
    "    <td class=\"tg-7zrl\">egendomsmarknad</td>\n",
    "    <td class=\"tg-7zrl\">1</td>\n",
    "    <td class=\"tg-7zrl\">2.69848075</td>\n",
    "    <td class=\"tg-0lax\">True</td>\n",
    "  </tr>\n",
    "</tbody>\n",
    "</table>"
   ]
  },
  {
   "cell_type": "markdown",
   "metadata": {},
   "source": [
    "En tabell består av metadata, kolumnnamnen och deras associerade typ. I vårt fall är det förekomster av sammansättningar av ordet `marknad` i Sveriges tvåkammarriksdags handlingar. Metadatan hos vår tabell är alltså\n",
    "- ord (sammansättningen)\n",
    "- antal förekomster (hur många gånger ordet förekommer i korpuset)\n",
    "- tfidf (ett mått på dess relevans i texten)\n",
    "- rättstavad (huruvida ordet är rättstavat)\n",
    "\n",
    "Varje kolumn har också en datatyp associerad med sig. I så kallade **strukturerade data** är det oftast viktigt att dessa stämmer med kolumnens innehåll, så att inte antal förekomster ibland skrivs ut i klartext, exempelvis.\n",
    "\n",
    "Tabellen består av rader och kolumner. Varje kolumn är en egenskap eller feature hos datamängden som vi vill spara.\n",
    "\n",
    "En rad innehåller en observation av dessa metadata:\n",
    "<table class=\"tg\">\n",
    "  <tr>\n",
    "    <td class=\"tg-7zrl\">rälsmarknad</td>\n",
    "    <td class=\"tg-7zrl\">4</td>\n",
    "    <td class=\"tg-7zrl\">14.18311444</td>\n",
    "    <td class=\"tg-0lax\">True</td>\n",
    "  </tr>\n",
    "</table>\n",
    "\n",
    "Tabellen kan därför betraktas som en lista av rader, observationer. Varje observation är därför också en lista med namngivna egenskaper som vi sparat. \n",
    "\n",
    "Det är vår ambition att vi i slutet av denna föreläsning skall kunna programmera motsvarande en tabell för våra data, som är läsbar för en dator."
   ]
  },
  {
   "cell_type": "markdown",
   "metadata": {},
   "source": [
    "### Att traversera en lista: For-loopar\n",
    "Mycket data är organiserad som någon form av lista. Det kan vara observationer från ett experiment, dokument i ett arkiv, eller helt enkelt namn och metadata. Text kan ofta representeras som listor av ord, meningar eller tecken. Det är därför ofta intressant att genomföra någon form av instruktion för varje element i en lista. \n",
    "\n",
    "För detta syfte använder vi så kallade `for-loopar`. En loop är en konstruktion som *itererar* genom någonting, exempelvis en lista.\n",
    "\n",
    "Betrakta nedan lista över namn:"
   ]
  },
  {
   "cell_type": "code",
   "execution_count": 13,
   "metadata": {},
   "outputs": [],
   "source": [
    "names = ['Leia', 'Rey', 'Obi-Wan', 'Leia', 'Maul', 'C-3PO', 'Maul', 'Luke', 'Yoda', 'Leia', 'Grogu']"
   ]
  },
  {
   "cell_type": "markdown",
   "metadata": {},
   "source": [
    "Loopar tillåter oss att tillämpa en funktion eller instruktion på varje enskilt element. Vi exemplifierar med den enkla `print`-funktionen"
   ]
  },
  {
   "cell_type": "code",
   "execution_count": 16,
   "metadata": {},
   "outputs": [
    {
     "name": "stdout",
     "output_type": "stream",
     "text": [
      "Leia\n",
      "Rey\n",
      "Obi-Wan\n",
      "Leia\n",
      "Maul\n",
      "C-3PO\n",
      "Maul\n",
      "Luke\n",
      "Yoda\n",
      "Leia\n",
      "Grogu\n"
     ]
    }
   ],
   "source": [
    "for name in names:\n",
    "    print(name)"
   ]
  },
  {
   "cell_type": "markdown",
   "metadata": {},
   "source": [
    "Detta är ett typexempel på syntax i Python, men vi måste dissekera vad som händer. \n",
    "\n",
    "`for` och `in` är reserverade nyckelord. Man bör alltså inte döpa variabler till dessa namn. \n",
    "\n",
    "`name` är en variabel som representerar varje enskilt element i listan `names`. Detta variabelnamn kan bytas ut till vad som helst som anses mer passande, exempelvis"
   ]
  },
  {
   "cell_type": "code",
   "execution_count": 17,
   "metadata": {},
   "outputs": [
    {
     "name": "stdout",
     "output_type": "stream",
     "text": [
      "Leia\n",
      "Rey\n",
      "Obi-Wan\n",
      "Leia\n",
      "Maul\n",
      "C-3PO\n",
      "Maul\n",
      "Luke\n",
      "Yoda\n",
      "Leia\n",
      "Grogu\n"
     ]
    }
   ],
   "source": [
    "for element in names:\n",
    "    print(element)"
   ]
  },
  {
   "cell_type": "markdown",
   "metadata": {},
   "source": [
    "som alltså gör samma sak. Programmet gör alltså vill säga\n",
    "- För varje element i listan `names`, utför instruktionen `print` för elementet.\n",
    "\n",
    "Instruktionerna som skall utföras varje iteration skrivs i Python med en indentering, 5 mellanslag eller ett `Tab`-nedslag. Detta är typisk *syntax*, ett ej betydelsebärande men obligatoriskt inslag i språket. Om syntaxen inte stämmer kommer ni att få ett `SyntaxError`.\n",
    "\n",
    "Vi kan skapa ett liknande program som utför samma instruktion ett visst antal gånger, genom att skriva:"
   ]
  },
  {
   "cell_type": "code",
   "execution_count": 19,
   "metadata": {},
   "outputs": [
    {
     "name": "stdout",
     "output_type": "stream",
     "text": [
      "Choklad\n",
      "Choklad\n",
      "Choklad\n",
      "Choklad\n",
      "Choklad\n",
      "Choklad\n",
      "Choklad\n",
      "Choklad\n",
      "Choklad\n",
      "Choklad\n"
     ]
    }
   ],
   "source": [
    "for i in [0, 1, 2, 3, 4, 5, 6, 7, 8, 9]:\n",
    "    print(\"Choklad\")\n",
    "    # print(i)"
   ]
  },
  {
   "cell_type": "markdown",
   "metadata": {},
   "source": [
    "För 10 värden i listan skrivs alltså `Choklad` ut. Variabeln `i` tilldelas varje iteration detta värde, och instruktionen i indenteringen utförs. Testa att avkommentera det andra `print`-kommandot för att se vilket värde `i` antar.\n",
    "\n",
    "Ett ekvivalent sätt att skriva vår loop över `names` hade alltså varit att skriva\n",
    "\n",
    "```python\n",
    "for i in [0, 1, 2, 3, 4, 5, 6, 7, 8, 9, 10]:\n",
    "    print(names[i])\n",
    "\n",
    "```\n",
    "där vi alltså itererar genom varje index för namnen i listan och hämtar värdet på namnet. En shorthand för detta är att skriva"
   ]
  },
  {
   "cell_type": "code",
   "execution_count": 20,
   "metadata": {},
   "outputs": [
    {
     "name": "stdout",
     "output_type": "stream",
     "text": [
      "Leia\n",
      "Rey\n",
      "Obi-Wan\n",
      "Leia\n",
      "Maul\n",
      "C-3PO\n",
      "Maul\n",
      "Luke\n",
      "Yoda\n",
      "Leia\n",
      "Grogu\n"
     ]
    }
   ],
   "source": [
    "for i in range(0, len(names)):\n",
    "    print(names[i])"
   ]
  },
  {
   "cell_type": "markdown",
   "metadata": {},
   "source": [
    "där `range(min, max)` genererar en lista med heltal mellan `min` och `maximum-1`."
   ]
  },
  {
   "cell_type": "markdown",
   "metadata": {},
   "source": [
    "Vi är nu intresserade av att veta hur många gånger `Leia` förekommer i listan. Man kan tänka sig att man vill veta hur många gånger personen förekommer i en databas, exempelvis.\n",
    "\n",
    "Vad vi gör är att vi skriver en loop som går igenom varje element i listan och kontrollerar om namnet är just Leia. I så fall skrivs det ut till skärmen."
   ]
  },
  {
   "cell_type": "code",
   "execution_count": 14,
   "metadata": {},
   "outputs": [
    {
     "name": "stdout",
     "output_type": "stream",
     "text": [
      "Leia\n",
      "Leia\n",
      "Leia\n"
     ]
    }
   ],
   "source": [
    "for name in names:\n",
    "    if name == 'Leia':\n",
    "        print(name)"
   ]
  }
 ],
 "metadata": {
  "kernelspec": {
   "display_name": "Python 3.10.4 ('teaching')",
   "language": "python",
   "name": "python3"
  },
  "language_info": {
   "codemirror_mode": {
    "name": "ipython",
    "version": 3
   },
   "file_extension": ".py",
   "mimetype": "text/x-python",
   "name": "python",
   "nbconvert_exporter": "python",
   "pygments_lexer": "ipython3",
   "version": "3.10.4"
  },
  "orig_nbformat": 4,
  "vscode": {
   "interpreter": {
    "hash": "0e79bad72861022d3c6602e5c1fc0d128a7160c16fa8dc23e33c27176f214652"
   }
  }
 },
 "nbformat": 4,
 "nbformat_minor": 2
}
