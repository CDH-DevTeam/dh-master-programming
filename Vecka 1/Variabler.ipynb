{
 "cells": [
  {
   "cell_type": "markdown",
   "metadata": {},
   "source": [
    "# Variabler\n",
    "Vi har nu diskuterat *värden* av *typer*. Det blir snabbt relevant att använda sig av instruktioner för att spara och manipulera värden. Dessa kallas vanligen för *variabler*, och brukar beskrivas som en typ av behållare. Variabler har ett *namn* och ett *värde*. \n",
    "\n",
    "Vi kan skapa en variabel vid namn **a** som håller ett värde av typen **sträng** genom tilldelningsoperatorn, **=**. Observera att detta som vanligtvis kallas likhetstecken, inom programmering vanligtvis kallas tilldelningstecken. Likhet testas istället vanligen med **==**."
   ]
  },
  {
   "cell_type": "code",
   "execution_count": 2,
   "metadata": {},
   "outputs": [],
   "source": [
    "a = \"Hello World!\""
   ]
  },
  {
   "cell_type": "markdown",
   "metadata": {},
   "source": [
    "Vi har nu skapat en *beständig* variabel för värdet `\"Hello world\"`. På så vis kan vi återanvända värdet i senare tillämpningar och behöver inte ange det flera gånger.\n",
    "\n",
    "Nedan kallar vi på funktionen `print` och ber den skriva ut `a`. Då hämtas värdet av variabeln och skrivs ut till skärmen:"
   ]
  },
  {
   "cell_type": "code",
   "execution_count": 1,
   "metadata": {},
   "outputs": [
    {
     "ename": "NameError",
     "evalue": "name 'a' is not defined",
     "output_type": "error",
     "traceback": [
      "\u001b[0;31m---------------------------------------------------------------------------\u001b[0m",
      "\u001b[0;31mNameError\u001b[0m                                 Traceback (most recent call last)",
      "\u001b[1;32m/home/vws/Projects/undervisning/dh/programmering/Variabler.ipynb Cell 4\u001b[0m in \u001b[0;36m<cell line: 1>\u001b[0;34m()\u001b[0m\n\u001b[0;32m----> <a href='vscode-notebook-cell:/home/vws/Projects/undervisning/dh/programmering/Variabler.ipynb#ch0000002?line=0'>1</a>\u001b[0m \u001b[39mprint\u001b[39m(a)\n",
      "\u001b[0;31mNameError\u001b[0m: name 'a' is not defined"
     ]
    }
   ],
   "source": [
    "print(a)"
   ]
  },
  {
   "cell_type": "markdown",
   "metadata": {},
   "source": [
    "Observera att om man inte kör cellen där `a` definieras först, så kommer `print` skicka ett fel:\n",
    "\n",
    "```\n",
    "NameError                                 Traceback (most recent call last)\n",
    "/home/vws/Projects/undervisning/dh/programmering/Variabler.ipynb Cell 4 in <cell line: 1>()\n",
    "----> 1 print(a)\n",
    "\n",
    "NameError: name 'a' is not defined\n",
    "\n",
    "```\n",
    "\n",
    "Vårt programmeringsparadigm är alltså **sekventiellt**! Alla variabler och funktioner måste vara köras **innan** man kallar på dem. \n",
    "\n",
    "Det är således möjligt för oss att definiera om värdet på `a`. Låt oss pröva detta och sedan skriva ut värdet."
   ]
  },
  {
   "cell_type": "code",
   "execution_count": 3,
   "metadata": {},
   "outputs": [],
   "source": [
    "a = 10"
   ]
  },
  {
   "cell_type": "code",
   "execution_count": 4,
   "metadata": {},
   "outputs": [
    {
     "name": "stdout",
     "output_type": "stream",
     "text": [
      "10\n"
     ]
    }
   ],
   "source": [
    "print(a)"
   ]
  },
  {
   "cell_type": "markdown",
   "metadata": {},
   "source": [
    "Om dessa celler då körs i följd kommer `print` att skriva ut `10` snarare än `\"Hello world\"`. Vi kan testa för att se vad värdet i `a` faktiskt är:"
   ]
  },
  {
   "cell_type": "code",
   "execution_count": 5,
   "metadata": {},
   "outputs": [
    {
     "data": {
      "text/plain": [
       "False"
      ]
     },
     "execution_count": 5,
     "metadata": {},
     "output_type": "execute_result"
    }
   ],
   "source": [
    "a == \"Hello world!\""
   ]
  },
  {
   "cell_type": "markdown",
   "metadata": {},
   "source": [
    "Variabelnamn skrivs med vanliga tecken, utan citationstecken, specialkaraktärer och mellanslag. Exempelvis kan vi sätta värdet på variabeln <code>a</code> genom att skriva <code>a=10</code>. Det är en förvirrande notation, men om vi vill testa om <code>a</code>:s värde är 10, skrivs <code>a==10</code>, vilket returnerar \"sant\".\n",
    "\n",
    "Variabler som tilldelats ett värde <b>behåller sitt värde mellan celler</b> tills de omdefinieras eller Jupyter startas om.\n",
    "\n",
    "Det finns alltså ett *minne* som håller reda på värdet av dina sparade variabler."
   ]
  },
  {
   "cell_type": "code",
   "execution_count": 6,
   "metadata": {},
   "outputs": [
    {
     "name": "stdout",
     "output_type": "stream",
     "text": [
      "Min första variabel: 2\n",
      "Min andra variabel: 12\n",
      "Min första variabel + min andra variabel: 14\n"
     ]
    }
   ],
   "source": [
    "# Tilldela ett värde till en variabel\n",
    "min_första_variabel = 2\n",
    "print('Min första variabel:', min_första_variabel)\n",
    "\n",
    "# Tilldela ett värde hämtat från en tidigare definierad variabel\n",
    "min_andra_variabel = min_första_variabel+10\n",
    "print('Min andra variabel:', min_andra_variabel)\n",
    "\n",
    "# Genomför beräkningar med variabler som om de vore tal.\n",
    "print('Min första variabel + min andra variabel:', (min_första_variabel + min_andra_variabel))"
   ]
  },
  {
   "cell_type": "markdown",
   "metadata": {},
   "source": [
    "Man kan med enkelhet uppdatera värdena hos en variabel. Genom att tilldela variabeln ett nytt värde skrivs det gamla över helt. Man kan också använda det gamla värdet för uppdateringen, exempelvis med konstruktionen"
   ]
  },
  {
   "cell_type": "code",
   "execution_count": 1,
   "metadata": {},
   "outputs": [
    {
     "name": "stdout",
     "output_type": "stream",
     "text": [
      "10\n",
      "15\n"
     ]
    }
   ],
   "source": [
    "x = 10\n",
    "print(x)\n",
    "x = x + 5\n",
    "print(x)"
   ]
  },
  {
   "cell_type": "markdown",
   "metadata": {},
   "source": [
    "Tilldelningar läses lämpligen **från höger** till vänster. På den tredje raden hämtas värdet `x`, som ju är `10` och adderas med `5`. Det resulterande värdet blir `15` som till sist tilldelas variabeln `x` igen."
   ]
  },
  {
   "cell_type": "markdown",
   "metadata": {},
   "source": [
    "### Övning\n",
    "\n",
    "1. Spara din ålder som siffra i en variabel med samma namn som ditt förnamn.\n",
    "2. Spara din värdet av din åldersvariabel - 15 i en variabel vid namn *min_önskeålder*.\n",
    "3. Skriv ut din önsekeålder till skärmen."
   ]
  },
  {
   "cell_type": "markdown",
   "metadata": {},
   "source": [
    "- Hur ger du ett värde till en variabel?\n",
    "- Hur ändrar du värdet hos en variabel? Ge ett exempel."
   ]
  },
  {
   "cell_type": "code",
   "execution_count": null,
   "metadata": {},
   "outputs": [],
   "source": []
  }
 ],
 "metadata": {
  "kernelspec": {
   "display_name": "Python 3.10.4 ('teaching')",
   "language": "python",
   "name": "python3"
  },
  "language_info": {
   "codemirror_mode": {
    "name": "ipython",
    "version": 3
   },
   "file_extension": ".py",
   "mimetype": "text/x-python",
   "name": "python",
   "nbconvert_exporter": "python",
   "pygments_lexer": "ipython3",
   "version": "3.10.4"
  },
  "orig_nbformat": 4,
  "vscode": {
   "interpreter": {
    "hash": "0e79bad72861022d3c6602e5c1fc0d128a7160c16fa8dc23e33c27176f214652"
   }
  }
 },
 "nbformat": 4,
 "nbformat_minor": 2
}
