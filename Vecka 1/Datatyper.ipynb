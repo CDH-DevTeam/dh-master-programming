{
 "cells": [
  {
   "cell_type": "markdown",
   "metadata": {},
   "source": [
    "# Datatyper\n",
    "Programmering handlar endast om en sak - utbytet av data mellan människor, program och datorer. Alla programmeringsspråk är byggda för att hantera information, data, av olika typer. Det finns därför ett antal vanligt förekommande s.k. *datatyper* (eng. *types*) som har olika egenskaper. \n",
    "\n",
    "## Syftet med datatyper\n",
    "Det huvudsakliga syftet med datatyper är att de skall på ett träffsäkert sätt beskriva och avbilda verkliga exempel på data. Man kan tänka sig många verkliga exempel på typer - mitt husdjur Heidi är en *katt*, som är ett exempel på ett *däggdjur*, o.s.v. Dessa är alla typer, som är viktiga att vara medveten om, säg när man går till veterinären eller ska köpa mat. Rätt mat till rätt djur. \n",
    "\n",
    "Skillnaden mellan *typ* och *klass* eller *kategori* är ofta hårfin, och många gånger är de i praktiken samma sak. I programmeringssammanhang så är dock typer tämligen väldefinerade. De är också produktiva, i den bemärkelsen att nya typer kan tillkomma och programmeras.\n",
    "\n",
    "I Python så kan man dock prata om följande grundläggande datatyper:\n",
    "- Heltal (*integer*, *int*)\n",
    "- Flyttal (*float*)\n",
    "- Sträng (*string*)\n",
    "- Boolean (*boolean*, *bool*)\n",
    "- Lista (*list*)\n",
    "- Tupel (*tuple*)\n",
    "- Lexikon (*dictionary*, *dict*)\n",
    "\n",
    "## Abstraktion\n",
    "Ett vanligt begrepp inom programmering är vad som kallas *abstraktion*, en metod för att generalisera egenskaper hos det program, modell eller data som man behandlar. I vårt första exempel så har vi en så kallad *instans* av en **katt**. Instanser är alltså ett fall av säg en katt, men inte alla katter är just min Heidi.\n",
    "\n",
    "**katt** utgör alltså en abstraktion av min Heidi. De har alla liknande egenskaper, såsom fyra ben, morrhår och liknande genetik. En vidare abstraktion är **däggdjur**, djur som föder levande ungar, men man behöver inte nödvändigtvis gå åt släktskapshållet. En annan abstraktion är **fyrfota djur** eller **pälsdjur**. Det är ju då värt att notera att inte alla katter föds med päls, så denna typ är kanske inte abstrakt nog att fånga variationen hos katter. Katter föds dock vanligtvis med fyra ben.\n",
    "\n",
    "Hittills har vi dock gjort *modellering* endast av data med fysiska referenter. Inom programmering är detta relativt ovanligt, åtminstone jämfört med att arbeta med *metadata* (data om data). Betrakta en katt. Den har följande relevanta metadata:\n",
    "\n",
    "| Antal ben | Vikt | Namn | Chippad? |\n",
    "| --- | --- | --- | --- |\n",
    "| 4 | 2.1 | \"Heidi\" | sant |\n",
    "\n",
    "Om vi vill spara information om denna använder vi oss av ett antal olika datatyper. *Heltal* (eng. *integers*) används för uppräkneliga ting, som du kan räkna på fingrarna. En katt har exempelvis 4 ben. Antal ben har alltså typen **heltal**. Observera att benen själva kan ha en annan typ, men vi är intresserade av abstraktionen \"antal\".\n",
    "\n",
    "Vikt å andra sidan är strikt inte uppräknelig. Du kan med lätthet vara väga 60 kg, men också 60.4 kg, eller 60 kilogram, 400 gram och 11 milligram desto noggrannare du vill vara. Vikt är typiskt inte uppräknelig, med högre noggrannhet kan du gå från 19 -> 19.4 -> 19.41 -> 19.412, o.s.v.. Vikt brukar därför sägas ha typen **flyttal** (eng. *float*), som är döpt efter att decimalpunkten sägs *flyta* längs talet.\n",
    "\n",
    "Därefter har vi namnet, som ju varken beskrivs väl av heltal eller flyttal. Namnet har typen **sträng** (eng. *string*), och beskriver en följd av karaktärer/bokstäver, det vill säga text. \n",
    "\n",
    "Slutligen har vi påståendet om katten är chippad eller ej. Detta påstående är antingen *sant* eller *falskt*. Det är karaktäristiskt för vad som kallas *booleaner* (eng. *booleans*). Det finns inget utrymme för tvetydighet hos värdet på en boolean - en instans är antingen sann eller falsk, exempelvis om en artikel är publicerad eller ej. \n",
    "\n",
    "### Fördjupning\n",
    "Varför göra skillnad på uppräkneligt och ouppräkneligt? Detta grundar sig i datorers konstruktion. Att ständigt hålla reda på antalet decimaler efter decimalpunkten kräver tekniskt mer lagringsutrymme än för ett heltal. Du kan också alltid vara säker på att ingen lagt in att de har 2.5 barn i sin databas.\n",
    "\n",
    "## Operatorer: Att arbeta med datatyper\n",
    "Datatyper fyller som sagt olika syften. Utöver att de *modellerar* olika saker, så *opererar* de också olika. Programmering handlar i grunden om en sak - att transformera, kommunicera och göra beräkningar med data. Alla typer av operationer kan inte göras med alla datatyper.\n",
    "\n",
    "De mest grundläggande operationerna är fyra räknesätten: + - * /. Dessa fungerar väldigt olika, om de fungerar alls, för olika datatyper. För heltal och flyttal fungerar de som förväntat."
   ]
  },
  {
   "cell_type": "markdown",
   "metadata": {},
   "source": [
    "Markera en cell nedan och klicka på **Run** högst upp i notebookens verktygslåda. Då kommer Python att köra nedan kod."
   ]
  },
  {
   "cell_type": "code",
   "execution_count": 4,
   "metadata": {},
   "outputs": [
    {
     "data": {
      "text/plain": [
       "2"
      ]
     },
     "execution_count": 4,
     "metadata": {},
     "output_type": "execute_result"
    }
   ],
   "source": [
    "1+1"
   ]
  },
  {
   "cell_type": "code",
   "execution_count": 5,
   "metadata": {},
   "outputs": [
    {
     "data": {
      "text/plain": [
       "-57.4"
      ]
     },
     "execution_count": 5,
     "metadata": {},
     "output_type": "execute_result"
    }
   ],
   "source": [
    "3-60.4"
   ]
  },
  {
   "cell_type": "code",
   "execution_count": 6,
   "metadata": {},
   "outputs": [
    {
     "data": {
      "text/plain": [
       "0.7"
      ]
     },
     "execution_count": 6,
     "metadata": {},
     "output_type": "execute_result"
    }
   ],
   "source": [
    "7/10"
   ]
  },
  {
   "cell_type": "markdown",
   "metadata": {},
   "source": [
    "Python har en inbyggd *funktion* för att avgöra vilken typ ett värde har, nämligen *type*. Detta kan vara smidigt om man är osäker på typen av ett värde, eller måste se till att allt har samma typ:"
   ]
  },
  {
   "cell_type": "code",
   "execution_count": 1,
   "metadata": {},
   "outputs": [
    {
     "data": {
      "text/plain": [
       "float"
      ]
     },
     "execution_count": 1,
     "metadata": {},
     "output_type": "execute_result"
    }
   ],
   "source": [
    "type(0.7)"
   ]
  },
  {
   "cell_type": "markdown",
   "metadata": {},
   "source": [
    "Observera att Jupyter automatiskt skriver ut värden som skrivs i en cell utan att man använder funktionen `print`. Detta är smidigt, men inte hur det vanligtvis fungerar i andra programmeringsmiljöer."
   ]
  },
  {
   "cell_type": "markdown",
   "metadata": {},
   "source": [
    "I praktiken är skillnaden mellan heltal och flyttal väldigt slapp i Python, och nästan all matematik kan genomföras helt utan att bry sig om heltal. Men vi kommer stöta på fall senare där skillnaden blir viktig, och dessa inte är utbytbara."
   ]
  },
  {
   "cell_type": "markdown",
   "metadata": {},
   "source": [
    "Observera dock att det är nu inkompatibla data kommer in i spelet - vad innebär det att addera ett heltal och ett namn?"
   ]
  },
  {
   "cell_type": "code",
   "execution_count": 7,
   "metadata": {},
   "outputs": [
    {
     "ename": "TypeError",
     "evalue": "unsupported operand type(s) for +: 'int' and 'str'",
     "output_type": "error",
     "traceback": [
      "\u001b[0;31m---------------------------------------------------------------------------\u001b[0m",
      "\u001b[0;31mTypeError\u001b[0m                                 Traceback (most recent call last)",
      "\u001b[1;32m/home/vws/Projects/undervisning/dh/programmering/Datatyper.ipynb Cell 7\u001b[0m in \u001b[0;36m<cell line: 1>\u001b[0;34m()\u001b[0m\n\u001b[0;32m----> <a href='vscode-notebook-cell:/home/vws/Projects/undervisning/dh/programmering/Datatyper.ipynb#ch0000008?line=0'>1</a>\u001b[0m \u001b[39m10\u001b[39;49m \u001b[39m+\u001b[39;49m \u001b[39m\"\u001b[39;49m\u001b[39mKreta\u001b[39;49m\u001b[39m\"\u001b[39;49m\n",
      "\u001b[0;31mTypeError\u001b[0m: unsupported operand type(s) for +: 'int' and 'str'"
     ]
    }
   ],
   "source": [
    "10 + \"Kreta\""
   ]
  },
  {
   "cell_type": "markdown",
   "metadata": {},
   "source": [
    "Om man kör ovan kod så returnerar Python ett fel, ett så kallat *Error*. Den anger att addition inte har stöd för att lägga ihop heltal (int) och strängar (str). Detta stämmer också med vår intuition, hur det skulle fungera."
   ]
  },
  {
   "cell_type": "markdown",
   "metadata": {},
   "source": [
    "Betrakta dock att vi istället vill addera två strängar? Vad händer i detta fall? Jo, per definition så säger Python att dessa två strängar skall sättas ihop (*konkateneras*) i ordning:"
   ]
  },
  {
   "cell_type": "code",
   "execution_count": 8,
   "metadata": {},
   "outputs": [
    {
     "data": {
      "text/plain": [
       "'västsverige'"
      ]
     },
     "execution_count": 8,
     "metadata": {},
     "output_type": "execute_result"
    }
   ],
   "source": [
    "\"väst\" + \"sverige\""
   ]
  },
  {
   "cell_type": "markdown",
   "metadata": {},
   "source": [
    "På samma sätt fungerar multiplikation (som ju är upprepad addition):"
   ]
  },
  {
   "cell_type": "markdown",
   "metadata": {},
   "source": [
    "Emellertid är inte övriga räknesätt väldefinierade för strängar:"
   ]
  },
  {
   "cell_type": "code",
   "execution_count": 14,
   "metadata": {},
   "outputs": [
    {
     "data": {
      "text/plain": [
       "'sverigesverigesverige'"
      ]
     },
     "execution_count": 14,
     "metadata": {},
     "output_type": "execute_result"
    }
   ],
   "source": [
    "3*\"sverige\""
   ]
  },
  {
   "cell_type": "code",
   "execution_count": 9,
   "metadata": {},
   "outputs": [
    {
     "ename": "TypeError",
     "evalue": "unsupported operand type(s) for -: 'str' and 'str'",
     "output_type": "error",
     "traceback": [
      "\u001b[0;31m---------------------------------------------------------------------------\u001b[0m",
      "\u001b[0;31mTypeError\u001b[0m                                 Traceback (most recent call last)",
      "\u001b[1;32m/home/vws/Projects/undervisning/dh/programmering/Datatyper.ipynb Cell 12\u001b[0m in \u001b[0;36m<cell line: 1>\u001b[0;34m()\u001b[0m\n\u001b[0;32m----> <a href='vscode-notebook-cell:/home/vws/Projects/undervisning/dh/programmering/Datatyper.ipynb#ch0000014?line=0'>1</a>\u001b[0m \u001b[39m\"\u001b[39;49m\u001b[39mväst\u001b[39;49m\u001b[39m\"\u001b[39;49m \u001b[39m-\u001b[39;49m \u001b[39m\"\u001b[39;49m\u001b[39msverige\u001b[39;49m\u001b[39m\"\u001b[39;49m\n",
      "\u001b[0;31mTypeError\u001b[0m: unsupported operand type(s) for -: 'str' and 'str'"
     ]
    }
   ],
   "source": [
    "\"väst\" - \"sverige\""
   ]
  },
  {
   "cell_type": "code",
   "execution_count": 10,
   "metadata": {},
   "outputs": [
    {
     "ename": "TypeError",
     "evalue": "unsupported operand type(s) for -: 'str' and 'str'",
     "output_type": "error",
     "traceback": [
      "\u001b[0;31m---------------------------------------------------------------------------\u001b[0m",
      "\u001b[0;31mTypeError\u001b[0m                                 Traceback (most recent call last)",
      "\u001b[1;32m/home/vws/Projects/undervisning/dh/programmering/Datatyper.ipynb Cell 13\u001b[0m in \u001b[0;36m<cell line: 1>\u001b[0;34m()\u001b[0m\n\u001b[0;32m----> <a href='vscode-notebook-cell:/home/vws/Projects/undervisning/dh/programmering/Datatyper.ipynb#ch0000015?line=0'>1</a>\u001b[0m \u001b[39m\"\u001b[39;49m\u001b[39msverige\u001b[39;49m\u001b[39m\"\u001b[39;49m \u001b[39m-\u001b[39;49m \u001b[39m\"\u001b[39;49m\u001b[39msverige\u001b[39;49m\u001b[39m\"\u001b[39;49m\n",
      "\u001b[0;31mTypeError\u001b[0m: unsupported operand type(s) for -: 'str' and 'str'"
     ]
    }
   ],
   "source": [
    "\"sverige\" - \"sverige\""
   ]
  },
  {
   "cell_type": "code",
   "execution_count": 11,
   "metadata": {},
   "outputs": [
    {
     "ename": "TypeError",
     "evalue": "unsupported operand type(s) for /: 'str' and 'str'",
     "output_type": "error",
     "traceback": [
      "\u001b[0;31m---------------------------------------------------------------------------\u001b[0m",
      "\u001b[0;31mTypeError\u001b[0m                                 Traceback (most recent call last)",
      "\u001b[1;32m/home/vws/Projects/undervisning/dh/programmering/Datatyper.ipynb Cell 14\u001b[0m in \u001b[0;36m<cell line: 1>\u001b[0;34m()\u001b[0m\n\u001b[0;32m----> <a href='vscode-notebook-cell:/home/vws/Projects/undervisning/dh/programmering/Datatyper.ipynb#ch0000016?line=0'>1</a>\u001b[0m \u001b[39m\"\u001b[39;49m\u001b[39mväst\u001b[39;49m\u001b[39m\"\u001b[39;49m\u001b[39m/\u001b[39;49m\u001b[39m\"\u001b[39;49m\u001b[39msverige\u001b[39;49m\u001b[39m\"\u001b[39;49m\n",
      "\u001b[0;31mTypeError\u001b[0m: unsupported operand type(s) for /: 'str' and 'str'"
     ]
    }
   ],
   "source": [
    "\"väst\"/\"sverige\""
   ]
  },
  {
   "cell_type": "code",
   "execution_count": 13,
   "metadata": {},
   "outputs": [
    {
     "ename": "TypeError",
     "evalue": "can't multiply sequence by non-int of type 'str'",
     "output_type": "error",
     "traceback": [
      "\u001b[0;31m---------------------------------------------------------------------------\u001b[0m",
      "\u001b[0;31mTypeError\u001b[0m                                 Traceback (most recent call last)",
      "\u001b[1;32m/home/vws/Projects/undervisning/dh/programmering/Datatyper.ipynb Cell 15\u001b[0m in \u001b[0;36m<cell line: 1>\u001b[0;34m()\u001b[0m\n\u001b[0;32m----> <a href='vscode-notebook-cell:/home/vws/Projects/undervisning/dh/programmering/Datatyper.ipynb#ch0000017?line=0'>1</a>\u001b[0m \u001b[39m\"\u001b[39;49m\u001b[39mväst\u001b[39;49m\u001b[39m\"\u001b[39;49m\u001b[39m*\u001b[39;49m\u001b[39m\"\u001b[39;49m\u001b[39msverige\u001b[39;49m\u001b[39m\"\u001b[39;49m\n",
      "\u001b[0;31mTypeError\u001b[0m: can't multiply sequence by non-int of type 'str'"
     ]
    }
   ],
   "source": [
    "\"väst\"*\"sverige\""
   ]
  },
  {
   "cell_type": "markdown",
   "metadata": {},
   "source": [
    "Den sista typen kallas boolean, och representerar sant-falskt. Det är viktigt att booleaner endast kan ta dessa två värden (som skrivs **True** och **False**, med stor bokstav, i Python), inte *osäkert* eller *både sant och falskt*, vilket är samma sak i verkligheten. Om någonting är osäkert bör det representeras på ett annat sätt än med booleaner, som är binära.\n",
    "\n",
    "Booleaner har uppsättningar med egna operatorer, nämligen ==, & (eller *and*), | (eller *or*) samt *not*.\n",
    "\n",
    "Booleaner kan sammanfattas med följande tabeller:\n",
    "\n",
    "## not\n",
    "*not* inverterar ett sanningsvärde - *not True* blir alltså *False*, och *not False* är *True*.\n",
    "<table>\n",
    "  <tr>\n",
    "    <th>not</th>\n",
    "    <th>True</th>\n",
    "    <th>False</th>\n",
    "  </tr>\n",
    "  <tr>\n",
    "    <th></th>\n",
    "    <td>False</td>\n",
    "    <td>True</td>\n",
    "  </tr>\n",
    "</table>\n",
    "\n",
    "## ==\n",
    "*==* beräknar likhet mellan värden, och producerar antingen *True* eller *False*\n",
    "<table>\n",
    "  <tr>\n",
    "    <th>==</th>\n",
    "    <th>True</th>\n",
    "    <th>False</th>\n",
    "  </tr>\n",
    "  <tr>\n",
    "    <th>True</th>\n",
    "    <td>True</td>\n",
    "    <td>False</td>\n",
    "  </tr>\n",
    "  <tr>\n",
    "    <th>False</th>\n",
    "    <td>False</td>\n",
    "    <td>True</td>\n",
    "  </tr>\n",
    "</table>\n",
    "\n",
    "## and\n",
    "*and*: Är sann om både vänsterled och högerled har värdet *True*, annars falsk\n",
    "<table>\n",
    "  <tr>\n",
    "    <th>and</th>\n",
    "    <th>True</th>\n",
    "    <th>False</th>\n",
    "  </tr>\n",
    "  <tr>\n",
    "    <th>True</th>\n",
    "    <td>True</td>\n",
    "    <td>False</td>\n",
    "  </tr>\n",
    "  <tr>\n",
    "    <th>False</th>\n",
    "    <td>False</td>\n",
    "    <td>False</td>\n",
    "  </tr>\n",
    "</table>\n",
    "\n",
    "## or\n",
    "*or*: Är sann om antingen vänsterled eller högerled har värdet *True*, annars falsk\n",
    "<table>\n",
    "  <tr>\n",
    "    <th>or</th>\n",
    "    <th>True</th>\n",
    "    <th>False</th>\n",
    "  </tr>\n",
    "  <tr>\n",
    "    <th>True</th>\n",
    "    <td>True</td>\n",
    "    <td>True</td>\n",
    "  </tr>\n",
    "  <tr>\n",
    "    <th>False</th>\n",
    "    <td>True</td>\n",
    "    <td>False</td>\n",
    "  </tr>\n",
    "</table>"
   ]
  },
  {
   "cell_type": "code",
   "execution_count": 17,
   "metadata": {},
   "outputs": [
    {
     "data": {
      "text/plain": [
       "True"
      ]
     },
     "execution_count": 17,
     "metadata": {},
     "output_type": "execute_result"
    }
   ],
   "source": [
    "True == True"
   ]
  },
  {
   "cell_type": "code",
   "execution_count": 18,
   "metadata": {},
   "outputs": [
    {
     "data": {
      "text/plain": [
       "False"
      ]
     },
     "execution_count": 18,
     "metadata": {},
     "output_type": "execute_result"
    }
   ],
   "source": [
    "True == False"
   ]
  },
  {
   "cell_type": "code",
   "execution_count": 19,
   "metadata": {},
   "outputs": [
    {
     "data": {
      "text/plain": [
       "True"
      ]
     },
     "execution_count": 19,
     "metadata": {},
     "output_type": "execute_result"
    }
   ],
   "source": [
    "False == False"
   ]
  },
  {
   "cell_type": "code",
   "execution_count": 20,
   "metadata": {},
   "outputs": [
    {
     "data": {
      "text/plain": [
       "True"
      ]
     },
     "execution_count": 20,
     "metadata": {},
     "output_type": "execute_result"
    }
   ],
   "source": [
    "True and True"
   ]
  },
  {
   "cell_type": "code",
   "execution_count": 21,
   "metadata": {},
   "outputs": [
    {
     "data": {
      "text/plain": [
       "False"
      ]
     },
     "execution_count": 21,
     "metadata": {},
     "output_type": "execute_result"
    }
   ],
   "source": [
    "True and False"
   ]
  },
  {
   "cell_type": "code",
   "execution_count": 22,
   "metadata": {},
   "outputs": [
    {
     "data": {
      "text/plain": [
       "False"
      ]
     },
     "execution_count": 22,
     "metadata": {},
     "output_type": "execute_result"
    }
   ],
   "source": [
    "False and False"
   ]
  },
  {
   "cell_type": "code",
   "execution_count": 23,
   "metadata": {},
   "outputs": [
    {
     "data": {
      "text/plain": [
       "True"
      ]
     },
     "execution_count": 23,
     "metadata": {},
     "output_type": "execute_result"
    }
   ],
   "source": [
    "False or True"
   ]
  },
  {
   "cell_type": "markdown",
   "metadata": {},
   "source": []
  },
  {
   "cell_type": "markdown",
   "metadata": {},
   "source": [
    "# Övning\n",
    "Ange 7 stycken egenskaper hos dig själv, samt ange värde och typ på dessa egenskaper. Försök använda heltal, flyttal, strängar och booleaner."
   ]
  },
  {
   "cell_type": "markdown",
   "metadata": {},
   "source": []
  }
 ],
 "metadata": {
  "kernelspec": {
   "display_name": "Python 3.10.4 ('teaching')",
   "language": "python",
   "name": "python3"
  },
  "language_info": {
   "codemirror_mode": {
    "name": "ipython",
    "version": 3
   },
   "file_extension": ".py",
   "mimetype": "text/x-python",
   "name": "python",
   "nbconvert_exporter": "python",
   "pygments_lexer": "ipython3",
   "version": "3.10.4"
  },
  "orig_nbformat": 4,
  "vscode": {
   "interpreter": {
    "hash": "0e79bad72861022d3c6602e5c1fc0d128a7160c16fa8dc23e33c27176f214652"
   }
  }
 },
 "nbformat": 4,
 "nbformat_minor": 2
}
