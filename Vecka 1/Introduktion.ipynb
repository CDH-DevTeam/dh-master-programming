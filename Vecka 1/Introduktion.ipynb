{
 "cells": [
  {
   "cell_type": "markdown",
   "metadata": {},
   "source": [
    "# Programmering för digital humanister\n",
    "Välkomna! I denna modul kommer ni att få lära er grundläggande koncept inom programmering, datamodellering och datahantering.\n",
    "\n",
    "Python är ett programmeringsspråk som kan användas för olika applikationer såsom analys och visualisering av data. Data kan betyda text(er) eller numerisk data av olika slag. <a href='https://jupyter.org/'>Jupyter Notebooks</a> är ett alternativ för att läsa och utföra koden som vi har valt att använda eftersom går att blanda instruktioner (i ”markdown language”) med ”celler” med kod. Endast den kod du har i just cellen du ”kör” kommer att utföras. \n",
    "\n",
    "Vi kommer börja på en nivå som inte kräver förkunskaper, men också visa på några av de möjligheter som finns efter man har lärt sig grunderna. Det finns mycket resurser online, och vi har samlat lite nyttiga länkar som ni kan följa beroende på intresse.  \n",
    "\n",
    "Vi kommer exklusivt att använda oss av Centrum för Digital Humanioras utvecklingsmiljö *JupyterHub*, samt så kallade *Jupyter Notebooks*. Dessa underlättar för er att komma åt föreläsningsanteckningar och program från olika datorer och hemifrån, utan att behöva installera en miljö lokalt på egen dator."
   ]
  },
  {
   "cell_type": "markdown",
   "metadata": {},
   "source": [
    "## Interagera med Jupyter Notebooks för Python\n",
    "Vi skall nu köra vad som för de flesta av er kommer utgöra ert första program. Traditionsenligt brukar man ge i uppgift till datorn att skriva ut \"Hello World!\" till skärmen. I Python skriver man då\n",
    "\n",
    "```python\n",
    "print(\"Hello World!\")\n",
    "```\n",
    "\n",
    "För att köra kortare program i Jupyter så skriver man i körbara \"celler\". Markera cellen nedan för och tryck på \"Run\" högst upp på sidan, eller tryck ner Shift+Enter på tangentbordet"
   ]
  },
  {
   "cell_type": "code",
   "execution_count": 2,
   "metadata": {},
   "outputs": [
    {
     "name": "stdout",
     "output_type": "stream",
     "text": [
      "Hello World!\n"
     ]
    }
   ],
   "source": [
    "print(\"Hello World!\")"
   ]
  },
  {
   "cell_type": "markdown",
   "metadata": {},
   "source": [
    "Här är `print` en specifik instruktion, en så kallad *funktion* som specificerar att text (angiven inom citationstexten) skall skrivas ut till skärmen. Man skulle även kunna skriva till en fil, exempelvis. För det syftet finns andra funktioner."
   ]
  },
  {
   "cell_type": "markdown",
   "metadata": {},
   "source": [
    "\n",
    "## Vad är kod?\n",
    "Kod har många betydelser, och vanligtvis kallas inte programmering numer att <i>koda</i>. Koden i sig är språket som används för att representera skrift, bilder eller instruktion i kommunikation med datorer. Det används på liknande sätt för exempelvis \"kodade\" meddelande och liknande uttryck.\n",
    "\n",
    "## Vad är programmering?\n",
    "Programmering är ett verktyg för att skriva instruktioner till datorer i kod.  Vanligtvis brukar det sägas att program är en samling instruktioner för att genomföra någonting. Det kan vara att skriva ut något till skärmen, göra en beräkning eller skapa en visualisering. Varje enskild cell kan betraktas som ett program, men även hela vår notebook utgör ett program. \n",
    "\n",
    "Programmeringen utgår från ett av flera <i> <a href='https://en.wikipedia.org/wiki/Programming_paradigm'>paradigm</a></i>; samt ett programmeringsspråk. I vårt fall skall vi använda programmeringsspråket Python som använder ett imperativt paradigm - det innebär i huvudsak att\n",
    "\n",
    "- Vi definierar ordningen på våra instruktioner\n",
    "- Endast en instruktion i taget tolkas av datorn."
   ]
  },
  {
   "cell_type": "markdown",
   "metadata": {},
   "source": [
    "\n",
    "## Min första kod och att hantera Jupyter\n",
    "\n",
    "Vi testar nu att skriva meddelanden till skärmen med den inbyggda instruktionen <code>print</code>. När instruktionen genomförts av datorn kommer ''Hello World!'' skrivas ut nedanför cellen.\n",
    "\n",
    "Markera cellen du vill köra genom att <b>klicka i den</b>\n",
    "\n",
    "Klicka sen på <b>run cell</b> i raden högst upp på sidan, alternativt tryck <b>Shift+Enter</b>.\n",
    "\n",
    "\n",
    "<img src=\"../bilder/kör_cell.png\" width=\"500\" align=\"left\"/>\n",
    "\n"
   ]
  },
  {
   "cell_type": "code",
   "execution_count": 1,
   "metadata": {},
   "outputs": [
    {
     "name": "stdout",
     "output_type": "stream",
     "text": [
      "Hello World!\n",
      "Hello again!\n"
     ]
    }
   ],
   "source": [
    "# Detta skriver ut \"Hello World!\" på skärmen\n",
    "print(\"Hello World!\")\n",
    "print(\"Hello again!\")"
   ]
  },
  {
   "cell_type": "code",
   "execution_count": 2,
   "metadata": {},
   "outputs": [
    {
     "name": "stdout",
     "output_type": "stream",
     "text": [
      "Prova att köra den här cellen!\n"
     ]
    }
   ],
   "source": [
    "print('Prova att köra den här cellen!')\n",
    "\n",
    "# Det här är en kommentar och kommer inte att påverka resten av koden.\n",
    "# Du kan exekvera flera instruktioner i sekvens genom att skriva dem på en ny rad.\n",
    "\n",
    "# Prova att använda print själv (ta bort # och skriv valfri text)\n",
    "\n",
    "#print('Skriv din text här')"
   ]
  },
  {
   "cell_type": "markdown",
   "metadata": {},
   "source": [
    "Prova att skapa en helt ny cell efter den här cellen, skriv lite kod, och kör cellen.\n",
    "\n",
    "<ol>\n",
    "    <li>Markera den här cellen genom att klicka i den</li>\n",
    "    <li>Klicka på <b>insert cell below (se bild nedan)</b></li>\n",
    "    <li>Skriv kod i den nya cellen</li>\n",
    "    <li>Se till att den nya cellen är markerad och klicka på <b>run cell</b></li>\n",
    "</ol>\n",
    "\n",
    "<img src=\"../bilder/insert_cell.png\" width=\"500\" align=\"left\"/>"
   ]
  },
  {
   "cell_type": "markdown",
   "metadata": {},
   "source": [
    "Jupyter skrivet automatiskt ut resultatet från den sista raden i en cell. Resultatet från <code>print</code> skrivs alltid ut."
   ]
  },
  {
   "cell_type": "code",
   "execution_count": 3,
   "metadata": {},
   "outputs": [
    {
     "name": "stdout",
     "output_type": "stream",
     "text": [
      "Hello World!\n"
     ]
    },
    {
     "data": {
      "text/plain": [
       "'Tredje raden skrivs ut'"
      ]
     },
     "execution_count": 3,
     "metadata": {},
     "output_type": "execute_result"
    }
   ],
   "source": [
    "print(\"Hello World!\")\n",
    "\"Andra raden skrivs inte ut\"\n",
    "\"Tredje raden skrivs ut\""
   ]
  },
  {
   "cell_type": "markdown",
   "metadata": {},
   "source": [
    "## Syntax och nyckelord: Programmeringsspråket"
   ]
  },
  {
   "cell_type": "markdown",
   "metadata": {},
   "source": [
    "En vanlig missuppfattning är att programmeringsspråk \"i princip är som vanliga språk\". Det finns flera anledningar till varför man kan ifrågasätta ett sådant påstående, men det mest avgörande är att programmeringsspråk är per definition *logiska*, och inte en konsekvens av omedveten evolution.\n",
    "\n",
    "Denna inbyggda logik kräver att språkens struktur är konsekvent, utan undantag, vilket givetvis gör det väsentligt mycket lättare att lära sig. Emellertid finns vissa likheter med naturliga språk, nämligen *syntax* och *vokabulär*. Syntaxen styr hur påståenden och uttryck sätts samman (gr. *syn-* \"samman-\", *taxeis* \"sättning, placering\"). Uttrycken görs utifrån ett väldigt begränsat vokabulär med nyckelord- och tecken. They are very limited, and can be show by typing `help(\"keywords\")`:"
   ]
  },
  {
   "cell_type": "code",
   "execution_count": 1,
   "metadata": {},
   "outputs": [
    {
     "name": "stdout",
     "output_type": "stream",
     "text": [
      "\n",
      "Here is a list of the Python keywords.  Enter any keyword to get more help.\n",
      "\n",
      "False               class               from                or\n",
      "None                continue            global              pass\n",
      "True                def                 if                  raise\n",
      "and                 del                 import              return\n",
      "as                  elif                in                  try\n",
      "assert              else                is                  while\n",
      "async               except              lambda              with\n",
      "await               finally             nonlocal            yield\n",
      "break               for                 not                 \n",
      "\n"
     ]
    }
   ],
   "source": [
    "help(\"keywords\")"
   ]
  },
  {
   "cell_type": "markdown",
   "metadata": {},
   "source": [
    "Fler exempel utgörs av parenteser `()`, hakparanteser `[]` och måsvingar `{}`, likhetstecken `=`, punkter `.`, citationstecken `\"\"`, komma `.` och kolon `:` som alla är viktiga delar av syntaxen i Python. Ett enkelt inledande exempel, förutom `\"Hello world!\"` ovan:"
   ]
  },
  {
   "cell_type": "code",
   "execution_count": 2,
   "metadata": {},
   "outputs": [
    {
     "name": "stdout",
     "output_type": "stream",
     "text": [
      "please print this\n"
     ]
    }
   ],
   "source": [
    "\n",
    "message = 'please print this'\n",
    "if message == 'please print this':\n",
    "    print(message)"
   ]
  },
  {
   "cell_type": "markdown",
   "metadata": {},
   "source": [
    "Programmet använder sig av *variabeln* `message` som har ett *värde*. `if` är en så kallad *sats* som kontrollerar om värdet på `message` är just `\"please print this\"`. I sådant fall ska resultatet skrivas ut på skärmen! Vi kan ändra i `message` och se vad som händer:"
   ]
  },
  {
   "cell_type": "code",
   "execution_count": 4,
   "metadata": {},
   "outputs": [],
   "source": [
    "message = 'please, please, please print this'\n",
    "if message == 'please print this':\n",
    "    print(message)\n",
    "     "
   ]
  },
  {
   "cell_type": "markdown",
   "metadata": {},
   "source": [
    "Men i detta fallet skrivs inget ut. \n",
    "\n",
    "En sats har en titeldel, exempelvis med ett nyckelord som `if`, och avslutas med kolon `:`. Den så kallade *kroppen* hos satsen skrivs i Python med ett *indrag*, motsvarande minst 4 mellanslag eller en *tab*."
   ]
  }
 ],
 "metadata": {
  "kernelspec": {
   "display_name": "Python 3.10.4 ('teaching')",
   "language": "python",
   "name": "python3"
  },
  "language_info": {
   "codemirror_mode": {
    "name": "ipython",
    "version": 3
   },
   "file_extension": ".py",
   "mimetype": "text/x-python",
   "name": "python",
   "nbconvert_exporter": "python",
   "pygments_lexer": "ipython3",
   "version": "3.10.4"
  },
  "orig_nbformat": 4,
  "vscode": {
   "interpreter": {
    "hash": "0e79bad72861022d3c6602e5c1fc0d128a7160c16fa8dc23e33c27176f214652"
   }
  }
 },
 "nbformat": 4,
 "nbformat_minor": 2
}
