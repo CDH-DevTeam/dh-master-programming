{
 "cells": [
  {
   "cell_type": "markdown",
   "metadata": {},
   "source": [
    "# Klasser\n",
    "Under kursens gång har vi pratat om enkla datatyper som *heltal*, *strängar* med flera, och sammansatta datatyper såsom *listor*, *dictionaries* och *set*. Vi har till och med skapat egna komplicerade datastrukturer, såsom vår tabellmodell.\n",
    "\n",
    "I synnerhet dictionaries har visat sig vara väldigt passande för att modellera komplicerade data med många attribut, exempelvis vårt ursprungliga exempel, med en katt. \n",
    "\n",
    "| Antal ben | Vikt | Namn | Chippad? |\n",
    "| --- | --- | --- | --- |\n",
    "| 4 | 2.1 | \"Heidi\" | sant |\n",
    "\n",
    "I exemplet ovan kan vi välja att modellera katten som en sammansatt datatyp, ett dictionary med lite olika nyckel-värdepar:"
   ]
  },
  {
   "cell_type": "code",
   "execution_count": 1,
   "metadata": {},
   "outputs": [],
   "source": [
    "katt = {\n",
    "    'antal ben': 4,\n",
    "    'vikt': 2.1,\n",
    "    'namn': 'Heidi',\n",
    "    'chippad?': True\n",
    "}"
   ]
  },
  {
   "cell_type": "markdown",
   "metadata": {},
   "source": [
    "Men faktum kvarstår att detta inte är en katt, utan ett dictionary. Det är en grov abstraktion av en katt, och vi kan dessutom inte avkräva någon annan användare som får detta dictionary att de respekterar att det är en katt vi modellerat, och inte exempelvis lägger till ett nytt attribut:"
   ]
  },
  {
   "cell_type": "code",
   "execution_count": 2,
   "metadata": {},
   "outputs": [],
   "source": [
    "katt['drivmedel'] = 'diesel'\n",
    "# katt.update({'drivmedel': 'diesel'}) # Alternatively"
   ]
  },
  {
   "cell_type": "markdown",
   "metadata": {},
   "source": [
    "I slutändan är de så kallade *primitiva datatyperna* (heltal, flyttal, boolean) otillräckliga. Inte heller de sammansatta datatyperna (lista, dict, set, o.s.v.) ger oss ett särskilt kraftfullt sätt att modellera data. \n",
    "\n",
    "Vi söker därför medlen att skapa ännu mer komplexa beskrivningar av verkligheten, och mer potenta abstraktioner. Nyckeln är i vårt fall *objekt-orienterad programmering*."
   ]
  },
  {
   "cell_type": "markdown",
   "metadata": {},
   "source": [
    "## Objekt-orienterad programmering (OOP)\n",
    "Objekt-orienterad programmering är ett så kallat programmeringsparadigm. Det innebär att det är ett konventionaliserat sätt att strukturera upp sin kod och sina program, och att det därmed finns andra alternativ. \n",
    "\n",
    "Centralt för OOP är två begrepp, *klass* och *objekt*. Dessa är direkta generaliseringar av *datatyp* och *instans* som vi nämnde i början av kursen.\n",
    "\n",
    "### Klass och objekt\n",
    "En klass i Python är en abstraktion av någon form av data eller verklig företeelse. En klass har attribut med vissa värden, men också egna inbyggda funktioner. I enkla termer är en klass en *mall* för att skapa enskilda *instanser* av klassen. \n",
    "\n",
    "Vi har en definition av vad det innebär att vara en katt eller säg, ett däggdjur. Emellertid så är katten *Heidi* eller kon som producerat frukostmjölken två specifika exempel på en katt eller ett däggdjur. Dessa instanser kallas i Pythons fall för *objekt*.\n",
    "\n",
    "En klass skrivs som en mall för vad det är man vill beskriva. Inuti klassens *scope* så kan man definiera funktioner och variabler, som endast kommer vara tillgängliga inuti klassen, precis som för enskilda funktioner. "
   ]
  },
  {
   "cell_type": "code",
   "execution_count": 10,
   "metadata": {},
   "outputs": [],
   "source": [
    "class Cat:\n",
    "\n",
    "    # Define variables common to all cats\n",
    "    number_of_legs = 4\n",
    "    weight = 2.1\n",
    "    name = 'Heidi'\n",
    "    is_chipped = True\n",
    "\n",
    "    def say_meoew():\n",
    "        print(\"Meow!\")"
   ]
  },
  {
   "cell_type": "markdown",
   "metadata": {},
   "source": [
    "Vi kan komma åt funktioner och variabler genom den så kallade *punkt-notationen*. "
   ]
  },
  {
   "cell_type": "code",
   "execution_count": 14,
   "metadata": {},
   "outputs": [
    {
     "name": "stdout",
     "output_type": "stream",
     "text": [
      "True\n",
      "Heidi\n",
      "4\n",
      "Meow!\n"
     ]
    }
   ],
   "source": [
    "print(Cat.is_chipped)\n",
    "print(Cat.name)\n",
    "print(Cat.number_of_legs)\n",
    "Cat.say_meoew()"
   ]
  },
  {
   "cell_type": "markdown",
   "metadata": {},
   "source": [
    "Vi har nu skapat en klass. Detta är endast en mall, och är i sig meningslös. Variablerna vi skapat är fixa, och gemensamma för alla katter. Men alla katter heter inte samma sak, väger inte samma, och vissa säger inte ens *mjau*.\n",
    "\n",
    "Vi skall därför anpassa vår klass så att vi kan skapa, individuella katter, katt-objekt.\n",
    "\n",
    "För att faktiskt skapa ett katt-objekt, måste vi så kallat *initialisera* klassen till ett objekt. Detta görs genom att definiera en specialfunktion som alltid heter *__init__* (med två understreck på varje sida).\n",
    "\n",
    "Den tar ett argument som kallas *self*. Man kan även döpa variabeln till exempelvis *this*. Poängen är att den variabeln syftar på varje ny instans av en katt, och inte alla katter. "
   ]
  },
  {
   "cell_type": "code",
   "execution_count": 22,
   "metadata": {},
   "outputs": [],
   "source": [
    "class Cat:\n",
    "\n",
    "    # All cats have 4 legs (from the start at least...)\n",
    "    number_of_legs = 4\n",
    "\n",
    "    # When creating new, individual cases of cats, adapt these features\n",
    "    def __init__(self, weight, name, chipped, colour):\n",
    "        \n",
    "        self.weight = weight\n",
    "        self.name = name\n",
    "        self.colour = colour\n",
    "        self.is_chipped = chipped"
   ]
  },
  {
   "cell_type": "markdown",
   "metadata": {},
   "source": [
    "Klasser brukar av tradition skrivas med stor bokstav, och variabler och objekt med liten bokstav.\n",
    "\n",
    "En nytt objekt av en klass skapas av att man skriver motsvarande\n",
    "\n",
    "```python\n",
    "\n",
    "# A variable called obj, pointing to a new object of a class called class_name\n",
    "obj = Class_name(...)\n",
    "```"
   ]
  },
  {
   "cell_type": "code",
   "execution_count": 18,
   "metadata": {},
   "outputs": [
    {
     "name": "stdout",
     "output_type": "stream",
     "text": [
      "4\n",
      "Heidi\n",
      "A new cat Heidi is born, weighing 4.1 kg, having orange fur and 4 legs.\n"
     ]
    }
   ],
   "source": [
    "cat_obj = Cat(4.1, 'Heidi', True, \"orange\")\n",
    "\n",
    "print(cat_obj.number_of_legs)\n",
    "print(cat_obj.name)\n",
    "\n",
    "\n",
    "print(\"A new cat \" + cat_obj.name + \" is born, weighing \" + str(cat_obj.weight) + \" kg, having \" + cat_obj.colour + \" fur and \" + str(cat_obj.number_of_legs) + \" legs.\")"
   ]
  },
  {
   "cell_type": "markdown",
   "metadata": {},
   "source": [
    "Men vi kan med enkelhet skapa fler katter, som inte är samma som innan."
   ]
  },
  {
   "cell_type": "code",
   "execution_count": 19,
   "metadata": {},
   "outputs": [
    {
     "name": "stdout",
     "output_type": "stream",
     "text": [
      "Smoky\n",
      "Chonky\n"
     ]
    }
   ],
   "source": [
    "another_cat = Cat(2.1, 'Smoky', False, \"black\")\n",
    "new_cat = Cat(weight=43, name='Chonky', chipped=True, colour=\"green\")\n",
    "\n",
    "print(another_cat.name)\n",
    "print(new_cat.name)"
   ]
  },
  {
   "cell_type": "markdown",
   "metadata": {},
   "source": [
    "Observera dock att endast egenskaperna vi definierat genom att använda `self` är individuella, som \n",
    "\n",
    "```python\n",
    "self.colour = \"orange\"\n",
    "```\n",
    "\n",
    "Attributet som är definierat i själva klassen, `number_of_legs` är ett klass-attribut, och gemensamt för alla katt-objekt:"
   ]
  },
  {
   "cell_type": "code",
   "execution_count": 21,
   "metadata": {},
   "outputs": [
    {
     "name": "stdout",
     "output_type": "stream",
     "text": [
      "4\n",
      "4\n",
      "4\n"
     ]
    }
   ],
   "source": [
    "\n",
    "print(cat_obj.number_of_legs)\n",
    "print(new_cat.number_of_legs)\n",
    "print(another_cat.number_of_legs)"
   ]
  },
  {
   "cell_type": "markdown",
   "metadata": {},
   "source": [
    "## Ett annat exempel\n",
    "Vi tar nu ett exempel som utnyttjar inbyggda funktioner litet mer hos klasser och objekt. Betrakta en bil, dessa har en topphastighet och en acceleration, som är gemensam för alla bilar av ett nytt märke (åtminstone till en början). \n",
    "\n",
    "En annan egenskap hos en bil är den hastighet den har vid ett specifikt tillfälle. Denna är dock unik för en individuell bil, alla bilar kör ju inte alltid i samma hastighet. \n",
    "\n",
    "Till att börja med står en bil stilla. Det betyder att alla bil-objekt initialiseras med samma starthastighet, 0 (`self.speed = 0`)."
   ]
  },
  {
   "cell_type": "code",
   "execution_count": 28,
   "metadata": {},
   "outputs": [],
   "source": [
    "class Car:\n",
    "    top_speed = 150 #km/h\n",
    "    acceleration = 100 #km/h^2\n",
    "\n",
    "    def __init__(self):\n",
    "\n",
    "        self.speed = 0\n",
    "\n",
    "    def accelerate(self, time):\n",
    "\n",
    "        self.speed = self.acceleration * time\n"
   ]
  },
  {
   "cell_type": "markdown",
   "metadata": {},
   "source": [
    "Medlemsfunktionen `accelerate` tar ett argument `self`, som syftar på att den tillhör objektet och inte klassen, samt `time` som är hur länge en bil accelererar.\n",
    "\n",
    "Vi skapar en bil och låter den accelerera i en halvtimme:"
   ]
  },
  {
   "cell_type": "code",
   "execution_count": 32,
   "metadata": {},
   "outputs": [
    {
     "name": "stdout",
     "output_type": "stream",
     "text": [
      "0\n",
      "50.0\n"
     ]
    }
   ],
   "source": [
    "c = Car()\n",
    "\n",
    "# Inspect speed at creation\n",
    "print(c.speed)\n",
    "\n",
    "# Accelerate\n",
    "c.accelerate(0.5)\n",
    "\n",
    "# Inspect speed after acceleration\n",
    "print(c.speed)"
   ]
  },
  {
   "cell_type": "markdown",
   "metadata": {},
   "source": [
    "Ganska långsam acceleration. Men om vi låter den accelera ännu längre, vad händer då?"
   ]
  },
  {
   "cell_type": "code",
   "execution_count": 33,
   "metadata": {},
   "outputs": [
    {
     "name": "stdout",
     "output_type": "stream",
     "text": [
      "50.0\n",
      "250.0\n"
     ]
    }
   ],
   "source": [
    "print(c.speed)\n",
    "\n",
    "# Accelerate for a while longer\n",
    "c.accelerate(2.5)\n",
    "\n",
    "print(c.speed)\n"
   ]
  },
  {
   "cell_type": "markdown",
   "metadata": {},
   "source": [
    "Aj då... Det betyder att bilen nu har en hastighet på 250 km/h, vilket övergår hastigheten väsentligt. Vi får fixa till vår definition:"
   ]
  },
  {
   "cell_type": "code",
   "execution_count": 34,
   "metadata": {},
   "outputs": [],
   "source": [
    "class Car:\n",
    "    top_speed = 150 #km/h\n",
    "    acceleration = 100 #km/h^2\n",
    "\n",
    "    def __init__(self):\n",
    "\n",
    "        self.speed = 0\n",
    "\n",
    "    def accelerate(self, time):\n",
    "\n",
    "        self.speed = self.acceleration * time\n",
    "\n",
    "        # If the current speed would be higher than\n",
    "        # the top speed, limit the speed to the top_speed\n",
    "        if self.speed > self.top_speed:\n",
    "\n",
    "            self.speed = self.top_speed"
   ]
  },
  {
   "cell_type": "code",
   "execution_count": 36,
   "metadata": {},
   "outputs": [
    {
     "name": "stdout",
     "output_type": "stream",
     "text": [
      "0\n",
      "150\n"
     ]
    }
   ],
   "source": [
    "c = Car() # Create a new object\n",
    "\n",
    "print(c.speed)\n",
    "\n",
    "c.accelerate(5) # Accelerate for 5 hours\n",
    "\n",
    "print(c.speed)"
   ]
  },
  {
   "cell_type": "markdown",
   "metadata": {},
   "source": [
    "## Fler exempel\n",
    "Faktum är att ni vid flera tillfällen stött på klasser och objekt. Här är en kort lista:\n",
    "\n",
    "- Listor (med medlemsfunktioner såsom `append` och `pop`)\n",
    "- Dictionaries (med medlemsfunktioner som `update`, och där varje nyckel-värdepar är attribut)\n",
    "- Strängar (med medlemsfunktioner som `replace` och `split`)\n",
    "\n",
    "Dessa är dock så centrala att de fått lite extra fin syntax. Andra exempel är\n",
    "- `pd.DataFrame`, en tabellklass med flera hjälpsamma funktioner\n",
    "- `Counter`, som räknar antal förekomster i en lista"
   ]
  },
  {
   "cell_type": "markdown",
   "metadata": {},
   "source": [
    "## Mer om `self` och jämförelse\n",
    "Vad är det här mystiska argumentet `self` som vi skickar runt? \n",
    "\n",
    "I enklaste ordalag så är det individuella objektet själv, en referens till just det objektet av en klass, och inget annat. Vi kan titta litet noggrannare genom att skriva ut resultatet när vi initialiserar/skapar ett objekt:"
   ]
  },
  {
   "cell_type": "code",
   "execution_count": 37,
   "metadata": {},
   "outputs": [],
   "source": [
    "class Person:\n",
    "    \n",
    "    def __init__(self, name):\n",
    "        self.name = name\n",
    "\n",
    "        # When created, prints the self variable value\n",
    "        print(self)"
   ]
  },
  {
   "cell_type": "code",
   "execution_count": 40,
   "metadata": {},
   "outputs": [
    {
     "name": "stdout",
     "output_type": "stream",
     "text": [
      "<__main__.Person object at 0x7f4e0649e650>\n"
     ]
    },
    {
     "data": {
      "text/plain": [
       "<__main__.Person at 0x7f4e0649e650>"
      ]
     },
     "execution_count": 40,
     "metadata": {},
     "output_type": "execute_result"
    }
   ],
   "source": [
    "Person(\"Elton John\")"
   ]
  },
  {
   "cell_type": "markdown",
   "metadata": {},
   "source": [
    "Detta producerar ett resultat `<__main__.Person object at ...>` där det sista är en kod i hexadecimalt format. Detta är exakt var det nuvarande objektet sparas i minnet, och är unikt för varje nytt, skapat objekt. Inte ens om vi skapar ett nytt objekt med samma egenskaper (namn, i det här fallet), så kommer objektet att vara likadant i minnet."
   ]
  },
  {
   "cell_type": "code",
   "execution_count": 39,
   "metadata": {},
   "outputs": [
    {
     "name": "stdout",
     "output_type": "stream",
     "text": [
      "<__main__.Person object at 0x7f4e1c251360>\n"
     ]
    },
    {
     "data": {
      "text/plain": [
       "<__main__.Person at 0x7f4e1c251360>"
      ]
     },
     "execution_count": 39,
     "metadata": {},
     "output_type": "execute_result"
    }
   ],
   "source": [
    "Person(\"Elton John\")"
   ]
  },
  {
   "cell_type": "markdown",
   "metadata": {},
   "source": [
    "I princip är detta definitionen av instans, en enskild individ skapad ur samma mall (eller klass). En konsekvens av detta är att de inte är jämförbara. Likhet mellan objekt är inte definierad, för de är alla olika:"
   ]
  },
  {
   "cell_type": "code",
   "execution_count": 41,
   "metadata": {},
   "outputs": [
    {
     "name": "stdout",
     "output_type": "stream",
     "text": [
      "<__main__.Person object at 0x7f4e06429780>\n",
      "<__main__.Person object at 0x7f4e065c28f0>\n",
      "False\n"
     ]
    }
   ],
   "source": [
    "print(Person(\"Elton John\") == Person(\"Elton John\"))"
   ]
  },
  {
   "cell_type": "markdown",
   "metadata": {},
   "source": [
    "I stället brukar man definiera en \"equals\"-funktion hos klasser, som säger om två objekt av samma klass är likadana. Vi kan då titta på vilka objekt som skickas in i respektive inargument:"
   ]
  },
  {
   "cell_type": "code",
   "execution_count": 47,
   "metadata": {},
   "outputs": [],
   "source": [
    "class Person:\n",
    "    \n",
    "    def __init__(self, name):\n",
    "        self.name = name\n",
    "\n",
    "    def equals(self, other):\n",
    "\n",
    "        print(\"Self: \", self)\n",
    "        print(\"Other: \", other)\n",
    "\n",
    "\n",
    "        if self.name == other.name:\n",
    "            return True\n",
    "        else:\n",
    "            return False"
   ]
  },
  {
   "cell_type": "code",
   "execution_count": 51,
   "metadata": {},
   "outputs": [
    {
     "name": "stdout",
     "output_type": "stream",
     "text": [
      "Self:  <__main__.Person object at 0x7f4e065c2fb0>\n",
      "Other:  <__main__.Person object at 0x7f4e1c1eee00>\n",
      "Are they equal? False\n",
      "Self:  <__main__.Person object at 0x7f4e065c2fb0>\n",
      "Other:  <__main__.Person object at 0x7f4e065c2da0>\n",
      "Are they equal? True\n"
     ]
    }
   ],
   "source": [
    "p1 = Person(\"Elton John\")\n",
    "p2 = Person(\"David Bowie\")\n",
    "p3 = Person(\"Elton John\")\n",
    "\n",
    "\n",
    "print(\"Are they equal?\", p1.equals(p2))\n",
    "print(\"Are they equal?\", p1.equals(p3))\n"
   ]
  },
  {
   "cell_type": "markdown",
   "metadata": {},
   "source": []
  }
 ],
 "metadata": {
  "kernelspec": {
   "display_name": "Python 3.10.4 ('teaching')",
   "language": "python",
   "name": "python3"
  },
  "language_info": {
   "codemirror_mode": {
    "name": "ipython",
    "version": 3
   },
   "file_extension": ".py",
   "mimetype": "text/x-python",
   "name": "python",
   "nbconvert_exporter": "python",
   "pygments_lexer": "ipython3",
   "version": "3.10.4"
  },
  "orig_nbformat": 4,
  "vscode": {
   "interpreter": {
    "hash": "0e79bad72861022d3c6602e5c1fc0d128a7160c16fa8dc23e33c27176f214652"
   }
  }
 },
 "nbformat": 4,
 "nbformat_minor": 2
}
