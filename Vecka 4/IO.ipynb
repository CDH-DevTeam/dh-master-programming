{
 "cells": [
  {
   "cell_type": "markdown",
   "metadata": {},
   "source": [
    "# Filer, input och output (IO)\n",
    "Det är en illa dold hemlighet att all information egentligen bara är filer. Nästan all data som skickas, sparas och kommuniceras gör detta i steg av att ha varit filer. Det är därför oerhört viktigt att ha vana vid att hantera persistenta dokument, att läsa dessa, samt att skriva till dokument.\n",
    "\n",
    "Möjliga tillämpningar kan vara att kompilera alla resultat från en webbsökning, producera listor och tabeller till andra typer av program, eller att konvertera sitt handskrivna Excel-blad till något datorläsbart.\n",
    "\n",
    "Datorer utgår i allmänhet från en sak - alla dokument består av text, strängar. Det är vad som läses och vad som skrives. Därför måste man ofta processa datan man läst i något steg, exempelvis konvertera resultaten från flyttal till strängar."
   ]
  },
  {
   "cell_type": "markdown",
   "metadata": {},
   "source": [
    "# Exempel: Tabellen\n",
    "Vi återkommer till den ökända tabellen som vi behandlade i början av kursen."
   ]
  },
  {
   "cell_type": "code",
   "execution_count": 1,
   "metadata": {},
   "outputs": [],
   "source": [
    "table = [\n",
    "    {\"ord\": \"rälsmarknad\", \"antal förekomster\": 4, \"tfidf\": 14.18311444, \"rättstavad\": True},\n",
    "    {\"ord\": \"verldsmarknad\", \"antal förekomster\": 11, \"tfidf\": 10.78912178, \"rättstavad\": True},\n",
    "    {\"ord\": \"bokmarknad\", \"antal förekomster\": 8, \"tfidf\": 4.81071705, \"rättstavad\": True},\n",
    "    {\"ord\": \"parisermarknad\", \"antal förekomster\": 1, \"tfidf\": 3.951243719, \"rättstavad\": True},\n",
    "    {\"ord\": \"penningemarknad\", \"antal förekomster\": 7, \"tfidf\": 3.620795599, \"rättstavad\": True},\n",
    "    {\"ord\": \"bokhandelsmarknad\", \"antal förekomster\": 1, \"tfidf\": 3.034952987, \"rättstavad\": True},\n",
    "    {\"ord\": \"egendomsmarknad\", \"antal förekomster\": 1, \"tfidf\": 2.69848075, \"rättstavad\": True},\n",
    "]"
   ]
  },
  {
   "cell_type": "markdown",
   "metadata": {},
   "source": [
    "Avsikten är nu att skriva denna till en fil, och sedan läsa in den igen. För detta behöver vi titta på det så kallade *filobjektet*.\n",
    "\n",
    "Inbyggt i python är funktionen `open`, som skapar ett filobjekt som antingen kan läsa från en \"fysisk\" fil, eller skriva en sådan. Den tar två huvudsakliga argument, *filnamnet* samt *skriv- eller läsläget*.\n",
    "\n"
   ]
  },
  {
   "cell_type": "code",
   "execution_count": 2,
   "metadata": {},
   "outputs": [
    {
     "name": "stdout",
     "output_type": "stream",
     "text": [
      "Help on built-in function open in module io:\n",
      "\n",
      "open(file, mode='r', buffering=-1, encoding=None, errors=None, newline=None, closefd=True, opener=None)\n",
      "    Open file and return a stream.  Raise OSError upon failure.\n",
      "    \n",
      "    file is either a text or byte string giving the name (and the path\n",
      "    if the file isn't in the current working directory) of the file to\n",
      "    be opened or an integer file descriptor of the file to be\n",
      "    wrapped. (If a file descriptor is given, it is closed when the\n",
      "    returned I/O object is closed, unless closefd is set to False.)\n",
      "    \n",
      "    mode is an optional string that specifies the mode in which the file\n",
      "    is opened. It defaults to 'r' which means open for reading in text\n",
      "    mode.  Other common values are 'w' for writing (truncating the file if\n",
      "    it already exists), 'x' for creating and writing to a new file, and\n",
      "    'a' for appending (which on some Unix systems, means that all writes\n",
      "    append to the end of the file regardless of the current seek position).\n",
      "    In text mode, if encoding is not specified the encoding used is platform\n",
      "    dependent: locale.getpreferredencoding(False) is called to get the\n",
      "    current locale encoding. (For reading and writing raw bytes use binary\n",
      "    mode and leave encoding unspecified.) The available modes are:\n",
      "    \n",
      "    ========= ===============================================================\n",
      "    Character Meaning\n",
      "    --------- ---------------------------------------------------------------\n",
      "    'r'       open for reading (default)\n",
      "    'w'       open for writing, truncating the file first\n",
      "    'x'       create a new file and open it for writing\n",
      "    'a'       open for writing, appending to the end of the file if it exists\n",
      "    'b'       binary mode\n",
      "    't'       text mode (default)\n",
      "    '+'       open a disk file for updating (reading and writing)\n",
      "    'U'       universal newline mode (deprecated)\n",
      "    ========= ===============================================================\n",
      "    \n",
      "    The default mode is 'rt' (open for reading text). For binary random\n",
      "    access, the mode 'w+b' opens and truncates the file to 0 bytes, while\n",
      "    'r+b' opens the file without truncation. The 'x' mode implies 'w' and\n",
      "    raises an `FileExistsError` if the file already exists.\n",
      "    \n",
      "    Python distinguishes between files opened in binary and text modes,\n",
      "    even when the underlying operating system doesn't. Files opened in\n",
      "    binary mode (appending 'b' to the mode argument) return contents as\n",
      "    bytes objects without any decoding. In text mode (the default, or when\n",
      "    't' is appended to the mode argument), the contents of the file are\n",
      "    returned as strings, the bytes having been first decoded using a\n",
      "    platform-dependent encoding or using the specified encoding if given.\n",
      "    \n",
      "    'U' mode is deprecated and will raise an exception in future versions\n",
      "    of Python.  It has no effect in Python 3.  Use newline to control\n",
      "    universal newlines mode.\n",
      "    \n",
      "    buffering is an optional integer used to set the buffering policy.\n",
      "    Pass 0 to switch buffering off (only allowed in binary mode), 1 to select\n",
      "    line buffering (only usable in text mode), and an integer > 1 to indicate\n",
      "    the size of a fixed-size chunk buffer.  When no buffering argument is\n",
      "    given, the default buffering policy works as follows:\n",
      "    \n",
      "    * Binary files are buffered in fixed-size chunks; the size of the buffer\n",
      "      is chosen using a heuristic trying to determine the underlying device's\n",
      "      \"block size\" and falling back on `io.DEFAULT_BUFFER_SIZE`.\n",
      "      On many systems, the buffer will typically be 4096 or 8192 bytes long.\n",
      "    \n",
      "    * \"Interactive\" text files (files for which isatty() returns True)\n",
      "      use line buffering.  Other text files use the policy described above\n",
      "      for binary files.\n",
      "    \n",
      "    encoding is the name of the encoding used to decode or encode the\n",
      "    file. This should only be used in text mode. The default encoding is\n",
      "    platform dependent, but any encoding supported by Python can be\n",
      "    passed.  See the codecs module for the list of supported encodings.\n",
      "    \n",
      "    errors is an optional string that specifies how encoding errors are to\n",
      "    be handled---this argument should not be used in binary mode. Pass\n",
      "    'strict' to raise a ValueError exception if there is an encoding error\n",
      "    (the default of None has the same effect), or pass 'ignore' to ignore\n",
      "    errors. (Note that ignoring encoding errors can lead to data loss.)\n",
      "    See the documentation for codecs.register or run 'help(codecs.Codec)'\n",
      "    for a list of the permitted encoding error strings.\n",
      "    \n",
      "    newline controls how universal newlines works (it only applies to text\n",
      "    mode). It can be None, '', '\\n', '\\r', and '\\r\\n'.  It works as\n",
      "    follows:\n",
      "    \n",
      "    * On input, if newline is None, universal newlines mode is\n",
      "      enabled. Lines in the input can end in '\\n', '\\r', or '\\r\\n', and\n",
      "      these are translated into '\\n' before being returned to the\n",
      "      caller. If it is '', universal newline mode is enabled, but line\n",
      "      endings are returned to the caller untranslated. If it has any of\n",
      "      the other legal values, input lines are only terminated by the given\n",
      "      string, and the line ending is returned to the caller untranslated.\n",
      "    \n",
      "    * On output, if newline is None, any '\\n' characters written are\n",
      "      translated to the system default line separator, os.linesep. If\n",
      "      newline is '' or '\\n', no translation takes place. If newline is any\n",
      "      of the other legal values, any '\\n' characters written are translated\n",
      "      to the given string.\n",
      "    \n",
      "    If closefd is False, the underlying file descriptor will be kept open\n",
      "    when the file is closed. This does not work when a file name is given\n",
      "    and must be True in that case.\n",
      "    \n",
      "    A custom opener can be used by passing a callable as *opener*. The\n",
      "    underlying file descriptor for the file object is then obtained by\n",
      "    calling *opener* with (*file*, *flags*). *opener* must return an open\n",
      "    file descriptor (passing os.open as *opener* results in functionality\n",
      "    similar to passing None).\n",
      "    \n",
      "    open() returns a file object whose type depends on the mode, and\n",
      "    through which the standard file operations such as reading and writing\n",
      "    are performed. When open() is used to open a file in a text mode ('w',\n",
      "    'r', 'wt', 'rt', etc.), it returns a TextIOWrapper. When used to open\n",
      "    a file in a binary mode, the returned class varies: in read binary\n",
      "    mode, it returns a BufferedReader; in write binary and append binary\n",
      "    modes, it returns a BufferedWriter, and in read/write mode, it returns\n",
      "    a BufferedRandom.\n",
      "    \n",
      "    It is also possible to use a string or bytearray as a file for both\n",
      "    reading and writing. For strings StringIO can be used like a file\n",
      "    opened in a text mode, and for bytes a BytesIO can be used like a file\n",
      "    opened in a binary mode.\n",
      "\n"
     ]
    }
   ],
   "source": [
    "help(open)"
   ]
  },
  {
   "cell_type": "markdown",
   "metadata": {},
   "source": [
    "Läsläget, `mode`, använder ett standardiserat namnsystem.\n",
    "\n",
    "- `'r'`, \"read\", är läsläget för text. Detta används om man ska läsa en redan skriven textfil\n",
    "- `'w'`, \"write\", är skrivläget för text. Detta används om man ska skriva till en ny fil från början.\n",
    "- `'a'`, \"append\", är ett skrivläge för att lägga till text i slutet på filen.\n",
    "\n",
    "Därutöver finns några fler lägen som vi skippar nu. Om vi vill öppna en fil för att skriva till den så skriver vi:"
   ]
  },
  {
   "cell_type": "code",
   "execution_count": 7,
   "metadata": {},
   "outputs": [],
   "source": [
    "f = open(\"testfil.csv\", \"w\")"
   ]
  },
  {
   "cell_type": "markdown",
   "metadata": {},
   "source": [
    "När man använder filobjekt är det oerhört viktigt att man \"stänger\" eller avslutar filen efter att den öppnats. Detta görs med medlemsfunktionen `close`."
   ]
  },
  {
   "cell_type": "code",
   "execution_count": 9,
   "metadata": {},
   "outputs": [],
   "source": [
    "f.close()"
   ]
  },
  {
   "cell_type": "markdown",
   "metadata": {},
   "source": [
    "När ni kör ovan cell kommer ni att märka att en ny fil dykt upp i ert filträd, hittills tom.\n",
    "\n",
    "\n",
    "## Att skriva\n",
    "Vi är nu intresserade av att skriva vår tabell i `csv`-format, ett vanligt format för tabulära data. Detta består av rader, med varje kolumns värde separerade med ett komma. \n",
    "\n",
    "Först måste vi konvertera våra data till text, en sträng, med detta format:"
   ]
  },
  {
   "cell_type": "code",
   "execution_count": 8,
   "metadata": {},
   "outputs": [],
   "source": [
    "f = open(\"testfil.csv\", \"w\")\n",
    "\n",
    "for row in table:\n",
    "\n",
    "    string_to_write = str(row[\"ord\"]) + \",\" + str(row[\"antal förekomster\"]) + \",\" + str(row[\"tfidf\"]) + \",\" + str(row[\"rättstavad\"])\n",
    "\n",
    "    f.write(string_to_write)\n",
    "\n",
    "f.close()"
   ]
  },
  {
   "cell_type": "markdown",
   "metadata": {},
   "source": [
    "Resultatet av detta skriptet är inte vad vi väntade oss. Istället har alla vår text skrivits till en enda lång rad i filen. Orsaken är hur textprocessing fungerar; allting som skrivs i text har på låg datornivå en egen karaktär (tecken, bokstav), inklusive ny rad. \n",
    "\n",
    "Den vanligaste texthanteringsstandarden säger att nyradstecknet skrivs `\\n` (kort för \"newline\"), och detta måste appenderas på text för att nästa sträng skall börja på en ny rad. Vi modifierar koden ovanför:\n",
    "\n"
   ]
  },
  {
   "cell_type": "code",
   "execution_count": 10,
   "metadata": {},
   "outputs": [],
   "source": [
    "f = open(\"testfil.csv\", \"w\")\n",
    "\n",
    "for row in table:\n",
    "\n",
    "    string_to_write = str(row[\"ord\"]) + \",\" + str(row[\"antal förekomster\"]) + \",\" + str(row[\"tfidf\"]) + \",\" + str(row[\"rättstavad\"]) \n",
    "    \n",
    "    # Add a newline last\n",
    "    string_to_write += \"\\n\"\n",
    "\n",
    "    f.write(string_to_write)\n",
    "\n",
    "f.close()"
   ]
  },
  {
   "cell_type": "markdown",
   "metadata": {},
   "source": [
    "## Att läsa\n",
    "Bra jobbat, ni har nu lärt er att skriva. Vi gör lite omvänt och lär oss först nu att läsa. Avsikten är att återfå samma datarepresentation som vi utgick ifrån, vår tabell.\n",
    "\n",
    "\n",
    "Det är dock programmatiskt sett väsentligt mer komplicerat att läsa. Det är nämligen så, att det är väldigt svårt att *a priori* veta hur mycket information som finns i innehållet ska läsas. Därför måste en läsare stega sig fram, eller läsa allt på en gång.\n",
    "\n",
    "Vi börjar med att öppna filen i läsläge, samt använder medlemsfunktionen `read` för att läsa allt innehåll på en gång."
   ]
  },
  {
   "cell_type": "code",
   "execution_count": 12,
   "metadata": {},
   "outputs": [
    {
     "name": "stdout",
     "output_type": "stream",
     "text": [
      "rälsmarknad,4,14.18311444,True\n",
      "verldsmarknad,11,10.78912178,True\n",
      "bokmarknad,8,4.81071705,True\n",
      "parisermarknad,1,3.951243719,True\n",
      "penningemarknad,7,3.620795599,True\n",
      "bokhandelsmarknad,1,3.034952987,True\n",
      "egendomsmarknad,1,2.69848075,True\n",
      "\n"
     ]
    }
   ],
   "source": [
    "f = open(\"testfil.csv\", \"r\")\n",
    "\n",
    "string_to_read = f.read()\n",
    "\n",
    "print(string_to_read)\n",
    "f.close()"
   ]
  },
  {
   "cell_type": "markdown",
   "metadata": {},
   "source": [
    "Resultatet är en stor sträng. Detta hjälper oss inte så mycket, då det kommer bli väldigt krångligt att extrahera den faktiska datan i termer av sina ursprungliga datatyper. Istället utnyttjas vi medlemsfunktionen `readlines` som automatiskt separerar strängen efter `\\n`."
   ]
  },
  {
   "cell_type": "code",
   "execution_count": 15,
   "metadata": {},
   "outputs": [
    {
     "name": "stdout",
     "output_type": "stream",
     "text": [
      "['rälsmarknad,4,14.18311444,True\\n', 'verldsmarknad,11,10.78912178,True\\n', 'bokmarknad,8,4.81071705,True\\n', 'parisermarknad,1,3.951243719,True\\n', 'penningemarknad,7,3.620795599,True\\n', 'bokhandelsmarknad,1,3.034952987,True\\n', 'egendomsmarknad,1,2.69848075,True\\n']\n"
     ]
    }
   ],
   "source": [
    "f = open(\"testfil.csv\", \"r\")\n",
    "\n",
    "strings_in_list = f.readlines()\n",
    "\n",
    "print(strings_in_list)\n",
    "f.close()"
   ]
  },
  {
   "cell_type": "markdown",
   "metadata": {},
   "source": [
    "Det finns alltid en risk att man glömmer att stänga sina filer på det här viset. Konsekvensen kan bli obehaglig om man skriver stora mängder data. Ett alternativt sätt att skriva bland annat öppnandet av filer undviker detta. För detta syfte används så kallade `with`-satser, som automatiskt stänger en fil efter att man är klar. I utbyte kan man inte använda sitt filobjekt (`f` i det här fallet), utanför satsen."
   ]
  },
  {
   "cell_type": "code",
   "execution_count": 21,
   "metadata": {},
   "outputs": [
    {
     "name": "stdout",
     "output_type": "stream",
     "text": [
      "['rälsmarknad,4,14.18311444,True\\n', 'verldsmarknad,11,10.78912178,True\\n', 'bokmarknad,8,4.81071705,True\\n', 'parisermarknad,1,3.951243719,True\\n', 'penningemarknad,7,3.620795599,True\\n', 'bokhandelsmarknad,1,3.034952987,True\\n', 'egendomsmarknad,1,2.69848075,True\\n']\n"
     ]
    }
   ],
   "source": [
    "with open(\"testfil.csv\", \"r\") as f:\n",
    "    strings_in_list = f.readlines()\n",
    "\n",
    "print(strings_in_list)"
   ]
  },
  {
   "cell_type": "markdown",
   "metadata": {},
   "source": [
    "Nästa steg är preprocessing och städning. \n",
    "\n",
    "Vi har nu varje ursprunglig rad separerad. Vi skall nu separera de respektive kolumnerna, samt göra oss av med nyradstecknet, som inte längre behövs. Observera att kolumnerna i varje rad separeras med komma. Vi skall använda detta faktum för att extrahera dem.\n",
    "\n",
    "Vi måste alltså:\n",
    "- Hämta varje sträng\n",
    "- Ta bort nyradstecknet\n",
    "- Dela strängen vid komma\n",
    "- Göra om kolumnerna till rätt datatyp\n",
    "  \n",
    "För detta använder vi medlemsfunktionerna `split` och `replace` inbyggda i strängar. Dessa gör att vi kan dela strängar vid ett visst avdelningstecken, samt ersätta vissa tecken med något annat.\n",
    "\n",
    "- `replace` tar två argument: Först tecknet/strängen man vill ersätta, sedan vad dessa skall ersättas med.\n",
    "- `split` tar ett argument, tecknet vid vilken en sträng skall avdelas. Observera att avdelningstecknet försvinner, och resultatet är en lista med strängar istället."
   ]
  },
  {
   "cell_type": "code",
   "execution_count": 16,
   "metadata": {},
   "outputs": [
    {
     "name": "stdout",
     "output_type": "stream",
     "text": [
      "['en väldigt lång sträng', ' med en liten bisats dessutom']\n",
      "en vældigt lång stræng, med en liten bisats dessutom\n"
     ]
    }
   ],
   "source": [
    "example = \"en väldigt lång sträng, med en liten bisats dessutom\"\n",
    "\n",
    "print(example.split(\",\"))\n",
    "print(example.replace(\"ä\", \"æ\"))"
   ]
  },
  {
   "cell_type": "code",
   "execution_count": 19,
   "metadata": {},
   "outputs": [
    {
     "name": "stdout",
     "output_type": "stream",
     "text": [
      "[['rälsmarknad', '4', '14.18311444', 'True'], ['verldsmarknad', '11', '10.78912178', 'True'], ['bokmarknad', '8', '4.81071705', 'True'], ['parisermarknad', '1', '3.951243719', 'True'], ['penningemarknad', '7', '3.620795599', 'True'], ['bokhandelsmarknad', '1', '3.034952987', 'True'], ['egendomsmarknad', '1', '2.69848075', 'True']]\n"
     ]
    }
   ],
   "source": [
    "\n",
    "rows_as_lists = []\n",
    "\n",
    "# Iterate through the rows\n",
    "for string in strings_in_list:\n",
    "\n",
    "    # Remove newline \n",
    "    string = string.replace(\"\\n\", \"\") # Replace the newline character with nothing\n",
    "\n",
    "    # Split at comma\n",
    "    columns_as_strings = string.split(\",\")\n",
    "\n",
    "    # Add to a new list of rows (using append)\n",
    "    rows_as_lists.append(columns_as_strings)\n",
    "\n",
    "    \n",
    "print(rows_as_lists)"
   ]
  },
  {
   "cell_type": "markdown",
   "metadata": {},
   "source": [
    "Observera att värdena nu ligger i en nästlad lista. Vi vill göra om detta till en lista av dictionaries istället, inklusive metadatan."
   ]
  },
  {
   "cell_type": "code",
   "execution_count": 20,
   "metadata": {},
   "outputs": [
    {
     "data": {
      "text/plain": [
       "[{'ord': 'rälsmarknad',\n",
       "  'antal förekomster': 4,\n",
       "  'tfidf': 14.18311444,\n",
       "  'rättstavad': True},\n",
       " {'ord': 'verldsmarknad',\n",
       "  'antal förekomster': 11,\n",
       "  'tfidf': 10.78912178,\n",
       "  'rättstavad': True},\n",
       " {'ord': 'bokmarknad',\n",
       "  'antal förekomster': 8,\n",
       "  'tfidf': 4.81071705,\n",
       "  'rättstavad': True},\n",
       " {'ord': 'parisermarknad',\n",
       "  'antal förekomster': 1,\n",
       "  'tfidf': 3.951243719,\n",
       "  'rättstavad': True},\n",
       " {'ord': 'penningemarknad',\n",
       "  'antal förekomster': 7,\n",
       "  'tfidf': 3.620795599,\n",
       "  'rättstavad': True},\n",
       " {'ord': 'bokhandelsmarknad',\n",
       "  'antal förekomster': 1,\n",
       "  'tfidf': 3.034952987,\n",
       "  'rättstavad': True},\n",
       " {'ord': 'egendomsmarknad',\n",
       "  'antal förekomster': 1,\n",
       "  'tfidf': 2.69848075,\n",
       "  'rättstavad': True}]"
      ]
     },
     "execution_count": 20,
     "metadata": {},
     "output_type": "execute_result"
    }
   ],
   "source": [
    "table = []\n",
    "\n",
    "for row in rows_as_lists:\n",
    "\n",
    "    processed_row = {\n",
    "        \"ord\": row[0],\n",
    "        \"antal förekomster\": int(row[1]), # Convert to integer\n",
    "        \"tfidf\": float(row[2]), # Convert to float\n",
    "        \"rättstavad\": bool(row[-1]), # Convert to boolean\n",
    "    }\n",
    "\n",
    "\n",
    "    table.append(processed_row)\n",
    "\n",
    "table"
   ]
  },
  {
   "cell_type": "markdown",
   "metadata": {},
   "source": [
    "Och vips har vi återfått vår ursprungliga representation!"
   ]
  },
  {
   "cell_type": "markdown",
   "metadata": {},
   "source": [
    "## Sammanfattning\n",
    "Sammanfattningsvis skall vi konvertera vår csv-skrivare och -läsare till funktioner, för framtida bruk!"
   ]
  },
  {
   "cell_type": "code",
   "execution_count": 29,
   "metadata": {},
   "outputs": [],
   "source": [
    "def csv_writer(table, filename):\n",
    "\n",
    "    with open(filename, 'w') as f:\n",
    "        for row in table:\n",
    "\n",
    "            string_to_write = str(row[\"ord\"]) + \",\" + str(row[\"antal förekomster\"]) + \",\" + str(row[\"tfidf\"]) + \",\" + str(row[\"rättstavad\"]) \n",
    "    \n",
    "            # Add a newline last\n",
    "            string_to_write += \"\\n\"\n",
    "\n",
    "            # Write a line\n",
    "            f.write(string_to_write)\n",
    "\n",
    "\n",
    "\n",
    "def csv_reader(filename):\n",
    "    \n",
    "    with open(filename, \"r\") as f:\n",
    "\n",
    "        strings_in_list = f.readlines()\n",
    "\n",
    "    table = []\n",
    "\n",
    "    # Iterate through the rows\n",
    "    for string in strings_in_list:\n",
    "\n",
    "        # Remove newline \n",
    "        string = string.replace(\"\\n\", \"\") # Replace the newline character with nothing\n",
    "\n",
    "        # Split at comma\n",
    "        row = string.split(\",\")\n",
    "\n",
    "        # Process and add to the new table\n",
    "        processed_row = {\n",
    "            \"ord\": row[0],\n",
    "            \"antal förekomster\": int(row[1]), # Convert to integer\n",
    "            \"tfidf\": float(row[2]), # Convert to float\n",
    "            \"rättstavad\": bool(row[-1]), # Convert to boolean\n",
    "        }\n",
    "\n",
    "        table.append(processed_row)\n",
    "\n",
    "    return table"
   ]
  },
  {
   "cell_type": "code",
   "execution_count": 30,
   "metadata": {},
   "outputs": [],
   "source": [
    "csv_writer(table, \"test.csv\")"
   ]
  },
  {
   "cell_type": "code",
   "execution_count": 31,
   "metadata": {},
   "outputs": [
    {
     "name": "stdout",
     "output_type": "stream",
     "text": [
      "[{'ord': 'rälsmarknad', 'antal förekomster': 4, 'tfidf': 14.18311444, 'rättstavad': True}, {'ord': 'verldsmarknad', 'antal förekomster': 11, 'tfidf': 10.78912178, 'rättstavad': True}, {'ord': 'bokmarknad', 'antal förekomster': 8, 'tfidf': 4.81071705, 'rättstavad': True}, {'ord': 'parisermarknad', 'antal förekomster': 1, 'tfidf': 3.951243719, 'rättstavad': True}, {'ord': 'penningemarknad', 'antal förekomster': 7, 'tfidf': 3.620795599, 'rättstavad': True}, {'ord': 'bokhandelsmarknad', 'antal förekomster': 1, 'tfidf': 3.034952987, 'rättstavad': True}, {'ord': 'egendomsmarknad', 'antal förekomster': 1, 'tfidf': 2.69848075, 'rättstavad': True}]\n"
     ]
    }
   ],
   "source": [
    "print(csv_reader(\"test.csv\"))"
   ]
  },
  {
   "cell_type": "markdown",
   "metadata": {},
   "source": [
    "Det finns givetvis jättemånga färdiga bibliotek för att läsa de vanligaste representationerna av data. Det är oftast enbart för ren text eller specialiserade applikationer man behöver skriva något själv. Ett exempel är just `pandas`, som lätt kan läsa csv-filer till tabulär data."
   ]
  },
  {
   "cell_type": "code",
   "execution_count": 36,
   "metadata": {},
   "outputs": [
    {
     "data": {
      "text/html": [
       "<div>\n",
       "<style scoped>\n",
       "    .dataframe tbody tr th:only-of-type {\n",
       "        vertical-align: middle;\n",
       "    }\n",
       "\n",
       "    .dataframe tbody tr th {\n",
       "        vertical-align: top;\n",
       "    }\n",
       "\n",
       "    .dataframe thead th {\n",
       "        text-align: right;\n",
       "    }\n",
       "</style>\n",
       "<table border=\"1\" class=\"dataframe\">\n",
       "  <thead>\n",
       "    <tr style=\"text-align: right;\">\n",
       "      <th></th>\n",
       "      <th>rälsmarknad</th>\n",
       "      <th>4</th>\n",
       "      <th>14.18311444</th>\n",
       "      <th>True</th>\n",
       "    </tr>\n",
       "  </thead>\n",
       "  <tbody>\n",
       "    <tr>\n",
       "      <th>0</th>\n",
       "      <td>verldsmarknad</td>\n",
       "      <td>11</td>\n",
       "      <td>10.789122</td>\n",
       "      <td>True</td>\n",
       "    </tr>\n",
       "    <tr>\n",
       "      <th>1</th>\n",
       "      <td>bokmarknad</td>\n",
       "      <td>8</td>\n",
       "      <td>4.810717</td>\n",
       "      <td>True</td>\n",
       "    </tr>\n",
       "    <tr>\n",
       "      <th>2</th>\n",
       "      <td>parisermarknad</td>\n",
       "      <td>1</td>\n",
       "      <td>3.951244</td>\n",
       "      <td>True</td>\n",
       "    </tr>\n",
       "    <tr>\n",
       "      <th>3</th>\n",
       "      <td>penningemarknad</td>\n",
       "      <td>7</td>\n",
       "      <td>3.620796</td>\n",
       "      <td>True</td>\n",
       "    </tr>\n",
       "    <tr>\n",
       "      <th>4</th>\n",
       "      <td>bokhandelsmarknad</td>\n",
       "      <td>1</td>\n",
       "      <td>3.034953</td>\n",
       "      <td>True</td>\n",
       "    </tr>\n",
       "    <tr>\n",
       "      <th>5</th>\n",
       "      <td>egendomsmarknad</td>\n",
       "      <td>1</td>\n",
       "      <td>2.698481</td>\n",
       "      <td>True</td>\n",
       "    </tr>\n",
       "  </tbody>\n",
       "</table>\n",
       "</div>"
      ],
      "text/plain": [
       "         rälsmarknad   4  14.18311444  True\n",
       "0      verldsmarknad  11    10.789122  True\n",
       "1         bokmarknad   8     4.810717  True\n",
       "2     parisermarknad   1     3.951244  True\n",
       "3    penningemarknad   7     3.620796  True\n",
       "4  bokhandelsmarknad   1     3.034953  True\n",
       "5    egendomsmarknad   1     2.698481  True"
      ]
     },
     "execution_count": 36,
     "metadata": {},
     "output_type": "execute_result"
    }
   ],
   "source": [
    "import pandas as pd\n",
    "\n",
    "pd.read_csv(\"test.csv\")"
   ]
  },
  {
   "cell_type": "markdown",
   "metadata": {},
   "source": [
    "Värt att observera är att denna lösning antar per default att det skall finnas metadatarubriker till varje kolumn."
   ]
  }
 ],
 "metadata": {
  "kernelspec": {
   "display_name": "Python 3.10.4 ('teaching')",
   "language": "python",
   "name": "python3"
  },
  "language_info": {
   "codemirror_mode": {
    "name": "ipython",
    "version": 3
   },
   "file_extension": ".py",
   "mimetype": "text/x-python",
   "name": "python",
   "nbconvert_exporter": "python",
   "pygments_lexer": "ipython3",
   "version": "3.10.4"
  },
  "orig_nbformat": 4,
  "vscode": {
   "interpreter": {
    "hash": "0e79bad72861022d3c6602e5c1fc0d128a7160c16fa8dc23e33c27176f214652"
   }
  }
 },
 "nbformat": 4,
 "nbformat_minor": 2
}
