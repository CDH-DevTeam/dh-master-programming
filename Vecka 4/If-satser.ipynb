{
 "cells": [
  {
   "cell_type": "markdown",
   "metadata": {},
   "source": [
    "# If-satser, betingningar och jämförelser\n",
    "\n",
    "\n",
    "Vi har hittills stiftat bekantskap med loopar som så kallat kontrollflöde - strukturer som styr vilken data som hamnar var. Den absolut viktigaste kontrollflödesstrukturen inom programmeringsspråk är emellertid *if-satsen*, som vi sett exempel på flera gånger. \n",
    "\n",
    "If-satser tillåter så kallad *conditioning*, eller *betingning*/*villkorning* på svenska. Detta vill säga är att viss kod endast genomförs om ett villkor är sant. Detta är en grundläggande byggsten för att hämta och behandla data - exempelvis filtrering av stora mängder data, transformation av värden som är inkorrekta eller säg att viss information endast är tillgänglig för en användare om denna är autentiserad. \n"
   ]
  },
  {
   "cell_type": "markdown",
   "metadata": {},
   "source": [
    "## Booleanska operatorer\n",
    "Booleanska operatorer är operatorer som på något vis producerar booleaner som output. Exempel på dessa är jämförelseoperatorerna för likhet `==`, olikhet `!=`, mindre än eller större än `<, >`, samt större än eller lika med och mindre än eller lika med `>= <=`. \n",
    "\n",
    "Vi har hittills också sett `and`, `or` samt `not`, som också räknas till denna grupp.\n",
    "\n",
    "Ytterligare en viktig operator är `in`, som testar om ett element återfinns i en lista.\n",
    "\n"
   ]
  },
  {
   "cell_type": "code",
   "execution_count": null,
   "metadata": {},
   "outputs": [],
   "source": [
    "if 54 > 10:\n",
    "    print(\"Allt i första uttrycket körs\")\n",
    "    \n",
    "if 54 < 10:\n",
    "    print(\"Men det här uttrycket körs inte\")"
   ]
  },
  {
   "cell_type": "markdown",
   "metadata": {},
   "source": [
    "Observera att liksom i funktionsdefinitioner är indraget obligatoriskt. Om det *booleanska uttrycket* gäller kommer allt i indraget att köras. Ponera att vi inte skulle känna till värdet på ``x``. Det är i dessa fall if-satser kommer till sin rätt."
   ]
  },
  {
   "cell_type": "code",
   "execution_count": 1,
   "metadata": {},
   "outputs": [
    {
     "name": "stdout",
     "output_type": "stream",
     "text": [
      "Värdet är större än 10!\n"
     ]
    }
   ],
   "source": [
    "x = 11\n",
    "\n",
    "if x > 10:\n",
    "    print(\"Värdet är större än 10!\")"
   ]
  },
  {
   "cell_type": "markdown",
   "metadata": {},
   "source": [
    "<img src=\"../bilder/flöde3.png\" width=\"500\" align=\"center\"/>"
   ]
  },
  {
   "cell_type": "markdown",
   "metadata": {},
   "source": [
    "Eftersom de booleanska uttrycken alltid returnerar sant eller falskt, kan man reducera ner alla if-satser till ``True`` eller ``False`` i Python."
   ]
  },
  {
   "cell_type": "code",
   "execution_count": 3,
   "metadata": {},
   "outputs": [
    {
     "name": "stdout",
     "output_type": "stream",
     "text": [
      "Om booleanen är sann körs uttrycken.\n"
     ]
    }
   ],
   "source": [
    "if True:\n",
    "    print(\"Om booleanen är sann körs uttrycken.\")\n",
    "\n",
    "if False:\n",
    "    print(\"Om booleanen är falsk körs uttrycken inte.\")"
   ]
  },
  {
   "cell_type": "code",
   "execution_count": 10,
   "metadata": {},
   "outputs": [
    {
     "name": "stdout",
     "output_type": "stream",
     "text": [
      "Båda uttryck är sanna.\n",
      "Något uttryck är sant. Vilket?\n"
     ]
    }
   ],
   "source": [
    "if (6 > 5) and (8/2 == 4):\n",
    "    print(\"Båda uttryck är sanna.\")\n",
    "    \n",
    "if (\"ost\" == \"Ost\") or (13*4 > 4):\n",
    "    print(\"Något uttryck är sant. Vilket?\")\n",
    "    \n",
    "if (1 > 2) and (2 > 3):\n",
    "    print(\"Här är inget uttryck sant, så det skrivs inte ut.\")"
   ]
  },
  {
   "cell_type": "markdown",
   "metadata": {},
   "source": [
    "Det är viktigt att förstå att liksom när vi kallar på en funktion, så kan vi använda resultatet av ett booleanskt uttryck som värde, och sätta det till en variabel."
   ]
  },
  {
   "cell_type": "code",
   "execution_count": 11,
   "metadata": {},
   "outputs": [
    {
     "name": "stdout",
     "output_type": "stream",
     "text": [
      "True\n"
     ]
    }
   ],
   "source": [
    "boolean_expression = 13*4 > 4 # Is either True or False\n",
    "\n",
    "print(boolean_expression)"
   ]
  },
  {
   "cell_type": "markdown",
   "metadata": {},
   "source": [
    "## Exempel: Bränslevarningar\n",
    "Vi betraktar nu fallet att värdet på en variabel är okänt, och vi vill göra olika saker beroende på dess värde. Ett exempelvis är en bil som visar olika varningar beroende på bränslenivån. Vi introducerar också nyckelordet ``pass`` som bokstavligt talat säger till datorn att hoppa över den raden."
   ]
  },
  {
   "cell_type": "code",
   "execution_count": 5,
   "metadata": {},
   "outputs": [
    {
     "name": "stdout",
     "output_type": "stream",
     "text": [
      "Orange varning. Du borde tanka snarast.\n",
      "Gul varning. Du har förbrukat en del bränsle. Dags att tanka.\n"
     ]
    }
   ],
   "source": [
    "fuel_level = 10\n",
    "\n",
    "if fuel_level == 0: \n",
    "    print(\"Röd varning! Du har väldigt lite bränsle!\")\n",
    "\n",
    "if fuel_level < 15:\n",
    "    print(\"Orange varning. Du borde tanka snarast.\")\n",
    "    \n",
    "if fuel_level < 30:\n",
    "    print(\"Gul varning. Du har förbrukat en del bränsle. Dags att tanka.\")\n",
    "    \n",
    "if fuel_level > 30:\n",
    "    pass"
   ]
  },
  {
   "cell_type": "markdown",
   "metadata": {},
   "source": [
    "Aj då. Två varningar är ju inte hjälpsamt. Nu vet vi att värdet är mellan 5 och 15, men vi vill ju bara ha en varning. Nu körs alla if-satser, men om en av dem exekverat behöver ju resten inte köras. Därför används ofta \"if-else if-else\" satser:"
   ]
  },
  {
   "cell_type": "markdown",
   "metadata": {},
   "source": [
    "\n",
    "## *if-elif-else*-satser\n",
    "``elif`` eller \"else-if\" körs i ordning efter första if-satsen, och endast en sats exekveras. Om det booleanska uttrycket är falskt går det vidare till nästa ``elif`` tills någon är sann eller satserna är slut. Man kan göra villkoren lite säkrare genom att introducera \"else\", som alltid körs sist:"
   ]
  },
  {
   "cell_type": "code",
   "execution_count": 7,
   "metadata": {},
   "outputs": [
    {
     "name": "stdout",
     "output_type": "stream",
     "text": [
      "Värdet är mindre än 10!\n"
     ]
    }
   ],
   "source": [
    "x = 9\n",
    "\n",
    "if x > 10:\n",
    "    print('Värdet är större än 10!')\n",
    "    \n",
    "elif x < 10:\n",
    "    print('Värdet är mindre än 10!')"
   ]
  },
  {
   "cell_type": "markdown",
   "metadata": {},
   "source": [
    "<img src=\"../bilder/flöde4.png\" width=\"700\" align=\"center\"/>"
   ]
  },
  {
   "cell_type": "code",
   "execution_count": 8,
   "metadata": {},
   "outputs": [
    {
     "name": "stdout",
     "output_type": "stream",
     "text": [
      "Det här skrivs ut i alla fall som inte täcks av de första.\n"
     ]
    }
   ],
   "source": [
    "x = 10\n",
    "\n",
    "if x > 10:\n",
    "    print('Värdet är större än 10!')\n",
    "    \n",
    "elif x < 10:\n",
    "    print('Värdet är mindre än 10!')\n",
    "    \n",
    "else:\n",
    "    print('Det här skrivs ut i alla fall som inte täcks av de första.')"
   ]
  },
  {
   "cell_type": "markdown",
   "metadata": {},
   "source": [
    "<img src=\"../bilder/flöde5.png\" width=\"700\" align=\"center\"/>"
   ]
  },
  {
   "cell_type": "markdown",
   "metadata": {},
   "source": [
    "Slutligen kan vi alltså definiera ett helt säkert exempel. Vi använder ``and`` för att säkerställa att bränslenivån är ett positivt tal, eftersom något annat vore orimligt. I det fall att bränslenivån är negativ, täcks det av den sista ``else``-satsen."
   ]
  },
  {
   "cell_type": "code",
   "execution_count": 9,
   "metadata": {},
   "outputs": [
    {
     "name": "stdout",
     "output_type": "stream",
     "text": [
      "Röd varning! Du har väldigt lite bränsle!\n"
     ]
    }
   ],
   "source": [
    "fuel_level = 0\n",
    "\n",
    "# if fuel_level == 0:\n",
    "#     print(\"Du har ingen bensin. Tufft läge.\")\n",
    "\n",
    "if ((fuel_level > 0) and (fuel_level < 10)) or (fuel_level == 0): \n",
    "    print(\"Röd varning! Du har väldigt lite bränsle!\")\n",
    "\n",
    "elif (fuel_level > 0) and (fuel_level < 15):\n",
    "    print(\"Orange varning. Du borde tanka snarast.\")\n",
    "    \n",
    "elif (fuel_level > 0) and (fuel_level < 30):\n",
    "    print(\"Gul varning. Du har förbrukat en del bränsle. Dags att tanka.\")\n",
    "    \n",
    "elif (fuel_level > 0) and (fuel_level > 30):\n",
    "    pass\n",
    "\n",
    "else:\n",
    "    print(\"Bränslenivån måste vara ett positivt tal.\")"
   ]
  },
  {
   "cell_type": "markdown",
   "metadata": {},
   "source": [
    "## Operatorn *in*\n",
    "\n",
    "Den booleanska operatorn *in* är väldigt användbar i Python, som är så väldigt uppbyggt på listor. Denna testar om ett element befinner sig i en lista, samt om en karaktär (bokstav) eller sträng finns i en annan sträng."
   ]
  },
  {
   "cell_type": "code",
   "execution_count": 1,
   "metadata": {},
   "outputs": [
    {
     "name": "stdout",
     "output_type": "stream",
     "text": [
      "Found it!\n"
     ]
    }
   ],
   "source": [
    "names = ['Leia', 'Rey', 'Obi-Wan', 'Leia', 'Maul', 'C-3PO', 'Maul', 'Luke', 'Yoda', 'Leia', 'Grogu']\n",
    "\n",
    "if \"Obi-Wan\" in names:\n",
    "    print(\"Found it!\")"
   ]
  },
  {
   "cell_type": "code",
   "execution_count": 5,
   "metadata": {},
   "outputs": [
    {
     "name": "stdout",
     "output_type": "stream",
     "text": [
      "Ordet hittades inte.\n"
     ]
    }
   ],
   "source": [
    "boye = \"vi är din skara som du svek herre förtrösta bjöd du och det blev värre ur ondskans dimmor steg ingen ljusning ur tordönet ingen sakta susning vi skalv i öknen övergivna med hårda bud i sten skrivna de blev oss bröd de blev oss vatten men kring vår fromhet teg natten vi drog längs vägarna gudsslagna budbärare i eld tvagna dom och soning så bjöd rösten och domen sannades men aldrig trösten vi sjöng i markerna i jubel vända mot nya stjärnor till tecken tända o dröm o hopp vad du flöt rikligt o löftens löfte så stort och svikligt en bön en enda återstår oss slå ännu hårdare du som slår oss vik samman rummet och släck tiden förgör allt och skapa friden hur länge än hur länge än hur länge än förinta oss förinta oss\"\n",
    "\n",
    "x = \"dator\"\n",
    "\n",
    "if x in boye:\n",
    "    \n",
    "    print('Följande ord finns:')\n",
    "    print(x)\n",
    "    \n",
    "else:\n",
    "    \n",
    "    print('Ordet hittades inte.')"
   ]
  },
  {
   "cell_type": "markdown",
   "metadata": {},
   "source": [
    "Vi demonstrerar genom att skriva en funktion som söker efter en träff i en lista och räknar antalet träffar om den hittar något. Observera att den endast fungerar på listor, inte på en sträng, då strängar rent strikt inte har element."
   ]
  },
  {
   "cell_type": "code",
   "execution_count": 3,
   "metadata": {},
   "outputs": [
    {
     "name": "stdout",
     "output_type": "stream",
     "text": [
      "1\n"
     ]
    }
   ],
   "source": [
    "def search(query, names):\n",
    "\n",
    "    # Number of hits in the data\n",
    "    n_hits = 0\n",
    "\n",
    "    # First check if the name is in the data at all.\n",
    "    # if not, we don't have to bother looping through\n",
    "    if query in names:\n",
    "\n",
    "        for name in names:\n",
    "            \n",
    "            # We found it! Increment hits by 1\n",
    "            if query == name:\n",
    "                n_hits = n_hits + 1\n",
    "\n",
    "    return n_hits\n",
    "\n",
    "\n",
    "result = search(\"Obi-Wan\", names)\n",
    "\n",
    "print(result)"
   ]
  },
  {
   "cell_type": "markdown",
   "metadata": {},
   "source": []
  }
 ],
 "metadata": {
  "kernelspec": {
   "display_name": "Python 3.10.4 ('teaching')",
   "language": "python",
   "name": "python3"
  },
  "language_info": {
   "codemirror_mode": {
    "name": "ipython",
    "version": 3
   },
   "file_extension": ".py",
   "mimetype": "text/x-python",
   "name": "python",
   "nbconvert_exporter": "python",
   "pygments_lexer": "ipython3",
   "version": "3.10.4"
  },
  "orig_nbformat": 4,
  "vscode": {
   "interpreter": {
    "hash": "0e79bad72861022d3c6602e5c1fc0d128a7160c16fa8dc23e33c27176f214652"
   }
  }
 },
 "nbformat": 4,
 "nbformat_minor": 2
}
